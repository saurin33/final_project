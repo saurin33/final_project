{
 "cells": [
  {
   "cell_type": "code",
   "execution_count": 109,
   "metadata": {},
   "outputs": [],
   "source": [
    "import pandas as pd\n",
    "import numpy as np\n",
    "import matplotlib.pyplot as plt\n",
    "import seaborn as sns\n",
    "from textblob import TextBlob\n",
    "from wordcloud import WordCloud\n",
    "from wordcloud import STOPWORDS\n",
    "from langdetect import detect_langs\n",
    "from sklearn.feature_extraction.text import CountVectorizer, TfidfVectorizer, ENGLISH_STOP_WORDS\n",
    "from sklearn.linear_model import LogisticRegression\n",
    "from sklearn.metrics import confusion_matrix, classification_report, accuracy_score\n",
    "from sklearn.model_selection import train_test_split\n",
    "%matplotlib inline\n",
    "from nltk import word_tokenize\n",
    "from nltk.stem import PorterStemmer,WordNetLemmatizer\n",
    "import spacy\n",
    "from sklearn.ensemble import RandomForestClassifier\n",
    "from sklearn.pipeline import Pipeline\n",
    "from sklearn.feature_extraction.text import TfidfTransformer\n",
    "from sklearn.metrics import roc_curve, roc_auc_score\n",
    "from sklearn.model_selection import GridSearchCV"
   ]
  },
  {
   "cell_type": "code",
   "execution_count": 2,
   "metadata": {},
   "outputs": [
    {
     "name": "stderr",
     "output_type": "stream",
     "text": [
      "/opt/anaconda3/lib/python3.7/site-packages/IPython/core/interactiveshell.py:3058: DtypeWarning: Columns (1) have mixed types.Specify dtype option on import or set low_memory=False.\n",
      "  interactivity=interactivity, compiler=compiler, result=result)\n"
     ]
    }
   ],
   "source": [
    "df = pd.read_csv('ratebeer.csv')"
   ]
  },
  {
   "cell_type": "code",
   "execution_count": 3,
   "metadata": {},
   "outputs": [
    {
     "data": {
      "text/html": [
       "<div>\n",
       "<style scoped>\n",
       "    .dataframe tbody tr th:only-of-type {\n",
       "        vertical-align: middle;\n",
       "    }\n",
       "\n",
       "    .dataframe tbody tr th {\n",
       "        vertical-align: top;\n",
       "    }\n",
       "\n",
       "    .dataframe thead th {\n",
       "        text-align: right;\n",
       "    }\n",
       "</style>\n",
       "<table border=\"1\" class=\"dataframe\">\n",
       "  <thead>\n",
       "    <tr style=\"text-align: right;\">\n",
       "      <th></th>\n",
       "      <th>name</th>\n",
       "      <th>id</th>\n",
       "      <th>brewerID</th>\n",
       "      <th>abv</th>\n",
       "      <th>style</th>\n",
       "      <th>appearance</th>\n",
       "      <th>aroma</th>\n",
       "      <th>palate</th>\n",
       "      <th>taste</th>\n",
       "      <th>overall</th>\n",
       "      <th>time</th>\n",
       "      <th>profileName</th>\n",
       "      <th>reviewtext</th>\n",
       "    </tr>\n",
       "  </thead>\n",
       "  <tbody>\n",
       "    <tr>\n",
       "      <th>0</th>\n",
       "      <td>John Harvards Simcoe IPA</td>\n",
       "      <td>63836</td>\n",
       "      <td>8481</td>\n",
       "      <td>5.4</td>\n",
       "      <td>India Pale Ale &amp;#40;IPA&amp;#41;</td>\n",
       "      <td>5-Apr</td>\n",
       "      <td>10-Jun</td>\n",
       "      <td>5-Mar</td>\n",
       "      <td>10-Jun</td>\n",
       "      <td>13/20</td>\n",
       "      <td>1157587200</td>\n",
       "      <td>hopdog</td>\n",
       "      <td>On tap at the Springfield, PA location. Poured...</td>\n",
       "    </tr>\n",
       "    <tr>\n",
       "      <th>1</th>\n",
       "      <td>John Harvards Simcoe IPA</td>\n",
       "      <td>63836</td>\n",
       "      <td>8481</td>\n",
       "      <td>5.4</td>\n",
       "      <td>India Pale Ale &amp;#40;IPA&amp;#41;</td>\n",
       "      <td>5-Apr</td>\n",
       "      <td>10-Jun</td>\n",
       "      <td>5-Apr</td>\n",
       "      <td>10-Jul</td>\n",
       "      <td>13/20</td>\n",
       "      <td>1157241600</td>\n",
       "      <td>TomDecapolis</td>\n",
       "      <td>On tap at the John Harvards in Springfield PA....</td>\n",
       "    </tr>\n",
       "    <tr>\n",
       "      <th>2</th>\n",
       "      <td>John Harvards Cristal Pilsner</td>\n",
       "      <td>71716</td>\n",
       "      <td>8481</td>\n",
       "      <td>5</td>\n",
       "      <td>Bohemian Pilsener</td>\n",
       "      <td>5-Apr</td>\n",
       "      <td>10-May</td>\n",
       "      <td>5-Mar</td>\n",
       "      <td>10-Jun</td>\n",
       "      <td>14/20</td>\n",
       "      <td>958694400</td>\n",
       "      <td>PhillyBeer2112</td>\n",
       "      <td>UPDATED: FEB 19, 2003 Springfield, PA. I've ne...</td>\n",
       "    </tr>\n",
       "    <tr>\n",
       "      <th>3</th>\n",
       "      <td>John Harvards Fancy Lawnmower Beer</td>\n",
       "      <td>64125</td>\n",
       "      <td>8481</td>\n",
       "      <td>5.4</td>\n",
       "      <td>Kölsch</td>\n",
       "      <td>5-Feb</td>\n",
       "      <td>10-Apr</td>\n",
       "      <td>5-Feb</td>\n",
       "      <td>10-Apr</td>\n",
       "      <td>20-Aug</td>\n",
       "      <td>1157587200</td>\n",
       "      <td>TomDecapolis</td>\n",
       "      <td>On tap the Springfield PA location billed as t...</td>\n",
       "    </tr>\n",
       "    <tr>\n",
       "      <th>4</th>\n",
       "      <td>John Harvards Fancy Lawnmower Beer</td>\n",
       "      <td>64125</td>\n",
       "      <td>8481</td>\n",
       "      <td>5.4</td>\n",
       "      <td>Kölsch</td>\n",
       "      <td>5-Feb</td>\n",
       "      <td>10-Apr</td>\n",
       "      <td>5-Feb</td>\n",
       "      <td>10-Apr</td>\n",
       "      <td>20-Aug</td>\n",
       "      <td>1157587200</td>\n",
       "      <td>hopdog</td>\n",
       "      <td>On tap at the Springfield, PA location. Poured...</td>\n",
       "    </tr>\n",
       "  </tbody>\n",
       "</table>\n",
       "</div>"
      ],
      "text/plain": [
       "                                 name     id  brewerID  abv  \\\n",
       "0            John Harvards Simcoe IPA  63836      8481  5.4   \n",
       "1            John Harvards Simcoe IPA  63836      8481  5.4   \n",
       "2       John Harvards Cristal Pilsner  71716      8481    5   \n",
       "3  John Harvards Fancy Lawnmower Beer  64125      8481  5.4   \n",
       "4  John Harvards Fancy Lawnmower Beer  64125      8481  5.4   \n",
       "\n",
       "                          style appearance   aroma palate   taste overall  \\\n",
       "0  India Pale Ale &#40;IPA&#41;      5-Apr  10-Jun  5-Mar  10-Jun   13/20   \n",
       "1  India Pale Ale &#40;IPA&#41;      5-Apr  10-Jun  5-Apr  10-Jul   13/20   \n",
       "2             Bohemian Pilsener      5-Apr  10-May  5-Mar  10-Jun   14/20   \n",
       "3                        Kölsch      5-Feb  10-Apr  5-Feb  10-Apr  20-Aug   \n",
       "4                        Kölsch      5-Feb  10-Apr  5-Feb  10-Apr  20-Aug   \n",
       "\n",
       "         time     profileName  \\\n",
       "0  1157587200          hopdog   \n",
       "1  1157241600    TomDecapolis   \n",
       "2   958694400  PhillyBeer2112   \n",
       "3  1157587200    TomDecapolis   \n",
       "4  1157587200          hopdog   \n",
       "\n",
       "                                          reviewtext  \n",
       "0  On tap at the Springfield, PA location. Poured...  \n",
       "1  On tap at the John Harvards in Springfield PA....  \n",
       "2  UPDATED: FEB 19, 2003 Springfield, PA. I've ne...  \n",
       "3  On tap the Springfield PA location billed as t...  \n",
       "4  On tap at the Springfield, PA location. Poured...  "
      ]
     },
     "execution_count": 3,
     "metadata": {},
     "output_type": "execute_result"
    }
   ],
   "source": [
    "df.head()"
   ]
  },
  {
   "cell_type": "code",
   "execution_count": 4,
   "metadata": {},
   "outputs": [
    {
     "data": {
      "text/plain": [
       "(262144, 13)"
      ]
     },
     "execution_count": 4,
     "metadata": {},
     "output_type": "execute_result"
    }
   ],
   "source": [
    "df_1 = df.sample(frac=0.25)\n",
    "df_1.shape"
   ]
  },
  {
   "cell_type": "code",
   "execution_count": 5,
   "metadata": {},
   "outputs": [
    {
     "data": {
      "text/plain": [
       "(52429, 13)"
      ]
     },
     "execution_count": 5,
     "metadata": {},
     "output_type": "execute_result"
    }
   ],
   "source": [
    "df_2 = df.sample(frac=0.05)\n",
    "df_2.shape"
   ]
  },
  {
   "cell_type": "code",
   "execution_count": 6,
   "metadata": {},
   "outputs": [
    {
     "data": {
      "text/html": [
       "<div>\n",
       "<style scoped>\n",
       "    .dataframe tbody tr th:only-of-type {\n",
       "        vertical-align: middle;\n",
       "    }\n",
       "\n",
       "    .dataframe tbody tr th {\n",
       "        vertical-align: top;\n",
       "    }\n",
       "\n",
       "    .dataframe thead th {\n",
       "        text-align: right;\n",
       "    }\n",
       "</style>\n",
       "<table border=\"1\" class=\"dataframe\">\n",
       "  <thead>\n",
       "    <tr style=\"text-align: right;\">\n",
       "      <th></th>\n",
       "      <th>name</th>\n",
       "      <th>reviewtext</th>\n",
       "    </tr>\n",
       "  </thead>\n",
       "  <tbody>\n",
       "    <tr>\n",
       "      <th>743689</th>\n",
       "      <td>Mac and Jacks African Amber Ale</td>\n",
       "      <td>From a growler. Fruity aroma. Taste is fruity ...</td>\n",
       "    </tr>\n",
       "    <tr>\n",
       "      <th>178468</th>\n",
       "      <td>Tyranena BGW Hop Whore Imperial India Pale Ale</td>\n",
       "      <td>Golden, thin head. Soft aroma, hops, honey, fl...</td>\n",
       "    </tr>\n",
       "    <tr>\n",
       "      <th>256816</th>\n",
       "      <td>Stone 15th Anniversary Escondidian Imperial Bl...</td>\n",
       "      <td>I Love it man.  Need a walk in the woods, drin...</td>\n",
       "    </tr>\n",
       "    <tr>\n",
       "      <th>439353</th>\n",
       "      <td>Alhambra Negra</td>\n",
       "      <td>In the bottle at Espana tapas bar in Benson. P...</td>\n",
       "    </tr>\n",
       "    <tr>\n",
       "      <th>485245</th>\n",
       "      <td>Ballast Point Tongue Monster</td>\n",
       "      <td>Served on tap at the Linda Vista location duri...</td>\n",
       "    </tr>\n",
       "  </tbody>\n",
       "</table>\n",
       "</div>"
      ],
      "text/plain": [
       "                                                     name  \\\n",
       "743689                    Mac and Jacks African Amber Ale   \n",
       "178468     Tyranena BGW Hop Whore Imperial India Pale Ale   \n",
       "256816  Stone 15th Anniversary Escondidian Imperial Bl...   \n",
       "439353                                     Alhambra Negra   \n",
       "485245                       Ballast Point Tongue Monster   \n",
       "\n",
       "                                               reviewtext  \n",
       "743689  From a growler. Fruity aroma. Taste is fruity ...  \n",
       "178468  Golden, thin head. Soft aroma, hops, honey, fl...  \n",
       "256816  I Love it man.  Need a walk in the woods, drin...  \n",
       "439353  In the bottle at Espana tapas bar in Benson. P...  \n",
       "485245  Served on tap at the Linda Vista location duri...  "
      ]
     },
     "execution_count": 6,
     "metadata": {},
     "output_type": "execute_result"
    }
   ],
   "source": [
    "df_3 = df_2[['name', 'reviewtext']]\n",
    "df_3.head()"
   ]
  },
  {
   "cell_type": "code",
   "execution_count": 7,
   "metadata": {},
   "outputs": [
    {
     "data": {
      "text/html": [
       "<div>\n",
       "<style scoped>\n",
       "    .dataframe tbody tr th:only-of-type {\n",
       "        vertical-align: middle;\n",
       "    }\n",
       "\n",
       "    .dataframe tbody tr th {\n",
       "        vertical-align: top;\n",
       "    }\n",
       "\n",
       "    .dataframe thead th {\n",
       "        text-align: right;\n",
       "    }\n",
       "</style>\n",
       "<table border=\"1\" class=\"dataframe\">\n",
       "  <thead>\n",
       "    <tr style=\"text-align: right;\">\n",
       "      <th></th>\n",
       "      <th>name</th>\n",
       "      <th>review</th>\n",
       "      <th>length</th>\n",
       "    </tr>\n",
       "  </thead>\n",
       "  <tbody>\n",
       "    <tr>\n",
       "      <th>743689</th>\n",
       "      <td>Mac and Jacks African Amber Ale</td>\n",
       "      <td>From a growler. Fruity aroma. Taste is fruity ...</td>\n",
       "      <td>112.0</td>\n",
       "    </tr>\n",
       "    <tr>\n",
       "      <th>178468</th>\n",
       "      <td>Tyranena BGW Hop Whore Imperial India Pale Ale</td>\n",
       "      <td>Golden, thin head. Soft aroma, hops, honey, fl...</td>\n",
       "      <td>152.0</td>\n",
       "    </tr>\n",
       "    <tr>\n",
       "      <th>256816</th>\n",
       "      <td>Stone 15th Anniversary Escondidian Imperial Bl...</td>\n",
       "      <td>I Love it man.  Need a walk in the woods, drin...</td>\n",
       "      <td>494.0</td>\n",
       "    </tr>\n",
       "    <tr>\n",
       "      <th>439353</th>\n",
       "      <td>Alhambra Negra</td>\n",
       "      <td>In the bottle at Espana tapas bar in Benson. P...</td>\n",
       "      <td>373.0</td>\n",
       "    </tr>\n",
       "    <tr>\n",
       "      <th>485245</th>\n",
       "      <td>Ballast Point Tongue Monster</td>\n",
       "      <td>Served on tap at the Linda Vista location duri...</td>\n",
       "      <td>397.0</td>\n",
       "    </tr>\n",
       "  </tbody>\n",
       "</table>\n",
       "</div>"
      ],
      "text/plain": [
       "                                                     name  \\\n",
       "743689                    Mac and Jacks African Amber Ale   \n",
       "178468     Tyranena BGW Hop Whore Imperial India Pale Ale   \n",
       "256816  Stone 15th Anniversary Escondidian Imperial Bl...   \n",
       "439353                                     Alhambra Negra   \n",
       "485245                       Ballast Point Tongue Monster   \n",
       "\n",
       "                                                   review  length  \n",
       "743689  From a growler. Fruity aroma. Taste is fruity ...   112.0  \n",
       "178468  Golden, thin head. Soft aroma, hops, honey, fl...   152.0  \n",
       "256816  I Love it man.  Need a walk in the woods, drin...   494.0  \n",
       "439353  In the bottle at Espana tapas bar in Benson. P...   373.0  \n",
       "485245  Served on tap at the Linda Vista location duri...   397.0  "
      ]
     },
     "execution_count": 7,
     "metadata": {},
     "output_type": "execute_result"
    }
   ],
   "source": [
    "df_3 = df_3.rename(columns={'reviewtext': 'review'})\n",
    "\n",
    "# length of the reviews\n",
    "length_reviews = df_3.review.str.len()\n",
    "df_3['length'] = length_reviews\n",
    "df_3.head()"
   ]
  },
  {
   "cell_type": "code",
   "execution_count": 8,
   "metadata": {},
   "outputs": [
    {
     "name": "stdout",
     "output_type": "stream",
     "text": [
      "Average Length: 308.6346253032532\n"
     ]
    }
   ],
   "source": [
    "avg_length = df_3.length.mean()\n",
    "print('Average Length: {}'.format(avg_length))"
   ]
  },
  {
   "cell_type": "code",
   "execution_count": 9,
   "metadata": {},
   "outputs": [
    {
     "name": "stdout",
     "output_type": "stream",
     "text": [
      "Longest Review: 4009.0\n",
      "Shortest Review: 4.0\n"
     ]
    }
   ],
   "source": [
    "longest_review = df_3['length'].max()\n",
    "shortest_review = df_3['length'].min()\n",
    "print('Longest Review: {}'.format(longest_review))\n",
    "print('Shortest Review: {}'.format(shortest_review))"
   ]
  },
  {
   "cell_type": "code",
   "execution_count": 10,
   "metadata": {},
   "outputs": [
    {
     "data": {
      "text/html": [
       "<div>\n",
       "<style scoped>\n",
       "    .dataframe tbody tr th:only-of-type {\n",
       "        vertical-align: middle;\n",
       "    }\n",
       "\n",
       "    .dataframe tbody tr th {\n",
       "        vertical-align: top;\n",
       "    }\n",
       "\n",
       "    .dataframe thead th {\n",
       "        text-align: right;\n",
       "    }\n",
       "</style>\n",
       "<table border=\"1\" class=\"dataframe\">\n",
       "  <thead>\n",
       "    <tr style=\"text-align: right;\">\n",
       "      <th></th>\n",
       "      <th>name</th>\n",
       "      <th>review</th>\n",
       "      <th>length</th>\n",
       "    </tr>\n",
       "  </thead>\n",
       "  <tbody>\n",
       "    <tr>\n",
       "      <th>251494</th>\n",
       "      <td>Stone Bourbon Barrel Russian Imperial Stout</td>\n",
       "      <td>May 2008 Release; Sampled June 2008\\tA careful...</td>\n",
       "      <td>4009.0</td>\n",
       "    </tr>\n",
       "    <tr>\n",
       "      <th>240479</th>\n",
       "      <td>Stone Old Guardian &amp;#40;Vintages through 2003&amp;...</td>\n",
       "      <td>UPDATED: OCT 12, 2008 Name: Old Guardian\\tDate...</td>\n",
       "      <td>3854.0</td>\n",
       "    </tr>\n",
       "    <tr>\n",
       "      <th>325890</th>\n",
       "      <td>Coronado Hoppy Daze IPA</td>\n",
       "      <td>A solid pour into my 25cl tulip glass produces...</td>\n",
       "      <td>3241.0</td>\n",
       "    </tr>\n",
       "    <tr>\n",
       "      <th>265101</th>\n",
       "      <td>Stone Old Guardian &amp;#40;Vintages 2004 and late...</td>\n",
       "      <td>UPDATED: NOV 1, 2007 Early 2007 Release\\tAfter...</td>\n",
       "      <td>3232.0</td>\n",
       "    </tr>\n",
       "    <tr>\n",
       "      <th>922901</th>\n",
       "      <td>BFM Cuvée du 8ème</td>\n",
       "      <td>UPDATED: JUN 15, 2010 Sampled on tap April 201...</td>\n",
       "      <td>3005.0</td>\n",
       "    </tr>\n",
       "  </tbody>\n",
       "</table>\n",
       "</div>"
      ],
      "text/plain": [
       "                                                     name  \\\n",
       "251494        Stone Bourbon Barrel Russian Imperial Stout   \n",
       "240479  Stone Old Guardian &#40;Vintages through 2003&...   \n",
       "325890                            Coronado Hoppy Daze IPA   \n",
       "265101  Stone Old Guardian &#40;Vintages 2004 and late...   \n",
       "922901                                  BFM Cuvée du 8ème   \n",
       "\n",
       "                                                   review  length  \n",
       "251494  May 2008 Release; Sampled June 2008\\tA careful...  4009.0  \n",
       "240479  UPDATED: OCT 12, 2008 Name: Old Guardian\\tDate...  3854.0  \n",
       "325890  A solid pour into my 25cl tulip glass produces...  3241.0  \n",
       "265101  UPDATED: NOV 1, 2007 Early 2007 Release\\tAfter...  3232.0  \n",
       "922901  UPDATED: JUN 15, 2010 Sampled on tap April 201...  3005.0  "
      ]
     },
     "execution_count": 10,
     "metadata": {},
     "output_type": "execute_result"
    }
   ],
   "source": [
    "df_4 = df_3.sort_values(by=['length'], ascending=False)\n",
    "df_4.head()"
   ]
  },
  {
   "cell_type": "code",
   "execution_count": 11,
   "metadata": {},
   "outputs": [
    {
     "data": {
      "text/html": [
       "<div>\n",
       "<style scoped>\n",
       "    .dataframe tbody tr th:only-of-type {\n",
       "        vertical-align: middle;\n",
       "    }\n",
       "\n",
       "    .dataframe tbody tr th {\n",
       "        vertical-align: top;\n",
       "    }\n",
       "\n",
       "    .dataframe thead th {\n",
       "        text-align: right;\n",
       "    }\n",
       "</style>\n",
       "<table border=\"1\" class=\"dataframe\">\n",
       "  <thead>\n",
       "    <tr style=\"text-align: right;\">\n",
       "      <th></th>\n",
       "      <th>name</th>\n",
       "      <th>review</th>\n",
       "      <th>length</th>\n",
       "    </tr>\n",
       "  </thead>\n",
       "  <tbody>\n",
       "    <tr>\n",
       "      <th>523055</th>\n",
       "      <td>Coney Island Albino Python</td>\n",
       "      <td>Experienced from a 12oz bottle in a pub glass....</td>\n",
       "      <td>603.0</td>\n",
       "    </tr>\n",
       "    <tr>\n",
       "      <th>965308</th>\n",
       "      <td>Berg Radler</td>\n",
       "      <td>bottle. Clear pale yellow, medium-sized head. ...</td>\n",
       "      <td>122.0</td>\n",
       "    </tr>\n",
       "    <tr>\n",
       "      <th>489356</th>\n",
       "      <td>Bischoff Falkensteiner Ur-Weisse</td>\n",
       "      <td>Bischoff Ur-weisse pours a thick cloudy orange...</td>\n",
       "      <td>1172.0</td>\n",
       "    </tr>\n",
       "    <tr>\n",
       "      <th>449981</th>\n",
       "      <td>Rock Bottom Portland Maude Flanders</td>\n",
       "      <td>Had this on tap at the 2nd anniv. of Baileys T...</td>\n",
       "      <td>401.0</td>\n",
       "    </tr>\n",
       "    <tr>\n",
       "      <th>714903</th>\n",
       "      <td>Steam Whistle Pilsner</td>\n",
       "      <td>Golden yellow, slightly sweet grassy aroma. Re...</td>\n",
       "      <td>180.0</td>\n",
       "    </tr>\n",
       "  </tbody>\n",
       "</table>\n",
       "</div>"
      ],
      "text/plain": [
       "                                       name  \\\n",
       "523055          Coney Island Albino Python    \n",
       "965308                          Berg Radler   \n",
       "489356     Bischoff Falkensteiner Ur-Weisse   \n",
       "449981  Rock Bottom Portland Maude Flanders   \n",
       "714903                Steam Whistle Pilsner   \n",
       "\n",
       "                                                   review  length  \n",
       "523055  Experienced from a 12oz bottle in a pub glass....   603.0  \n",
       "965308  bottle. Clear pale yellow, medium-sized head. ...   122.0  \n",
       "489356  Bischoff Ur-weisse pours a thick cloudy orange...  1172.0  \n",
       "449981  Had this on tap at the 2nd anniv. of Baileys T...   401.0  \n",
       "714903  Golden yellow, slightly sweet grassy aroma. Re...   180.0  "
      ]
     },
     "execution_count": 11,
     "metadata": {},
     "output_type": "execute_result"
    }
   ],
   "source": [
    "reviews = df_4.sample(frac=0.50)\n",
    "reviews.head()"
   ]
  },
  {
   "cell_type": "code",
   "execution_count": 12,
   "metadata": {},
   "outputs": [
    {
     "name": "stdout",
     "output_type": "stream",
     "text": [
      "<class 'pandas.core.frame.DataFrame'>\n",
      "Int64Index: 26214 entries, 523055 to 414116\n",
      "Data columns (total 3 columns):\n",
      " #   Column  Non-Null Count  Dtype  \n",
      "---  ------  --------------  -----  \n",
      " 0   name    26214 non-null  object \n",
      " 1   review  26168 non-null  object \n",
      " 2   length  26168 non-null  float64\n",
      "dtypes: float64(1), object(2)\n",
      "memory usage: 819.2+ KB\n"
     ]
    }
   ],
   "source": [
    "reviews.info()"
   ]
  },
  {
   "cell_type": "code",
   "execution_count": 13,
   "metadata": {},
   "outputs": [],
   "source": [
    "review = str(reviews.review)"
   ]
  },
  {
   "cell_type": "code",
   "execution_count": 14,
   "metadata": {},
   "outputs": [],
   "source": [
    "languages = []\n",
    "\n",
    "for r in range(len(reviews)):\n",
    "    languages.append(detect_langs(reviews.iloc[r, 0]))"
   ]
  },
  {
   "cell_type": "code",
   "execution_count": 15,
   "metadata": {},
   "outputs": [],
   "source": [
    "languages = [str(lang).split(':')[0][1] for lang in languages]"
   ]
  },
  {
   "cell_type": "code",
   "execution_count": 16,
   "metadata": {},
   "outputs": [
    {
     "data": {
      "text/html": [
       "<div>\n",
       "<style scoped>\n",
       "    .dataframe tbody tr th:only-of-type {\n",
       "        vertical-align: middle;\n",
       "    }\n",
       "\n",
       "    .dataframe tbody tr th {\n",
       "        vertical-align: top;\n",
       "    }\n",
       "\n",
       "    .dataframe thead th {\n",
       "        text-align: right;\n",
       "    }\n",
       "</style>\n",
       "<table border=\"1\" class=\"dataframe\">\n",
       "  <thead>\n",
       "    <tr style=\"text-align: right;\">\n",
       "      <th></th>\n",
       "      <th>name</th>\n",
       "      <th>review</th>\n",
       "      <th>length</th>\n",
       "      <th>lang</th>\n",
       "    </tr>\n",
       "  </thead>\n",
       "  <tbody>\n",
       "    <tr>\n",
       "      <th>523055</th>\n",
       "      <td>Coney Island Albino Python</td>\n",
       "      <td>Experienced from a 12oz bottle in a pub glass....</td>\n",
       "      <td>603.0</td>\n",
       "      <td>e</td>\n",
       "    </tr>\n",
       "    <tr>\n",
       "      <th>965308</th>\n",
       "      <td>Berg Radler</td>\n",
       "      <td>bottle. Clear pale yellow, medium-sized head. ...</td>\n",
       "      <td>122.0</td>\n",
       "      <td>d</td>\n",
       "    </tr>\n",
       "    <tr>\n",
       "      <th>489356</th>\n",
       "      <td>Bischoff Falkensteiner Ur-Weisse</td>\n",
       "      <td>Bischoff Ur-weisse pours a thick cloudy orange...</td>\n",
       "      <td>1172.0</td>\n",
       "      <td>d</td>\n",
       "    </tr>\n",
       "    <tr>\n",
       "      <th>449981</th>\n",
       "      <td>Rock Bottom Portland Maude Flanders</td>\n",
       "      <td>Had this on tap at the 2nd anniv. of Baileys T...</td>\n",
       "      <td>401.0</td>\n",
       "      <td>s</td>\n",
       "    </tr>\n",
       "    <tr>\n",
       "      <th>714903</th>\n",
       "      <td>Steam Whistle Pilsner</td>\n",
       "      <td>Golden yellow, slightly sweet grassy aroma. Re...</td>\n",
       "      <td>180.0</td>\n",
       "      <td>e</td>\n",
       "    </tr>\n",
       "  </tbody>\n",
       "</table>\n",
       "</div>"
      ],
      "text/plain": [
       "                                       name  \\\n",
       "523055          Coney Island Albino Python    \n",
       "965308                          Berg Radler   \n",
       "489356     Bischoff Falkensteiner Ur-Weisse   \n",
       "449981  Rock Bottom Portland Maude Flanders   \n",
       "714903                Steam Whistle Pilsner   \n",
       "\n",
       "                                                   review  length lang  \n",
       "523055  Experienced from a 12oz bottle in a pub glass....   603.0    e  \n",
       "965308  bottle. Clear pale yellow, medium-sized head. ...   122.0    d  \n",
       "489356  Bischoff Ur-weisse pours a thick cloudy orange...  1172.0    d  \n",
       "449981  Had this on tap at the 2nd anniv. of Baileys T...   401.0    s  \n",
       "714903  Golden yellow, slightly sweet grassy aroma. Re...   180.0    e  "
      ]
     },
     "execution_count": 16,
     "metadata": {},
     "output_type": "execute_result"
    }
   ],
   "source": [
    "reviews['lang'] = languages\n",
    "reviews.head()"
   ]
  },
  {
   "cell_type": "code",
   "execution_count": 17,
   "metadata": {},
   "outputs": [
    {
     "data": {
      "text/html": [
       "<div>\n",
       "<style scoped>\n",
       "    .dataframe tbody tr th:only-of-type {\n",
       "        vertical-align: middle;\n",
       "    }\n",
       "\n",
       "    .dataframe tbody tr th {\n",
       "        vertical-align: top;\n",
       "    }\n",
       "\n",
       "    .dataframe thead th {\n",
       "        text-align: right;\n",
       "    }\n",
       "</style>\n",
       "<table border=\"1\" class=\"dataframe\">\n",
       "  <thead>\n",
       "    <tr style=\"text-align: right;\">\n",
       "      <th></th>\n",
       "      <th>name</th>\n",
       "      <th>review</th>\n",
       "      <th>length</th>\n",
       "      <th>lang</th>\n",
       "    </tr>\n",
       "  </thead>\n",
       "  <tbody>\n",
       "    <tr>\n",
       "      <th>523055</th>\n",
       "      <td>Coney Island Albino Python</td>\n",
       "      <td>Experienced from a 12oz bottle in a pub glass....</td>\n",
       "      <td>603.0</td>\n",
       "      <td>e</td>\n",
       "    </tr>\n",
       "    <tr>\n",
       "      <th>714903</th>\n",
       "      <td>Steam Whistle Pilsner</td>\n",
       "      <td>Golden yellow, slightly sweet grassy aroma. Re...</td>\n",
       "      <td>180.0</td>\n",
       "      <td>e</td>\n",
       "    </tr>\n",
       "    <tr>\n",
       "      <th>735106</th>\n",
       "      <td>Hitachino Nest New Year Celebration Ale</td>\n",
       "      <td>,33L. 08 opened brand spanking new. Pours a de...</td>\n",
       "      <td>489.0</td>\n",
       "      <td>e</td>\n",
       "    </tr>\n",
       "    <tr>\n",
       "      <th>662784</th>\n",
       "      <td>Cigar City Capricho Oscuro &amp;#40;Batch 1&amp;#41;</td>\n",
       "      <td>In short: A brutal highly roasted woody dark b...</td>\n",
       "      <td>784.0</td>\n",
       "      <td>e</td>\n",
       "    </tr>\n",
       "    <tr>\n",
       "      <th>411213</th>\n",
       "      <td>Shorts Anniversary Ale 2008</td>\n",
       "      <td>Poured a hazy red amber color with a small, of...</td>\n",
       "      <td>317.0</td>\n",
       "      <td>e</td>\n",
       "    </tr>\n",
       "    <tr>\n",
       "      <th>...</th>\n",
       "      <td>...</td>\n",
       "      <td>...</td>\n",
       "      <td>...</td>\n",
       "      <td>...</td>\n",
       "    </tr>\n",
       "    <tr>\n",
       "      <th>801342</th>\n",
       "      <td>Blue Moon Harvest Moon Pumpkin Ale</td>\n",
       "      <td>Small tan head, short lived. Clear amber color...</td>\n",
       "      <td>230.0</td>\n",
       "      <td>e</td>\n",
       "    </tr>\n",
       "    <tr>\n",
       "      <th>1018091</th>\n",
       "      <td>North Coast Old Rasputin Russian Imperial Stout</td>\n",
       "      <td>On tap at Flying Saucer... pours dard brown, t...</td>\n",
       "      <td>166.0</td>\n",
       "      <td>e</td>\n",
       "    </tr>\n",
       "    <tr>\n",
       "      <th>351012</th>\n",
       "      <td>Sports City Cafe Warrior Pale Ale</td>\n",
       "      <td>This was definitely the type of unique pale al...</td>\n",
       "      <td>615.0</td>\n",
       "      <td>e</td>\n",
       "    </tr>\n",
       "    <tr>\n",
       "      <th>877115</th>\n",
       "      <td>Thirsty Dog Hoppus Maximus</td>\n",
       "      <td>Orange/amber pour with an inviting citrus hop ...</td>\n",
       "      <td>149.0</td>\n",
       "      <td>e</td>\n",
       "    </tr>\n",
       "    <tr>\n",
       "      <th>414116</th>\n",
       "      <td>Shorts The Curl Imperial Pilsner</td>\n",
       "      <td>This is a pretty pilsener. I had Atwater Block...</td>\n",
       "      <td>203.0</td>\n",
       "      <td>e</td>\n",
       "    </tr>\n",
       "  </tbody>\n",
       "</table>\n",
       "<p>13726 rows × 4 columns</p>\n",
       "</div>"
      ],
      "text/plain": [
       "                                                    name  \\\n",
       "523055                       Coney Island Albino Python    \n",
       "714903                             Steam Whistle Pilsner   \n",
       "735106           Hitachino Nest New Year Celebration Ale   \n",
       "662784      Cigar City Capricho Oscuro &#40;Batch 1&#41;   \n",
       "411213                       Shorts Anniversary Ale 2008   \n",
       "...                                                  ...   \n",
       "801342                Blue Moon Harvest Moon Pumpkin Ale   \n",
       "1018091  North Coast Old Rasputin Russian Imperial Stout   \n",
       "351012                 Sports City Cafe Warrior Pale Ale   \n",
       "877115                        Thirsty Dog Hoppus Maximus   \n",
       "414116                  Shorts The Curl Imperial Pilsner   \n",
       "\n",
       "                                                    review  length lang  \n",
       "523055   Experienced from a 12oz bottle in a pub glass....   603.0    e  \n",
       "714903   Golden yellow, slightly sweet grassy aroma. Re...   180.0    e  \n",
       "735106   ,33L. 08 opened brand spanking new. Pours a de...   489.0    e  \n",
       "662784   In short: A brutal highly roasted woody dark b...   784.0    e  \n",
       "411213   Poured a hazy red amber color with a small, of...   317.0    e  \n",
       "...                                                    ...     ...  ...  \n",
       "801342   Small tan head, short lived. Clear amber color...   230.0    e  \n",
       "1018091  On tap at Flying Saucer... pours dard brown, t...   166.0    e  \n",
       "351012   This was definitely the type of unique pale al...   615.0    e  \n",
       "877115   Orange/amber pour with an inviting citrus hop ...   149.0    e  \n",
       "414116   This is a pretty pilsener. I had Atwater Block...   203.0    e  \n",
       "\n",
       "[13726 rows x 4 columns]"
      ]
     },
     "execution_count": 17,
     "metadata": {},
     "output_type": "execute_result"
    }
   ],
   "source": [
    "# Removing non english reviews and Keeping only reviews in english\n",
    "\n",
    "reviews_e = reviews.loc[lambda reviews: reviews['lang'] == 'e']\n",
    "reviews_e"
   ]
  },
  {
   "cell_type": "code",
   "execution_count": 18,
   "metadata": {},
   "outputs": [
    {
     "name": "stdout",
     "output_type": "stream",
     "text": [
      "Average Length: 320.1277356288299\n",
      "Longest Review: 4009.0\n",
      "Shortest Review: 4.0\n"
     ]
    }
   ],
   "source": [
    "avg_length_e = reviews_e.length.mean()\n",
    "longest_review_e = reviews_e['length'].max()\n",
    "shortest_review_e = reviews_e['length'].min()\n",
    "print('Average Length: {}'.format(avg_length_e))\n",
    "print('Longest Review: {}'.format(longest_review_e))\n",
    "print('Shortest Review: {}'.format(shortest_review_e))"
   ]
  },
  {
   "cell_type": "code",
   "execution_count": 19,
   "metadata": {},
   "outputs": [
    {
     "name": "stderr",
     "output_type": "stream",
     "text": [
      "/opt/anaconda3/lib/python3.7/site-packages/ipykernel_launcher.py:1: SettingWithCopyWarning: \n",
      "A value is trying to be set on a copy of a slice from a DataFrame.\n",
      "Try using .loc[row_indexer,col_indexer] = value instead\n",
      "\n",
      "See the caveats in the documentation: https://pandas.pydata.org/pandas-docs/stable/user_guide/indexing.html#returning-a-view-versus-a-copy\n",
      "  \"\"\"Entry point for launching an IPython kernel.\n"
     ]
    }
   ],
   "source": [
    "reviews_e['review'] = reviews_e['review'].astype(str)"
   ]
  },
  {
   "cell_type": "code",
   "execution_count": 20,
   "metadata": {},
   "outputs": [
    {
     "name": "stderr",
     "output_type": "stream",
     "text": [
      "/opt/anaconda3/lib/python3.7/site-packages/ipykernel_launcher.py:1: SettingWithCopyWarning: \n",
      "A value is trying to be set on a copy of a slice from a DataFrame.\n",
      "Try using .loc[row_indexer,col_indexer] = value instead\n",
      "\n",
      "See the caveats in the documentation: https://pandas.pydata.org/pandas-docs/stable/user_guide/indexing.html#returning-a-view-versus-a-copy\n",
      "  \"\"\"Entry point for launching an IPython kernel.\n"
     ]
    }
   ],
   "source": [
    "reviews_e['sentiment'] = round(reviews_e['review'].apply(lambda x: TextBlob(x).sentiment[0]),2)"
   ]
  },
  {
   "cell_type": "code",
   "execution_count": 21,
   "metadata": {},
   "outputs": [
    {
     "data": {
      "text/html": [
       "<div>\n",
       "<style scoped>\n",
       "    .dataframe tbody tr th:only-of-type {\n",
       "        vertical-align: middle;\n",
       "    }\n",
       "\n",
       "    .dataframe tbody tr th {\n",
       "        vertical-align: top;\n",
       "    }\n",
       "\n",
       "    .dataframe thead th {\n",
       "        text-align: right;\n",
       "    }\n",
       "</style>\n",
       "<table border=\"1\" class=\"dataframe\">\n",
       "  <thead>\n",
       "    <tr style=\"text-align: right;\">\n",
       "      <th></th>\n",
       "      <th>name</th>\n",
       "      <th>review</th>\n",
       "      <th>length</th>\n",
       "      <th>lang</th>\n",
       "      <th>sentiment</th>\n",
       "    </tr>\n",
       "  </thead>\n",
       "  <tbody>\n",
       "    <tr>\n",
       "      <th>523055</th>\n",
       "      <td>Coney Island Albino Python</td>\n",
       "      <td>Experienced from a 12oz bottle in a pub glass....</td>\n",
       "      <td>603.0</td>\n",
       "      <td>e</td>\n",
       "      <td>0.11</td>\n",
       "    </tr>\n",
       "    <tr>\n",
       "      <th>714903</th>\n",
       "      <td>Steam Whistle Pilsner</td>\n",
       "      <td>Golden yellow, slightly sweet grassy aroma. Re...</td>\n",
       "      <td>180.0</td>\n",
       "      <td>e</td>\n",
       "      <td>0.28</td>\n",
       "    </tr>\n",
       "    <tr>\n",
       "      <th>735106</th>\n",
       "      <td>Hitachino Nest New Year Celebration Ale</td>\n",
       "      <td>,33L. 08 opened brand spanking new. Pours a de...</td>\n",
       "      <td>489.0</td>\n",
       "      <td>e</td>\n",
       "      <td>0.15</td>\n",
       "    </tr>\n",
       "    <tr>\n",
       "      <th>662784</th>\n",
       "      <td>Cigar City Capricho Oscuro &amp;#40;Batch 1&amp;#41;</td>\n",
       "      <td>In short: A brutal highly roasted woody dark b...</td>\n",
       "      <td>784.0</td>\n",
       "      <td>e</td>\n",
       "      <td>-0.01</td>\n",
       "    </tr>\n",
       "    <tr>\n",
       "      <th>411213</th>\n",
       "      <td>Shorts Anniversary Ale 2008</td>\n",
       "      <td>Poured a hazy red amber color with a small, of...</td>\n",
       "      <td>317.0</td>\n",
       "      <td>e</td>\n",
       "      <td>0.11</td>\n",
       "    </tr>\n",
       "    <tr>\n",
       "      <th>...</th>\n",
       "      <td>...</td>\n",
       "      <td>...</td>\n",
       "      <td>...</td>\n",
       "      <td>...</td>\n",
       "      <td>...</td>\n",
       "    </tr>\n",
       "    <tr>\n",
       "      <th>801342</th>\n",
       "      <td>Blue Moon Harvest Moon Pumpkin Ale</td>\n",
       "      <td>Small tan head, short lived. Clear amber color...</td>\n",
       "      <td>230.0</td>\n",
       "      <td>e</td>\n",
       "      <td>0.21</td>\n",
       "    </tr>\n",
       "    <tr>\n",
       "      <th>1018091</th>\n",
       "      <td>North Coast Old Rasputin Russian Imperial Stout</td>\n",
       "      <td>On tap at Flying Saucer... pours dard brown, t...</td>\n",
       "      <td>166.0</td>\n",
       "      <td>e</td>\n",
       "      <td>0.30</td>\n",
       "    </tr>\n",
       "    <tr>\n",
       "      <th>351012</th>\n",
       "      <td>Sports City Cafe Warrior Pale Ale</td>\n",
       "      <td>This was definitely the type of unique pale al...</td>\n",
       "      <td>615.0</td>\n",
       "      <td>e</td>\n",
       "      <td>0.19</td>\n",
       "    </tr>\n",
       "    <tr>\n",
       "      <th>877115</th>\n",
       "      <td>Thirsty Dog Hoppus Maximus</td>\n",
       "      <td>Orange/amber pour with an inviting citrus hop ...</td>\n",
       "      <td>149.0</td>\n",
       "      <td>e</td>\n",
       "      <td>0.44</td>\n",
       "    </tr>\n",
       "    <tr>\n",
       "      <th>414116</th>\n",
       "      <td>Shorts The Curl Imperial Pilsner</td>\n",
       "      <td>This is a pretty pilsener. I had Atwater Block...</td>\n",
       "      <td>203.0</td>\n",
       "      <td>e</td>\n",
       "      <td>0.27</td>\n",
       "    </tr>\n",
       "  </tbody>\n",
       "</table>\n",
       "<p>13726 rows × 5 columns</p>\n",
       "</div>"
      ],
      "text/plain": [
       "                                                    name  \\\n",
       "523055                       Coney Island Albino Python    \n",
       "714903                             Steam Whistle Pilsner   \n",
       "735106           Hitachino Nest New Year Celebration Ale   \n",
       "662784      Cigar City Capricho Oscuro &#40;Batch 1&#41;   \n",
       "411213                       Shorts Anniversary Ale 2008   \n",
       "...                                                  ...   \n",
       "801342                Blue Moon Harvest Moon Pumpkin Ale   \n",
       "1018091  North Coast Old Rasputin Russian Imperial Stout   \n",
       "351012                 Sports City Cafe Warrior Pale Ale   \n",
       "877115                        Thirsty Dog Hoppus Maximus   \n",
       "414116                  Shorts The Curl Imperial Pilsner   \n",
       "\n",
       "                                                    review  length lang  \\\n",
       "523055   Experienced from a 12oz bottle in a pub glass....   603.0    e   \n",
       "714903   Golden yellow, slightly sweet grassy aroma. Re...   180.0    e   \n",
       "735106   ,33L. 08 opened brand spanking new. Pours a de...   489.0    e   \n",
       "662784   In short: A brutal highly roasted woody dark b...   784.0    e   \n",
       "411213   Poured a hazy red amber color with a small, of...   317.0    e   \n",
       "...                                                    ...     ...  ...   \n",
       "801342   Small tan head, short lived. Clear amber color...   230.0    e   \n",
       "1018091  On tap at Flying Saucer... pours dard brown, t...   166.0    e   \n",
       "351012   This was definitely the type of unique pale al...   615.0    e   \n",
       "877115   Orange/amber pour with an inviting citrus hop ...   149.0    e   \n",
       "414116   This is a pretty pilsener. I had Atwater Block...   203.0    e   \n",
       "\n",
       "         sentiment  \n",
       "523055        0.11  \n",
       "714903        0.28  \n",
       "735106        0.15  \n",
       "662784       -0.01  \n",
       "411213        0.11  \n",
       "...            ...  \n",
       "801342        0.21  \n",
       "1018091       0.30  \n",
       "351012        0.19  \n",
       "877115        0.44  \n",
       "414116        0.27  \n",
       "\n",
       "[13726 rows x 5 columns]"
      ]
     },
     "execution_count": 21,
     "metadata": {},
     "output_type": "execute_result"
    }
   ],
   "source": [
    "reviews_e"
   ]
  },
  {
   "cell_type": "code",
   "execution_count": 22,
   "metadata": {},
   "outputs": [
    {
     "name": "stdout",
     "output_type": "stream",
     "text": [
      "<class 'pandas.core.frame.DataFrame'>\n",
      "Int64Index: 13726 entries, 523055 to 414116\n",
      "Data columns (total 5 columns):\n",
      " #   Column     Non-Null Count  Dtype  \n",
      "---  ------     --------------  -----  \n",
      " 0   name       13726 non-null  object \n",
      " 1   review     13726 non-null  object \n",
      " 2   length     13708 non-null  float64\n",
      " 3   lang       13726 non-null  object \n",
      " 4   sentiment  13726 non-null  float64\n",
      "dtypes: float64(2), object(3)\n",
      "memory usage: 643.4+ KB\n"
     ]
    }
   ],
   "source": [
    "reviews_e.info()"
   ]
  },
  {
   "cell_type": "code",
   "execution_count": 23,
   "metadata": {},
   "outputs": [],
   "source": [
    "reviews_1 = reviews_e"
   ]
  },
  {
   "cell_type": "code",
   "execution_count": 24,
   "metadata": {},
   "outputs": [],
   "source": [
    "reviews_1.reset_index(drop=True, inplace=True)"
   ]
  },
  {
   "cell_type": "code",
   "execution_count": 25,
   "metadata": {},
   "outputs": [
    {
     "data": {
      "text/html": [
       "<div>\n",
       "<style scoped>\n",
       "    .dataframe tbody tr th:only-of-type {\n",
       "        vertical-align: middle;\n",
       "    }\n",
       "\n",
       "    .dataframe tbody tr th {\n",
       "        vertical-align: top;\n",
       "    }\n",
       "\n",
       "    .dataframe thead th {\n",
       "        text-align: right;\n",
       "    }\n",
       "</style>\n",
       "<table border=\"1\" class=\"dataframe\">\n",
       "  <thead>\n",
       "    <tr style=\"text-align: right;\">\n",
       "      <th></th>\n",
       "      <th>name</th>\n",
       "      <th>review</th>\n",
       "      <th>length</th>\n",
       "      <th>lang</th>\n",
       "      <th>sentiment</th>\n",
       "    </tr>\n",
       "  </thead>\n",
       "  <tbody>\n",
       "    <tr>\n",
       "      <th>0</th>\n",
       "      <td>Coney Island Albino Python</td>\n",
       "      <td>Experienced from a 12oz bottle in a pub glass....</td>\n",
       "      <td>603.0</td>\n",
       "      <td>e</td>\n",
       "      <td>0.11</td>\n",
       "    </tr>\n",
       "    <tr>\n",
       "      <th>1</th>\n",
       "      <td>Steam Whistle Pilsner</td>\n",
       "      <td>Golden yellow, slightly sweet grassy aroma. Re...</td>\n",
       "      <td>180.0</td>\n",
       "      <td>e</td>\n",
       "      <td>0.28</td>\n",
       "    </tr>\n",
       "    <tr>\n",
       "      <th>2</th>\n",
       "      <td>Hitachino Nest New Year Celebration Ale</td>\n",
       "      <td>,33L. 08 opened brand spanking new. Pours a de...</td>\n",
       "      <td>489.0</td>\n",
       "      <td>e</td>\n",
       "      <td>0.15</td>\n",
       "    </tr>\n",
       "    <tr>\n",
       "      <th>3</th>\n",
       "      <td>Cigar City Capricho Oscuro &amp;#40;Batch 1&amp;#41;</td>\n",
       "      <td>In short: A brutal highly roasted woody dark b...</td>\n",
       "      <td>784.0</td>\n",
       "      <td>e</td>\n",
       "      <td>-0.01</td>\n",
       "    </tr>\n",
       "    <tr>\n",
       "      <th>4</th>\n",
       "      <td>Shorts Anniversary Ale 2008</td>\n",
       "      <td>Poured a hazy red amber color with a small, of...</td>\n",
       "      <td>317.0</td>\n",
       "      <td>e</td>\n",
       "      <td>0.11</td>\n",
       "    </tr>\n",
       "  </tbody>\n",
       "</table>\n",
       "</div>"
      ],
      "text/plain": [
       "                                           name  \\\n",
       "0                   Coney Island Albino Python    \n",
       "1                         Steam Whistle Pilsner   \n",
       "2       Hitachino Nest New Year Celebration Ale   \n",
       "3  Cigar City Capricho Oscuro &#40;Batch 1&#41;   \n",
       "4                   Shorts Anniversary Ale 2008   \n",
       "\n",
       "                                              review  length lang  sentiment  \n",
       "0  Experienced from a 12oz bottle in a pub glass....   603.0    e       0.11  \n",
       "1  Golden yellow, slightly sweet grassy aroma. Re...   180.0    e       0.28  \n",
       "2  ,33L. 08 opened brand spanking new. Pours a de...   489.0    e       0.15  \n",
       "3  In short: A brutal highly roasted woody dark b...   784.0    e      -0.01  \n",
       "4  Poured a hazy red amber color with a small, of...   317.0    e       0.11  "
      ]
     },
     "execution_count": 25,
     "metadata": {},
     "output_type": "execute_result"
    }
   ],
   "source": [
    "reviews_1.head()"
   ]
  },
  {
   "cell_type": "code",
   "execution_count": 26,
   "metadata": {},
   "outputs": [],
   "source": [
    "sentiment_1 = []\n",
    "\n",
    "for i in range(len(reviews_1)):\n",
    "    if reviews_1.sentiment[i] >= 0.10:\n",
    "        sentiment_1.append(2)\n",
    "    elif reviews_1.sentiment[i] >= -0.10:\n",
    "        sentiment_1.append(0)\n",
    "    else:\n",
    "        sentiment_1.append(1)"
   ]
  },
  {
   "cell_type": "code",
   "execution_count": 27,
   "metadata": {},
   "outputs": [
    {
     "name": "stderr",
     "output_type": "stream",
     "text": [
      "/opt/anaconda3/lib/python3.7/site-packages/ipykernel_launcher.py:1: SettingWithCopyWarning: \n",
      "A value is trying to be set on a copy of a slice from a DataFrame.\n",
      "Try using .loc[row_indexer,col_indexer] = value instead\n",
      "\n",
      "See the caveats in the documentation: https://pandas.pydata.org/pandas-docs/stable/user_guide/indexing.html#returning-a-view-versus-a-copy\n",
      "  \"\"\"Entry point for launching an IPython kernel.\n"
     ]
    }
   ],
   "source": [
    "reviews_1['sentiment_1'] = sentiment_1"
   ]
  },
  {
   "cell_type": "code",
   "execution_count": 28,
   "metadata": {},
   "outputs": [
    {
     "data": {
      "text/html": [
       "<div>\n",
       "<style scoped>\n",
       "    .dataframe tbody tr th:only-of-type {\n",
       "        vertical-align: middle;\n",
       "    }\n",
       "\n",
       "    .dataframe tbody tr th {\n",
       "        vertical-align: top;\n",
       "    }\n",
       "\n",
       "    .dataframe thead th {\n",
       "        text-align: right;\n",
       "    }\n",
       "</style>\n",
       "<table border=\"1\" class=\"dataframe\">\n",
       "  <thead>\n",
       "    <tr style=\"text-align: right;\">\n",
       "      <th></th>\n",
       "      <th>name</th>\n",
       "      <th>review</th>\n",
       "      <th>length</th>\n",
       "      <th>lang</th>\n",
       "      <th>sentiment</th>\n",
       "      <th>sentiment_1</th>\n",
       "    </tr>\n",
       "  </thead>\n",
       "  <tbody>\n",
       "    <tr>\n",
       "      <th>0</th>\n",
       "      <td>Coney Island Albino Python</td>\n",
       "      <td>Experienced from a 12oz bottle in a pub glass....</td>\n",
       "      <td>603.0</td>\n",
       "      <td>e</td>\n",
       "      <td>0.11</td>\n",
       "      <td>2</td>\n",
       "    </tr>\n",
       "    <tr>\n",
       "      <th>1</th>\n",
       "      <td>Steam Whistle Pilsner</td>\n",
       "      <td>Golden yellow, slightly sweet grassy aroma. Re...</td>\n",
       "      <td>180.0</td>\n",
       "      <td>e</td>\n",
       "      <td>0.28</td>\n",
       "      <td>2</td>\n",
       "    </tr>\n",
       "    <tr>\n",
       "      <th>2</th>\n",
       "      <td>Hitachino Nest New Year Celebration Ale</td>\n",
       "      <td>,33L. 08 opened brand spanking new. Pours a de...</td>\n",
       "      <td>489.0</td>\n",
       "      <td>e</td>\n",
       "      <td>0.15</td>\n",
       "      <td>2</td>\n",
       "    </tr>\n",
       "    <tr>\n",
       "      <th>3</th>\n",
       "      <td>Cigar City Capricho Oscuro &amp;#40;Batch 1&amp;#41;</td>\n",
       "      <td>In short: A brutal highly roasted woody dark b...</td>\n",
       "      <td>784.0</td>\n",
       "      <td>e</td>\n",
       "      <td>-0.01</td>\n",
       "      <td>0</td>\n",
       "    </tr>\n",
       "    <tr>\n",
       "      <th>4</th>\n",
       "      <td>Shorts Anniversary Ale 2008</td>\n",
       "      <td>Poured a hazy red amber color with a small, of...</td>\n",
       "      <td>317.0</td>\n",
       "      <td>e</td>\n",
       "      <td>0.11</td>\n",
       "      <td>2</td>\n",
       "    </tr>\n",
       "    <tr>\n",
       "      <th>...</th>\n",
       "      <td>...</td>\n",
       "      <td>...</td>\n",
       "      <td>...</td>\n",
       "      <td>...</td>\n",
       "      <td>...</td>\n",
       "      <td>...</td>\n",
       "    </tr>\n",
       "    <tr>\n",
       "      <th>13721</th>\n",
       "      <td>Blue Moon Harvest Moon Pumpkin Ale</td>\n",
       "      <td>Small tan head, short lived. Clear amber color...</td>\n",
       "      <td>230.0</td>\n",
       "      <td>e</td>\n",
       "      <td>0.21</td>\n",
       "      <td>2</td>\n",
       "    </tr>\n",
       "    <tr>\n",
       "      <th>13722</th>\n",
       "      <td>North Coast Old Rasputin Russian Imperial Stout</td>\n",
       "      <td>On tap at Flying Saucer... pours dard brown, t...</td>\n",
       "      <td>166.0</td>\n",
       "      <td>e</td>\n",
       "      <td>0.30</td>\n",
       "      <td>2</td>\n",
       "    </tr>\n",
       "    <tr>\n",
       "      <th>13723</th>\n",
       "      <td>Sports City Cafe Warrior Pale Ale</td>\n",
       "      <td>This was definitely the type of unique pale al...</td>\n",
       "      <td>615.0</td>\n",
       "      <td>e</td>\n",
       "      <td>0.19</td>\n",
       "      <td>2</td>\n",
       "    </tr>\n",
       "    <tr>\n",
       "      <th>13724</th>\n",
       "      <td>Thirsty Dog Hoppus Maximus</td>\n",
       "      <td>Orange/amber pour with an inviting citrus hop ...</td>\n",
       "      <td>149.0</td>\n",
       "      <td>e</td>\n",
       "      <td>0.44</td>\n",
       "      <td>2</td>\n",
       "    </tr>\n",
       "    <tr>\n",
       "      <th>13725</th>\n",
       "      <td>Shorts The Curl Imperial Pilsner</td>\n",
       "      <td>This is a pretty pilsener. I had Atwater Block...</td>\n",
       "      <td>203.0</td>\n",
       "      <td>e</td>\n",
       "      <td>0.27</td>\n",
       "      <td>2</td>\n",
       "    </tr>\n",
       "  </tbody>\n",
       "</table>\n",
       "<p>13726 rows × 6 columns</p>\n",
       "</div>"
      ],
      "text/plain": [
       "                                                  name  \\\n",
       "0                          Coney Island Albino Python    \n",
       "1                                Steam Whistle Pilsner   \n",
       "2              Hitachino Nest New Year Celebration Ale   \n",
       "3         Cigar City Capricho Oscuro &#40;Batch 1&#41;   \n",
       "4                          Shorts Anniversary Ale 2008   \n",
       "...                                                ...   \n",
       "13721               Blue Moon Harvest Moon Pumpkin Ale   \n",
       "13722  North Coast Old Rasputin Russian Imperial Stout   \n",
       "13723                Sports City Cafe Warrior Pale Ale   \n",
       "13724                       Thirsty Dog Hoppus Maximus   \n",
       "13725                 Shorts The Curl Imperial Pilsner   \n",
       "\n",
       "                                                  review  length lang  \\\n",
       "0      Experienced from a 12oz bottle in a pub glass....   603.0    e   \n",
       "1      Golden yellow, slightly sweet grassy aroma. Re...   180.0    e   \n",
       "2      ,33L. 08 opened brand spanking new. Pours a de...   489.0    e   \n",
       "3      In short: A brutal highly roasted woody dark b...   784.0    e   \n",
       "4      Poured a hazy red amber color with a small, of...   317.0    e   \n",
       "...                                                  ...     ...  ...   \n",
       "13721  Small tan head, short lived. Clear amber color...   230.0    e   \n",
       "13722  On tap at Flying Saucer... pours dard brown, t...   166.0    e   \n",
       "13723  This was definitely the type of unique pale al...   615.0    e   \n",
       "13724  Orange/amber pour with an inviting citrus hop ...   149.0    e   \n",
       "13725  This is a pretty pilsener. I had Atwater Block...   203.0    e   \n",
       "\n",
       "       sentiment  sentiment_1  \n",
       "0           0.11            2  \n",
       "1           0.28            2  \n",
       "2           0.15            2  \n",
       "3          -0.01            0  \n",
       "4           0.11            2  \n",
       "...          ...          ...  \n",
       "13721       0.21            2  \n",
       "13722       0.30            2  \n",
       "13723       0.19            2  \n",
       "13724       0.44            2  \n",
       "13725       0.27            2  \n",
       "\n",
       "[13726 rows x 6 columns]"
      ]
     },
     "execution_count": 28,
     "metadata": {},
     "output_type": "execute_result"
    }
   ],
   "source": [
    "reviews_1"
   ]
  },
  {
   "cell_type": "code",
   "execution_count": 29,
   "metadata": {},
   "outputs": [
    {
     "data": {
      "text/plain": [
       "2    9016\n",
       "0    4034\n",
       "1     676\n",
       "Name: sentiment_1, dtype: int64"
      ]
     },
     "execution_count": 29,
     "metadata": {},
     "output_type": "execute_result"
    }
   ],
   "source": [
    "reviews_1['sentiment_1'].value_counts()"
   ]
  },
  {
   "cell_type": "code",
   "execution_count": 30,
   "metadata": {},
   "outputs": [
    {
     "name": "stdout",
     "output_type": "stream",
     "text": [
      "<class 'pandas.core.frame.DataFrame'>\n",
      "RangeIndex: 13726 entries, 0 to 13725\n",
      "Data columns (total 6 columns):\n",
      " #   Column       Non-Null Count  Dtype  \n",
      "---  ------       --------------  -----  \n",
      " 0   name         13726 non-null  object \n",
      " 1   review       13726 non-null  object \n",
      " 2   length       13708 non-null  float64\n",
      " 3   lang         13726 non-null  object \n",
      " 4   sentiment    13726 non-null  float64\n",
      " 5   sentiment_1  13726 non-null  int64  \n",
      "dtypes: float64(2), int64(1), object(3)\n",
      "memory usage: 643.5+ KB\n"
     ]
    }
   ],
   "source": [
    "reviews_1.info()"
   ]
  },
  {
   "cell_type": "code",
   "execution_count": 31,
   "metadata": {},
   "outputs": [],
   "source": [
    "positive = []\n",
    "negative = []\n",
    "neutral = []\n",
    "\n",
    "for i in range(len(reviews_1.sentiment_1)-1):\n",
    "    if reviews_1.sentiment_1[i] == 2:\n",
    "        positive.append(reviews_1.review[i])\n",
    "    elif reviews_1.sentiment_1[i] == 1:\n",
    "        negative.append(reviews_1.review[i])\n",
    "    else:\n",
    "        neutral.append(reviews_1.review[i])\n",
    "   "
   ]
  },
  {
   "cell_type": "code",
   "execution_count": 32,
   "metadata": {},
   "outputs": [
    {
     "data": {
      "text/plain": [
       "702"
      ]
     },
     "execution_count": 32,
     "metadata": {},
     "output_type": "execute_result"
    }
   ],
   "source": [
    "len(review)"
   ]
  },
  {
   "cell_type": "code",
   "execution_count": 33,
   "metadata": {},
   "outputs": [
    {
     "name": "stdout",
     "output_type": "stream",
     "text": [
      "9015\n",
      "676\n",
      "4034\n"
     ]
    }
   ],
   "source": [
    "print(len(positive))\n",
    "print(len(negative))\n",
    "print(len(neutral))"
   ]
  },
  {
   "cell_type": "code",
   "execution_count": 34,
   "metadata": {},
   "outputs": [],
   "source": [
    "positive_string = str(positive)\n",
    "negative_string = str(negative)\n",
    "neutral_string = str(neutral)"
   ]
  },
  {
   "cell_type": "code",
   "execution_count": 40,
   "metadata": {},
   "outputs": [],
   "source": [
    "# my_stop_words = ENGLISH_STOP_WORDS.union(['Aroma', 'head', 'is'])\n",
    "stop_words = ['Aroma', 'head', 'is']+list(STOPWORDS)"
   ]
  },
  {
   "cell_type": "code",
   "execution_count": 41,
   "metadata": {},
   "outputs": [
    {
     "data": {
      "image/png": "[encoded data removed]",
      "text/plain": [
       "<Figure size 432x288 with 1 Axes>"
      ]
     },
     "metadata": {
      "needs_background": "light"
     },
     "output_type": "display_data"
    }
   ],
   "source": [
    "positive_cloud = WordCloud(stopwords = stop_words).generate(positive_string)\n",
    "plt.imshow(positive_cloud, interpolation='bilinear')\n",
    "plt.axis('off')\n",
    "plt.show()"
   ]
  },
  {
   "cell_type": "code",
   "execution_count": 42,
   "metadata": {},
   "outputs": [
    {
     "data": {
      "image/png": "[encoded data removed]",
      "text/plain": [
       "<Figure size 432x288 with 1 Axes>"
      ]
     },
     "metadata": {
      "needs_background": "light"
     },
     "output_type": "display_data"
    }
   ],
   "source": [
    "negative_cloud = WordCloud(stopwords = stop_words).generate(negative_string)\n",
    "plt.imshow(negative_cloud, interpolation='bilinear')\n",
    "plt.axis('off')\n",
    "plt.show()"
   ]
  },
  {
   "cell_type": "code",
   "execution_count": 43,
   "metadata": {},
   "outputs": [
    {
     "data": {
      "image/png": "[encoded data removed]",
      "text/plain": [
       "<Figure size 432x288 with 1 Axes>"
      ]
     },
     "metadata": {
      "needs_background": "light"
     },
     "output_type": "display_data"
    }
   ],
   "source": [
    "neutral_cloud = WordCloud(stopwords = stop_words).generate(neutral_string)\n",
    "plt.imshow(neutral_cloud, interpolation='bilinear')\n",
    "plt.axis('off')\n",
    "plt.show()"
   ]
  },
  {
   "cell_type": "code",
   "execution_count": 44,
   "metadata": {},
   "outputs": [
    {
     "data": {
      "text/html": [
       "<div>\n",
       "<style scoped>\n",
       "    .dataframe tbody tr th:only-of-type {\n",
       "        vertical-align: middle;\n",
       "    }\n",
       "\n",
       "    .dataframe tbody tr th {\n",
       "        vertical-align: top;\n",
       "    }\n",
       "\n",
       "    .dataframe thead th {\n",
       "        text-align: right;\n",
       "    }\n",
       "</style>\n",
       "<table border=\"1\" class=\"dataframe\">\n",
       "  <thead>\n",
       "    <tr style=\"text-align: right;\">\n",
       "      <th></th>\n",
       "      <th>name</th>\n",
       "      <th>review</th>\n",
       "      <th>sentiment_1</th>\n",
       "    </tr>\n",
       "  </thead>\n",
       "  <tbody>\n",
       "    <tr>\n",
       "      <th>0</th>\n",
       "      <td>Coney Island Albino Python</td>\n",
       "      <td>Experienced from a 12oz bottle in a pub glass....</td>\n",
       "      <td>2</td>\n",
       "    </tr>\n",
       "    <tr>\n",
       "      <th>1</th>\n",
       "      <td>Steam Whistle Pilsner</td>\n",
       "      <td>Golden yellow, slightly sweet grassy aroma. Re...</td>\n",
       "      <td>2</td>\n",
       "    </tr>\n",
       "    <tr>\n",
       "      <th>2</th>\n",
       "      <td>Hitachino Nest New Year Celebration Ale</td>\n",
       "      <td>,33L. 08 opened brand spanking new. Pours a de...</td>\n",
       "      <td>2</td>\n",
       "    </tr>\n",
       "    <tr>\n",
       "      <th>3</th>\n",
       "      <td>Cigar City Capricho Oscuro &amp;#40;Batch 1&amp;#41;</td>\n",
       "      <td>In short: A brutal highly roasted woody dark b...</td>\n",
       "      <td>0</td>\n",
       "    </tr>\n",
       "    <tr>\n",
       "      <th>4</th>\n",
       "      <td>Shorts Anniversary Ale 2008</td>\n",
       "      <td>Poured a hazy red amber color with a small, of...</td>\n",
       "      <td>2</td>\n",
       "    </tr>\n",
       "  </tbody>\n",
       "</table>\n",
       "</div>"
      ],
      "text/plain": [
       "                                           name  \\\n",
       "0                   Coney Island Albino Python    \n",
       "1                         Steam Whistle Pilsner   \n",
       "2       Hitachino Nest New Year Celebration Ale   \n",
       "3  Cigar City Capricho Oscuro &#40;Batch 1&#41;   \n",
       "4                   Shorts Anniversary Ale 2008   \n",
       "\n",
       "                                              review  sentiment_1  \n",
       "0  Experienced from a 12oz bottle in a pub glass....            2  \n",
       "1  Golden yellow, slightly sweet grassy aroma. Re...            2  \n",
       "2  ,33L. 08 opened brand spanking new. Pours a de...            2  \n",
       "3  In short: A brutal highly roasted woody dark b...            0  \n",
       "4  Poured a hazy red amber color with a small, of...            2  "
      ]
     },
     "execution_count": 44,
     "metadata": {},
     "output_type": "execute_result"
    }
   ],
   "source": [
    "reviews_2 = reviews_1.drop(['length', 'lang', 'sentiment'], axis=1)\n",
    "reviews_2.head()"
   ]
  },
  {
   "cell_type": "code",
   "execution_count": 45,
   "metadata": {},
   "outputs": [
    {
     "name": "stdout",
     "output_type": "stream",
     "text": [
      "<class 'pandas.core.frame.DataFrame'>\n",
      "RangeIndex: 13726 entries, 0 to 13725\n",
      "Data columns (total 3 columns):\n",
      " #   Column       Non-Null Count  Dtype \n",
      "---  ------       --------------  ----- \n",
      " 0   name         13726 non-null  object\n",
      " 1   review       13726 non-null  object\n",
      " 2   sentiment_1  13726 non-null  int64 \n",
      "dtypes: int64(1), object(2)\n",
      "memory usage: 321.8+ KB\n"
     ]
    }
   ],
   "source": [
    "reviews_2.info()"
   ]
  },
  {
   "cell_type": "code",
   "execution_count": 46,
   "metadata": {},
   "outputs": [
    {
     "data": {
      "text/html": [
       "<div>\n",
       "<style scoped>\n",
       "    .dataframe tbody tr th:only-of-type {\n",
       "        vertical-align: middle;\n",
       "    }\n",
       "\n",
       "    .dataframe tbody tr th {\n",
       "        vertical-align: top;\n",
       "    }\n",
       "\n",
       "    .dataframe thead th {\n",
       "        text-align: right;\n",
       "    }\n",
       "</style>\n",
       "<table border=\"1\" class=\"dataframe\">\n",
       "  <thead>\n",
       "    <tr style=\"text-align: right;\">\n",
       "      <th></th>\n",
       "      <th>name</th>\n",
       "      <th>review</th>\n",
       "    </tr>\n",
       "  </thead>\n",
       "  <tbody>\n",
       "    <tr>\n",
       "      <th>0</th>\n",
       "      <td>Coney Island Albino Python</td>\n",
       "      <td>Experienced from a 12oz bottle in a pub glass....</td>\n",
       "    </tr>\n",
       "    <tr>\n",
       "      <th>1</th>\n",
       "      <td>Steam Whistle Pilsner</td>\n",
       "      <td>Golden yellow, slightly sweet grassy aroma. Re...</td>\n",
       "    </tr>\n",
       "    <tr>\n",
       "      <th>2</th>\n",
       "      <td>Hitachino Nest New Year Celebration Ale</td>\n",
       "      <td>,33L. 08 opened brand spanking new. Pours a de...</td>\n",
       "    </tr>\n",
       "    <tr>\n",
       "      <th>3</th>\n",
       "      <td>Cigar City Capricho Oscuro &amp;#40;Batch 1&amp;#41;</td>\n",
       "      <td>In short: A brutal highly roasted woody dark b...</td>\n",
       "    </tr>\n",
       "    <tr>\n",
       "      <th>4</th>\n",
       "      <td>Shorts Anniversary Ale 2008</td>\n",
       "      <td>Poured a hazy red amber color with a small, of...</td>\n",
       "    </tr>\n",
       "  </tbody>\n",
       "</table>\n",
       "</div>"
      ],
      "text/plain": [
       "                                           name  \\\n",
       "0                   Coney Island Albino Python    \n",
       "1                         Steam Whistle Pilsner   \n",
       "2       Hitachino Nest New Year Celebration Ale   \n",
       "3  Cigar City Capricho Oscuro &#40;Batch 1&#41;   \n",
       "4                   Shorts Anniversary Ale 2008   \n",
       "\n",
       "                                              review  \n",
       "0  Experienced from a 12oz bottle in a pub glass....  \n",
       "1  Golden yellow, slightly sweet grassy aroma. Re...  \n",
       "2  ,33L. 08 opened brand spanking new. Pours a de...  \n",
       "3  In short: A brutal highly roasted woody dark b...  \n",
       "4  Poured a hazy red amber color with a small, of...  "
      ]
     },
     "execution_count": 46,
     "metadata": {},
     "output_type": "execute_result"
    }
   ],
   "source": [
    "X = reviews_2.drop('sentiment_1', axis=1)\n",
    "X.head()"
   ]
  },
  {
   "cell_type": "code",
   "execution_count": 47,
   "metadata": {},
   "outputs": [
    {
     "data": {
      "text/plain": [
       "0    2\n",
       "1    2\n",
       "2    2\n",
       "3    0\n",
       "4    2\n",
       "Name: sentiment_1, dtype: int64"
      ]
     },
     "execution_count": 47,
     "metadata": {},
     "output_type": "execute_result"
    }
   ],
   "source": [
    "y = reviews_2['sentiment_1']\n",
    "y.head()"
   ]
  },
  {
   "cell_type": "code",
   "execution_count": 48,
   "metadata": {},
   "outputs": [],
   "source": [
    "X_train, X_test, y_train, y_test = train_test_split(X, y, test_size=0.2, random_state=42, stratify=y)"
   ]
  },
  {
   "cell_type": "code",
   "execution_count": 49,
   "metadata": {},
   "outputs": [
    {
     "data": {
      "text/html": [
       "<div>\n",
       "<style scoped>\n",
       "    .dataframe tbody tr th:only-of-type {\n",
       "        vertical-align: middle;\n",
       "    }\n",
       "\n",
       "    .dataframe tbody tr th {\n",
       "        vertical-align: top;\n",
       "    }\n",
       "\n",
       "    .dataframe thead th {\n",
       "        text-align: right;\n",
       "    }\n",
       "</style>\n",
       "<table border=\"1\" class=\"dataframe\">\n",
       "  <thead>\n",
       "    <tr style=\"text-align: right;\">\n",
       "      <th></th>\n",
       "      <th>name</th>\n",
       "      <th>review</th>\n",
       "    </tr>\n",
       "  </thead>\n",
       "  <tbody>\n",
       "    <tr>\n",
       "      <th>2531</th>\n",
       "      <td>Floris Mango</td>\n",
       "      <td>A Mes rate: \\tBottle from I dont care where. M...</td>\n",
       "    </tr>\n",
       "    <tr>\n",
       "      <th>441</th>\n",
       "      <td>Highland Cattail Peak Wheat</td>\n",
       "      <td>12oz bottle, courtesy of TURDFERGUSON, thanks ...</td>\n",
       "    </tr>\n",
       "    <tr>\n",
       "      <th>5799</th>\n",
       "      <td>John Harvards Pumpkin Spice Ale</td>\n",
       "      <td>Poured a lightly hazed  chestnut color with an...</td>\n",
       "    </tr>\n",
       "    <tr>\n",
       "      <th>12612</th>\n",
       "      <td>City Light</td>\n",
       "      <td>This beer is just like a bud or busch light. I...</td>\n",
       "    </tr>\n",
       "    <tr>\n",
       "      <th>11390</th>\n",
       "      <td>High &amp; Mighty St. Hubbins Abbey Ale</td>\n",
       "      <td>HogTownHarrys bottle, shared with Blankboy and...</td>\n",
       "    </tr>\n",
       "  </tbody>\n",
       "</table>\n",
       "</div>"
      ],
      "text/plain": [
       "                                      name  \\\n",
       "2531                          Floris Mango   \n",
       "441            Highland Cattail Peak Wheat   \n",
       "5799       John Harvards Pumpkin Spice Ale   \n",
       "12612                           City Light   \n",
       "11390  High & Mighty St. Hubbins Abbey Ale   \n",
       "\n",
       "                                                  review  \n",
       "2531   A Mes rate: \\tBottle from I dont care where. M...  \n",
       "441    12oz bottle, courtesy of TURDFERGUSON, thanks ...  \n",
       "5799   Poured a lightly hazed  chestnut color with an...  \n",
       "12612  This beer is just like a bud or busch light. I...  \n",
       "11390  HogTownHarrys bottle, shared with Blankboy and...  "
      ]
     },
     "execution_count": 49,
     "metadata": {},
     "output_type": "execute_result"
    }
   ],
   "source": [
    "X_train.head()"
   ]
  },
  {
   "cell_type": "code",
   "execution_count": 50,
   "metadata": {},
   "outputs": [
    {
     "data": {
      "text/html": [
       "<div>\n",
       "<style scoped>\n",
       "    .dataframe tbody tr th:only-of-type {\n",
       "        vertical-align: middle;\n",
       "    }\n",
       "\n",
       "    .dataframe tbody tr th {\n",
       "        vertical-align: top;\n",
       "    }\n",
       "\n",
       "    .dataframe thead th {\n",
       "        text-align: right;\n",
       "    }\n",
       "</style>\n",
       "<table border=\"1\" class=\"dataframe\">\n",
       "  <thead>\n",
       "    <tr style=\"text-align: right;\">\n",
       "      <th></th>\n",
       "      <th>name</th>\n",
       "      <th>review</th>\n",
       "    </tr>\n",
       "  </thead>\n",
       "  <tbody>\n",
       "    <tr>\n",
       "      <th>11615</th>\n",
       "      <td>La Rulles Jean Chris Numero 1</td>\n",
       "      <td>On tap at Ma Che Siete Venuti a Fa. Hazy golde...</td>\n",
       "    </tr>\n",
       "    <tr>\n",
       "      <th>13720</th>\n",
       "      <td>Shipyard Export Ale</td>\n",
       "      <td>Bottle. Aroma is strongly of hops, with a slig...</td>\n",
       "    </tr>\n",
       "    <tr>\n",
       "      <th>8415</th>\n",
       "      <td>Newby Wyke Bear Island</td>\n",
       "      <td>Gravity cask at Maidstone BF. Slightly hazy go...</td>\n",
       "    </tr>\n",
       "    <tr>\n",
       "      <th>5688</th>\n",
       "      <td>Allagash Dubbel Reserve</td>\n",
       "      <td>Deep muddy red-brown.  Nose quite sweet, candy...</td>\n",
       "    </tr>\n",
       "    <tr>\n",
       "      <th>6187</th>\n",
       "      <td>Shipyard Export Ale</td>\n",
       "      <td>I just did not pick up anything other than a d...</td>\n",
       "    </tr>\n",
       "  </tbody>\n",
       "</table>\n",
       "</div>"
      ],
      "text/plain": [
       "                                name  \\\n",
       "11615  La Rulles Jean Chris Numero 1   \n",
       "13720            Shipyard Export Ale   \n",
       "8415          Newby Wyke Bear Island   \n",
       "5688         Allagash Dubbel Reserve   \n",
       "6187             Shipyard Export Ale   \n",
       "\n",
       "                                                  review  \n",
       "11615  On tap at Ma Che Siete Venuti a Fa. Hazy golde...  \n",
       "13720  Bottle. Aroma is strongly of hops, with a slig...  \n",
       "8415   Gravity cask at Maidstone BF. Slightly hazy go...  \n",
       "5688   Deep muddy red-brown.  Nose quite sweet, candy...  \n",
       "6187   I just did not pick up anything other than a d...  "
      ]
     },
     "execution_count": 50,
     "metadata": {},
     "output_type": "execute_result"
    }
   ],
   "source": [
    "X_test.head()"
   ]
  },
  {
   "cell_type": "code",
   "execution_count": 51,
   "metadata": {},
   "outputs": [
    {
     "data": {
      "text/html": [
       "<div>\n",
       "<style scoped>\n",
       "    .dataframe tbody tr th:only-of-type {\n",
       "        vertical-align: middle;\n",
       "    }\n",
       "\n",
       "    .dataframe tbody tr th {\n",
       "        vertical-align: top;\n",
       "    }\n",
       "\n",
       "    .dataframe thead th {\n",
       "        text-align: right;\n",
       "    }\n",
       "</style>\n",
       "<table border=\"1\" class=\"dataframe\">\n",
       "  <thead>\n",
       "    <tr style=\"text-align: right;\">\n",
       "      <th></th>\n",
       "      <th>name</th>\n",
       "      <th>review</th>\n",
       "    </tr>\n",
       "  </thead>\n",
       "  <tbody>\n",
       "    <tr>\n",
       "      <th>0</th>\n",
       "      <td>La Rulles Jean Chris Numero 1</td>\n",
       "      <td>On tap at Ma Che Siete Venuti a Fa. Hazy golde...</td>\n",
       "    </tr>\n",
       "    <tr>\n",
       "      <th>1</th>\n",
       "      <td>Shipyard Export Ale</td>\n",
       "      <td>Bottle. Aroma is strongly of hops, with a slig...</td>\n",
       "    </tr>\n",
       "    <tr>\n",
       "      <th>2</th>\n",
       "      <td>Newby Wyke Bear Island</td>\n",
       "      <td>Gravity cask at Maidstone BF. Slightly hazy go...</td>\n",
       "    </tr>\n",
       "    <tr>\n",
       "      <th>3</th>\n",
       "      <td>Allagash Dubbel Reserve</td>\n",
       "      <td>Deep muddy red-brown.  Nose quite sweet, candy...</td>\n",
       "    </tr>\n",
       "    <tr>\n",
       "      <th>4</th>\n",
       "      <td>Shipyard Export Ale</td>\n",
       "      <td>I just did not pick up anything other than a d...</td>\n",
       "    </tr>\n",
       "    <tr>\n",
       "      <th>...</th>\n",
       "      <td>...</td>\n",
       "      <td>...</td>\n",
       "    </tr>\n",
       "    <tr>\n",
       "      <th>2741</th>\n",
       "      <td>Rugby Victorious</td>\n",
       "      <td>Cask at Guillford ... amber ... thin white hea...</td>\n",
       "    </tr>\n",
       "    <tr>\n",
       "      <th>2742</th>\n",
       "      <td>Lucky Labrador Super Dog</td>\n",
       "      <td>Draft @ the brewpub. Pours a hazy orange color...</td>\n",
       "    </tr>\n",
       "    <tr>\n",
       "      <th>2743</th>\n",
       "      <td>Mishawaka Transit of Venus Sunrise Ale</td>\n",
       "      <td>On tap at the brewery. This was really a toast...</td>\n",
       "    </tr>\n",
       "    <tr>\n",
       "      <th>2744</th>\n",
       "      <td>AleSmith Horny Devil</td>\n",
       "      <td>Crushed at GABF 10.  Was excited to taste this...</td>\n",
       "    </tr>\n",
       "    <tr>\n",
       "      <th>2745</th>\n",
       "      <td>Allagash Victor</td>\n",
       "      <td>Poured a hazy orange color with a small, off w...</td>\n",
       "    </tr>\n",
       "  </tbody>\n",
       "</table>\n",
       "<p>2746 rows × 2 columns</p>\n",
       "</div>"
      ],
      "text/plain": [
       "                                        name  \\\n",
       "0              La Rulles Jean Chris Numero 1   \n",
       "1                        Shipyard Export Ale   \n",
       "2                     Newby Wyke Bear Island   \n",
       "3                    Allagash Dubbel Reserve   \n",
       "4                        Shipyard Export Ale   \n",
       "...                                      ...   \n",
       "2741                        Rugby Victorious   \n",
       "2742                Lucky Labrador Super Dog   \n",
       "2743  Mishawaka Transit of Venus Sunrise Ale   \n",
       "2744                   AleSmith Horny Devil    \n",
       "2745                         Allagash Victor   \n",
       "\n",
       "                                                 review  \n",
       "0     On tap at Ma Che Siete Venuti a Fa. Hazy golde...  \n",
       "1     Bottle. Aroma is strongly of hops, with a slig...  \n",
       "2     Gravity cask at Maidstone BF. Slightly hazy go...  \n",
       "3     Deep muddy red-brown.  Nose quite sweet, candy...  \n",
       "4     I just did not pick up anything other than a d...  \n",
       "...                                                 ...  \n",
       "2741  Cask at Guillford ... amber ... thin white hea...  \n",
       "2742  Draft @ the brewpub. Pours a hazy orange color...  \n",
       "2743  On tap at the brewery. This was really a toast...  \n",
       "2744  Crushed at GABF 10.  Was excited to taste this...  \n",
       "2745  Poured a hazy orange color with a small, off w...  \n",
       "\n",
       "[2746 rows x 2 columns]"
      ]
     },
     "execution_count": 51,
     "metadata": {},
     "output_type": "execute_result"
    }
   ],
   "source": [
    "X_test = X_test.reset_index().drop('index', axis=1)\n",
    "X_test"
   ]
  },
  {
   "cell_type": "code",
   "execution_count": null,
   "metadata": {},
   "outputs": [],
   "source": []
  },
  {
   "cell_type": "code",
   "execution_count": 52,
   "metadata": {},
   "outputs": [
    {
     "data": {
      "text/plain": [
       "CountVectorizer(analyzer='word', binary=False, decode_error='strict',\n",
       "                dtype=<class 'numpy.int64'>, encoding='utf-8', input='content',\n",
       "                lowercase=True, max_df=1.0, max_features=10000, min_df=1,\n",
       "                ngram_range=(1, 2), preprocessor=None, stop_words='english',\n",
       "                strip_accents=None, token_pattern='(?u)\\\\b\\\\w\\\\w+\\\\b',\n",
       "                tokenizer=None, vocabulary=None)"
      ]
     },
     "execution_count": 52,
     "metadata": {},
     "output_type": "execute_result"
    }
   ],
   "source": [
    "count_vect = CountVectorizer(ngram_range=(1,2), max_features=10000, stop_words='english')\n",
    "count_vect.fit(X_train.review)"
   ]
  },
  {
   "cell_type": "code",
   "execution_count": 53,
   "metadata": {},
   "outputs": [
    {
     "data": {
      "text/html": [
       "<div>\n",
       "<style scoped>\n",
       "    .dataframe tbody tr th:only-of-type {\n",
       "        vertical-align: middle;\n",
       "    }\n",
       "\n",
       "    .dataframe tbody tr th {\n",
       "        vertical-align: top;\n",
       "    }\n",
       "\n",
       "    .dataframe thead th {\n",
       "        text-align: right;\n",
       "    }\n",
       "</style>\n",
       "<table border=\"1\" class=\"dataframe\">\n",
       "  <thead>\n",
       "    <tr style=\"text-align: right;\">\n",
       "      <th></th>\n",
       "      <th>01</th>\n",
       "      <th>02</th>\n",
       "      <th>03</th>\n",
       "      <th>04</th>\n",
       "      <th>05</th>\n",
       "      <th>06</th>\n",
       "      <th>06 bottle</th>\n",
       "      <th>07</th>\n",
       "      <th>08</th>\n",
       "      <th>08 pours</th>\n",
       "      <th>...</th>\n",
       "      <th>youngs</th>\n",
       "      <th>youre</th>\n",
       "      <th>youve</th>\n",
       "      <th>yuck</th>\n",
       "      <th>yum</th>\n",
       "      <th>yummy</th>\n",
       "      <th>zero</th>\n",
       "      <th>zest</th>\n",
       "      <th>zesty</th>\n",
       "      <th>zing</th>\n",
       "    </tr>\n",
       "  </thead>\n",
       "  <tbody>\n",
       "    <tr>\n",
       "      <th>0</th>\n",
       "      <td>0</td>\n",
       "      <td>0</td>\n",
       "      <td>0</td>\n",
       "      <td>0</td>\n",
       "      <td>0</td>\n",
       "      <td>0</td>\n",
       "      <td>0</td>\n",
       "      <td>0</td>\n",
       "      <td>0</td>\n",
       "      <td>0</td>\n",
       "      <td>...</td>\n",
       "      <td>0</td>\n",
       "      <td>0</td>\n",
       "      <td>0</td>\n",
       "      <td>0</td>\n",
       "      <td>0</td>\n",
       "      <td>0</td>\n",
       "      <td>0</td>\n",
       "      <td>0</td>\n",
       "      <td>0</td>\n",
       "      <td>0</td>\n",
       "    </tr>\n",
       "    <tr>\n",
       "      <th>1</th>\n",
       "      <td>0</td>\n",
       "      <td>0</td>\n",
       "      <td>0</td>\n",
       "      <td>0</td>\n",
       "      <td>0</td>\n",
       "      <td>0</td>\n",
       "      <td>0</td>\n",
       "      <td>0</td>\n",
       "      <td>0</td>\n",
       "      <td>0</td>\n",
       "      <td>...</td>\n",
       "      <td>0</td>\n",
       "      <td>0</td>\n",
       "      <td>0</td>\n",
       "      <td>0</td>\n",
       "      <td>0</td>\n",
       "      <td>0</td>\n",
       "      <td>0</td>\n",
       "      <td>1</td>\n",
       "      <td>0</td>\n",
       "      <td>0</td>\n",
       "    </tr>\n",
       "    <tr>\n",
       "      <th>2</th>\n",
       "      <td>0</td>\n",
       "      <td>0</td>\n",
       "      <td>0</td>\n",
       "      <td>0</td>\n",
       "      <td>0</td>\n",
       "      <td>0</td>\n",
       "      <td>0</td>\n",
       "      <td>0</td>\n",
       "      <td>0</td>\n",
       "      <td>0</td>\n",
       "      <td>...</td>\n",
       "      <td>0</td>\n",
       "      <td>0</td>\n",
       "      <td>0</td>\n",
       "      <td>0</td>\n",
       "      <td>0</td>\n",
       "      <td>0</td>\n",
       "      <td>0</td>\n",
       "      <td>0</td>\n",
       "      <td>0</td>\n",
       "      <td>0</td>\n",
       "    </tr>\n",
       "    <tr>\n",
       "      <th>3</th>\n",
       "      <td>0</td>\n",
       "      <td>0</td>\n",
       "      <td>0</td>\n",
       "      <td>0</td>\n",
       "      <td>0</td>\n",
       "      <td>0</td>\n",
       "      <td>0</td>\n",
       "      <td>0</td>\n",
       "      <td>0</td>\n",
       "      <td>0</td>\n",
       "      <td>...</td>\n",
       "      <td>0</td>\n",
       "      <td>0</td>\n",
       "      <td>0</td>\n",
       "      <td>0</td>\n",
       "      <td>0</td>\n",
       "      <td>0</td>\n",
       "      <td>0</td>\n",
       "      <td>0</td>\n",
       "      <td>0</td>\n",
       "      <td>0</td>\n",
       "    </tr>\n",
       "    <tr>\n",
       "      <th>4</th>\n",
       "      <td>0</td>\n",
       "      <td>0</td>\n",
       "      <td>0</td>\n",
       "      <td>0</td>\n",
       "      <td>0</td>\n",
       "      <td>0</td>\n",
       "      <td>0</td>\n",
       "      <td>0</td>\n",
       "      <td>0</td>\n",
       "      <td>0</td>\n",
       "      <td>...</td>\n",
       "      <td>0</td>\n",
       "      <td>0</td>\n",
       "      <td>0</td>\n",
       "      <td>0</td>\n",
       "      <td>0</td>\n",
       "      <td>0</td>\n",
       "      <td>0</td>\n",
       "      <td>0</td>\n",
       "      <td>0</td>\n",
       "      <td>0</td>\n",
       "    </tr>\n",
       "  </tbody>\n",
       "</table>\n",
       "<p>5 rows × 10000 columns</p>\n",
       "</div>"
      ],
      "text/plain": [
       "   01  02  03  04  05  06  06 bottle  07  08  08 pours  ...  youngs  youre  \\\n",
       "0   0   0   0   0   0   0          0   0   0         0  ...       0      0   \n",
       "1   0   0   0   0   0   0          0   0   0         0  ...       0      0   \n",
       "2   0   0   0   0   0   0          0   0   0         0  ...       0      0   \n",
       "3   0   0   0   0   0   0          0   0   0         0  ...       0      0   \n",
       "4   0   0   0   0   0   0          0   0   0         0  ...       0      0   \n",
       "\n",
       "   youve  yuck  yum  yummy  zero  zest  zesty  zing  \n",
       "0      0     0    0      0     0     0      0     0  \n",
       "1      0     0    0      0     0     1      0     0  \n",
       "2      0     0    0      0     0     0      0     0  \n",
       "3      0     0    0      0     0     0      0     0  \n",
       "4      0     0    0      0     0     0      0     0  \n",
       "\n",
       "[5 rows x 10000 columns]"
      ]
     },
     "execution_count": 53,
     "metadata": {},
     "output_type": "execute_result"
    }
   ],
   "source": [
    "X_train_transformed = count_vect.transform(X_train.review)\n",
    "train_df = pd.DataFrame(X_train_transformed.toarray(), columns=count_vect.get_feature_names())\n",
    "train_df.head()"
   ]
  },
  {
   "cell_type": "code",
   "execution_count": null,
   "metadata": {},
   "outputs": [],
   "source": []
  },
  {
   "cell_type": "code",
   "execution_count": 54,
   "metadata": {},
   "outputs": [
    {
     "name": "stdout",
     "output_type": "stream",
     "text": [
      "<class 'pandas.core.frame.DataFrame'>\n",
      "(10980, 10000)\n"
     ]
    }
   ],
   "source": [
    "print(type(train_df))\n",
    "print(train_df.shape)\n",
    "# print(review_text_count.toarray())\n",
    "##print(count_vect.get_feature_names())\n",
    "##print(reviews_1.review)"
   ]
  },
  {
   "cell_type": "code",
   "execution_count": 55,
   "metadata": {},
   "outputs": [],
   "source": [
    "tfidf_trans = TfidfTransformer().fit(train_df)"
   ]
  },
  {
   "cell_type": "code",
   "execution_count": 56,
   "metadata": {},
   "outputs": [
    {
     "name": "stdout",
     "output_type": "stream",
     "text": [
      "<class 'scipy.sparse.csr.csr_matrix'>\n"
     ]
    }
   ],
   "source": [
    "training_tfidf = tfidf_trans.transform(train_df)\n",
    "print(type(training_tfidf))\n",
    "##print(training_tfidf)\n",
    "\n",
    "\n"
   ]
  },
  {
   "cell_type": "code",
   "execution_count": 57,
   "metadata": {},
   "outputs": [
    {
     "data": {
      "text/html": [
       "<div>\n",
       "<style scoped>\n",
       "    .dataframe tbody tr th:only-of-type {\n",
       "        vertical-align: middle;\n",
       "    }\n",
       "\n",
       "    .dataframe tbody tr th {\n",
       "        vertical-align: top;\n",
       "    }\n",
       "\n",
       "    .dataframe thead th {\n",
       "        text-align: right;\n",
       "    }\n",
       "</style>\n",
       "<table border=\"1\" class=\"dataframe\">\n",
       "  <thead>\n",
       "    <tr style=\"text-align: right;\">\n",
       "      <th></th>\n",
       "      <th>0</th>\n",
       "      <th>1</th>\n",
       "      <th>2</th>\n",
       "      <th>3</th>\n",
       "      <th>4</th>\n",
       "      <th>5</th>\n",
       "      <th>6</th>\n",
       "      <th>7</th>\n",
       "      <th>8</th>\n",
       "      <th>9</th>\n",
       "      <th>...</th>\n",
       "      <th>9990</th>\n",
       "      <th>9991</th>\n",
       "      <th>9992</th>\n",
       "      <th>9993</th>\n",
       "      <th>9994</th>\n",
       "      <th>9995</th>\n",
       "      <th>9996</th>\n",
       "      <th>9997</th>\n",
       "      <th>9998</th>\n",
       "      <th>9999</th>\n",
       "    </tr>\n",
       "  </thead>\n",
       "  <tbody>\n",
       "    <tr>\n",
       "      <th>0</th>\n",
       "      <td>0.0</td>\n",
       "      <td>0.0</td>\n",
       "      <td>0.0</td>\n",
       "      <td>0.0</td>\n",
       "      <td>0.0</td>\n",
       "      <td>0.0</td>\n",
       "      <td>0.0</td>\n",
       "      <td>0.0</td>\n",
       "      <td>0.0</td>\n",
       "      <td>0.0</td>\n",
       "      <td>...</td>\n",
       "      <td>0.0</td>\n",
       "      <td>0.0</td>\n",
       "      <td>0.0</td>\n",
       "      <td>0.0</td>\n",
       "      <td>0.0</td>\n",
       "      <td>0.0</td>\n",
       "      <td>0.0</td>\n",
       "      <td>0.000000</td>\n",
       "      <td>0.0</td>\n",
       "      <td>0.0</td>\n",
       "    </tr>\n",
       "    <tr>\n",
       "      <th>1</th>\n",
       "      <td>0.0</td>\n",
       "      <td>0.0</td>\n",
       "      <td>0.0</td>\n",
       "      <td>0.0</td>\n",
       "      <td>0.0</td>\n",
       "      <td>0.0</td>\n",
       "      <td>0.0</td>\n",
       "      <td>0.0</td>\n",
       "      <td>0.0</td>\n",
       "      <td>0.0</td>\n",
       "      <td>...</td>\n",
       "      <td>0.0</td>\n",
       "      <td>0.0</td>\n",
       "      <td>0.0</td>\n",
       "      <td>0.0</td>\n",
       "      <td>0.0</td>\n",
       "      <td>0.0</td>\n",
       "      <td>0.0</td>\n",
       "      <td>0.199575</td>\n",
       "      <td>0.0</td>\n",
       "      <td>0.0</td>\n",
       "    </tr>\n",
       "    <tr>\n",
       "      <th>2</th>\n",
       "      <td>0.0</td>\n",
       "      <td>0.0</td>\n",
       "      <td>0.0</td>\n",
       "      <td>0.0</td>\n",
       "      <td>0.0</td>\n",
       "      <td>0.0</td>\n",
       "      <td>0.0</td>\n",
       "      <td>0.0</td>\n",
       "      <td>0.0</td>\n",
       "      <td>0.0</td>\n",
       "      <td>...</td>\n",
       "      <td>0.0</td>\n",
       "      <td>0.0</td>\n",
       "      <td>0.0</td>\n",
       "      <td>0.0</td>\n",
       "      <td>0.0</td>\n",
       "      <td>0.0</td>\n",
       "      <td>0.0</td>\n",
       "      <td>0.000000</td>\n",
       "      <td>0.0</td>\n",
       "      <td>0.0</td>\n",
       "    </tr>\n",
       "    <tr>\n",
       "      <th>3</th>\n",
       "      <td>0.0</td>\n",
       "      <td>0.0</td>\n",
       "      <td>0.0</td>\n",
       "      <td>0.0</td>\n",
       "      <td>0.0</td>\n",
       "      <td>0.0</td>\n",
       "      <td>0.0</td>\n",
       "      <td>0.0</td>\n",
       "      <td>0.0</td>\n",
       "      <td>0.0</td>\n",
       "      <td>...</td>\n",
       "      <td>0.0</td>\n",
       "      <td>0.0</td>\n",
       "      <td>0.0</td>\n",
       "      <td>0.0</td>\n",
       "      <td>0.0</td>\n",
       "      <td>0.0</td>\n",
       "      <td>0.0</td>\n",
       "      <td>0.000000</td>\n",
       "      <td>0.0</td>\n",
       "      <td>0.0</td>\n",
       "    </tr>\n",
       "    <tr>\n",
       "      <th>4</th>\n",
       "      <td>0.0</td>\n",
       "      <td>0.0</td>\n",
       "      <td>0.0</td>\n",
       "      <td>0.0</td>\n",
       "      <td>0.0</td>\n",
       "      <td>0.0</td>\n",
       "      <td>0.0</td>\n",
       "      <td>0.0</td>\n",
       "      <td>0.0</td>\n",
       "      <td>0.0</td>\n",
       "      <td>...</td>\n",
       "      <td>0.0</td>\n",
       "      <td>0.0</td>\n",
       "      <td>0.0</td>\n",
       "      <td>0.0</td>\n",
       "      <td>0.0</td>\n",
       "      <td>0.0</td>\n",
       "      <td>0.0</td>\n",
       "      <td>0.000000</td>\n",
       "      <td>0.0</td>\n",
       "      <td>0.0</td>\n",
       "    </tr>\n",
       "  </tbody>\n",
       "</table>\n",
       "<p>5 rows × 10000 columns</p>\n",
       "</div>"
      ],
      "text/plain": [
       "   0     1     2     3     4     5     6     7     8     9     ...  9990  \\\n",
       "0   0.0   0.0   0.0   0.0   0.0   0.0   0.0   0.0   0.0   0.0  ...   0.0   \n",
       "1   0.0   0.0   0.0   0.0   0.0   0.0   0.0   0.0   0.0   0.0  ...   0.0   \n",
       "2   0.0   0.0   0.0   0.0   0.0   0.0   0.0   0.0   0.0   0.0  ...   0.0   \n",
       "3   0.0   0.0   0.0   0.0   0.0   0.0   0.0   0.0   0.0   0.0  ...   0.0   \n",
       "4   0.0   0.0   0.0   0.0   0.0   0.0   0.0   0.0   0.0   0.0  ...   0.0   \n",
       "\n",
       "   9991  9992  9993  9994  9995  9996      9997  9998  9999  \n",
       "0   0.0   0.0   0.0   0.0   0.0   0.0  0.000000   0.0   0.0  \n",
       "1   0.0   0.0   0.0   0.0   0.0   0.0  0.199575   0.0   0.0  \n",
       "2   0.0   0.0   0.0   0.0   0.0   0.0  0.000000   0.0   0.0  \n",
       "3   0.0   0.0   0.0   0.0   0.0   0.0  0.000000   0.0   0.0  \n",
       "4   0.0   0.0   0.0   0.0   0.0   0.0  0.000000   0.0   0.0  \n",
       "\n",
       "[5 rows x 10000 columns]"
      ]
     },
     "execution_count": 57,
     "metadata": {},
     "output_type": "execute_result"
    }
   ],
   "source": [
    "tfidf_df = pd.DataFrame(training_tfidf.toarray())\n",
    "tfidf_df.head()"
   ]
  },
  {
   "cell_type": "code",
   "execution_count": 58,
   "metadata": {},
   "outputs": [
    {
     "name": "stdout",
     "output_type": "stream",
     "text": [
      "<class 'scipy.sparse.csr.csr_matrix'>\n",
      "(2746, 10000)\n"
     ]
    }
   ],
   "source": [
    "test_countvect = count_vect.transform(X_test.review)\n",
    "test_tfidf = tfidf_trans.transform(test_countvect)\n",
    "print(type(test_tfidf))\n",
    "print(pd.DataFrame(test_tfidf.toarray()).shape)"
   ]
  },
  {
   "cell_type": "code",
   "execution_count": 59,
   "metadata": {},
   "outputs": [
    {
     "data": {
      "text/plain": [
       "LogisticRegression(C=1.0, class_weight=None, dual=False, fit_intercept=True,\n",
       "                   intercept_scaling=1, l1_ratio=None, max_iter=100,\n",
       "                   multi_class='auto', n_jobs=None, penalty='l2',\n",
       "                   random_state=None, solver='lbfgs', tol=0.0001, verbose=0,\n",
       "                   warm_start=False)"
      ]
     },
     "execution_count": 59,
     "metadata": {},
     "output_type": "execute_result"
    }
   ],
   "source": [
    "lr = LogisticRegression()\n",
    "lr.fit(tfidf_df, y_train)"
   ]
  },
  {
   "cell_type": "code",
   "execution_count": 60,
   "metadata": {},
   "outputs": [],
   "source": [
    "y_pred = lr.predict(test_tfidf)"
   ]
  },
  {
   "cell_type": "code",
   "execution_count": 63,
   "metadata": {},
   "outputs": [],
   "source": [
    "proba = lr.predict_proba(test_tfidf)"
   ]
  },
  {
   "cell_type": "code",
   "execution_count": 113,
   "metadata": {},
   "outputs": [
    {
     "name": "stdout",
     "output_type": "stream",
     "text": [
      "Accuracy Score: 0.7825928623452294\n",
      "\n",
      "Classification Report:\n",
      "              precision    recall  f1-score   support\n",
      "\n",
      "           0       0.68      0.56      0.61       807\n",
      "           1       1.00      0.02      0.04       135\n",
      "           2       0.81      0.94      0.87      1804\n",
      "\n",
      "    accuracy                           0.78      2746\n",
      "   macro avg       0.83      0.51      0.51      2746\n",
      "weighted avg       0.78      0.78      0.76      2746\n",
      "\n",
      "\n",
      "Confusion Matrix:\n",
      "[[ 451    0  356]\n",
      " [ 102    3   30]\n",
      " [ 109    0 1695]]\n",
      "\n"
     ]
    }
   ],
   "source": [
    "print(\"Accuracy Score: {}\\n\".format(accuracy_score(y_test, y_pred)))\n",
    "# print(\"ROC score = {}\\n\".format(roc_auc_score(y_test, proba[:,1])))\n",
    "print(\"Classification Report:\\n{}\\n\".format(classification_report(y_test, y_pred)))\n",
    "print(\"Confusion Matrix:\\n{}\\n\".format(confusion_matrix(y_test, y_pred)))"
   ]
  },
  {
   "cell_type": "code",
   "execution_count": 64,
   "metadata": {},
   "outputs": [
    {
     "data": {
      "text/html": [
       "<div>\n",
       "<style scoped>\n",
       "    .dataframe tbody tr th:only-of-type {\n",
       "        vertical-align: middle;\n",
       "    }\n",
       "\n",
       "    .dataframe tbody tr th {\n",
       "        vertical-align: top;\n",
       "    }\n",
       "\n",
       "    .dataframe thead th {\n",
       "        text-align: right;\n",
       "    }\n",
       "</style>\n",
       "<table border=\"1\" class=\"dataframe\">\n",
       "  <thead>\n",
       "    <tr style=\"text-align: right;\">\n",
       "      <th></th>\n",
       "      <th>name</th>\n",
       "    </tr>\n",
       "  </thead>\n",
       "  <tbody>\n",
       "    <tr>\n",
       "      <th>2</th>\n",
       "      <td>Newby Wyke Bear Island</td>\n",
       "    </tr>\n",
       "    <tr>\n",
       "      <th>2</th>\n",
       "      <td>Newby Wyke Bear Island</td>\n",
       "    </tr>\n",
       "    <tr>\n",
       "      <th>0</th>\n",
       "      <td>La Rulles Jean Chris Numero 1</td>\n",
       "    </tr>\n",
       "    <tr>\n",
       "      <th>2</th>\n",
       "      <td>Newby Wyke Bear Island</td>\n",
       "    </tr>\n",
       "    <tr>\n",
       "      <th>2</th>\n",
       "      <td>Newby Wyke Bear Island</td>\n",
       "    </tr>\n",
       "    <tr>\n",
       "      <th>...</th>\n",
       "      <td>...</td>\n",
       "    </tr>\n",
       "    <tr>\n",
       "      <th>0</th>\n",
       "      <td>La Rulles Jean Chris Numero 1</td>\n",
       "    </tr>\n",
       "    <tr>\n",
       "      <th>0</th>\n",
       "      <td>La Rulles Jean Chris Numero 1</td>\n",
       "    </tr>\n",
       "    <tr>\n",
       "      <th>2</th>\n",
       "      <td>Newby Wyke Bear Island</td>\n",
       "    </tr>\n",
       "    <tr>\n",
       "      <th>2</th>\n",
       "      <td>Newby Wyke Bear Island</td>\n",
       "    </tr>\n",
       "    <tr>\n",
       "      <th>0</th>\n",
       "      <td>La Rulles Jean Chris Numero 1</td>\n",
       "    </tr>\n",
       "  </tbody>\n",
       "</table>\n",
       "<p>2746 rows × 1 columns</p>\n",
       "</div>"
      ],
      "text/plain": [
       "                             name\n",
       "2          Newby Wyke Bear Island\n",
       "2          Newby Wyke Bear Island\n",
       "0   La Rulles Jean Chris Numero 1\n",
       "2          Newby Wyke Bear Island\n",
       "2          Newby Wyke Bear Island\n",
       "..                            ...\n",
       "0   La Rulles Jean Chris Numero 1\n",
       "0   La Rulles Jean Chris Numero 1\n",
       "2          Newby Wyke Bear Island\n",
       "2          Newby Wyke Bear Island\n",
       "0   La Rulles Jean Chris Numero 1\n",
       "\n",
       "[2746 rows x 1 columns]"
      ]
     },
     "execution_count": 64,
     "metadata": {},
     "output_type": "execute_result"
    }
   ],
   "source": [
    "pred_df = pd.DataFrame(X_test['name'], y_pred)\n",
    "pred_df"
   ]
  },
  {
   "cell_type": "code",
   "execution_count": 65,
   "metadata": {},
   "outputs": [],
   "source": [
    "pred_df.to_csv('prediction.csv')"
   ]
  },
  {
   "cell_type": "code",
   "execution_count": null,
   "metadata": {},
   "outputs": [],
   "source": []
  },
  {
   "cell_type": "code",
   "execution_count": 146,
   "metadata": {},
   "outputs": [
    {
     "data": {
      "text/html": [
       "<div>\n",
       "<style scoped>\n",
       "    .dataframe tbody tr th:only-of-type {\n",
       "        vertical-align: middle;\n",
       "    }\n",
       "\n",
       "    .dataframe tbody tr th {\n",
       "        vertical-align: top;\n",
       "    }\n",
       "\n",
       "    .dataframe thead th {\n",
       "        text-align: right;\n",
       "    }\n",
       "</style>\n",
       "<table border=\"1\" class=\"dataframe\">\n",
       "  <thead>\n",
       "    <tr style=\"text-align: right;\">\n",
       "      <th></th>\n",
       "      <th>review</th>\n",
       "    </tr>\n",
       "  </thead>\n",
       "  <tbody>\n",
       "    <tr>\n",
       "      <th>0</th>\n",
       "      <td>Fruity aroma on the nose which made me think i...</td>\n",
       "    </tr>\n",
       "    <tr>\n",
       "      <th>1</th>\n",
       "      <td>I don't typically like stouts but decided to t...</td>\n",
       "    </tr>\n",
       "    <tr>\n",
       "      <th>2</th>\n",
       "      <td>Pils are my favorite beer so I'm sorry to say ...</td>\n",
       "    </tr>\n",
       "    <tr>\n",
       "      <th>3</th>\n",
       "      <td>Pours very dark brown with a small short-lasti...</td>\n",
       "    </tr>\n",
       "    <tr>\n",
       "      <th>4</th>\n",
       "      <td>Peach juice colour. Bubbly head. Aroma is rasp...</td>\n",
       "    </tr>\n",
       "    <tr>\n",
       "      <th>5</th>\n",
       "      <td>Hazy golden colour. Aroma is grassy with some ...</td>\n",
       "    </tr>\n",
       "    <tr>\n",
       "      <th>6</th>\n",
       "      <td>Very clear, pale amber nearing lemon. Only sma...</td>\n",
       "    </tr>\n",
       "    <tr>\n",
       "      <th>7</th>\n",
       "      <td>The beer is a hazy copper-red color with a med...</td>\n",
       "    </tr>\n",
       "    <tr>\n",
       "      <th>8</th>\n",
       "      <td>I'm not much of a stout guy buy enjoyed the 20...</td>\n",
       "    </tr>\n",
       "    <tr>\n",
       "      <th>9</th>\n",
       "      <td>Interesting pour to this as it had a blueberry...</td>\n",
       "    </tr>\n",
       "    <tr>\n",
       "      <th>10</th>\n",
       "      <td>Pours a clear, brilliant deep honey gold body ...</td>\n",
       "    </tr>\n",
       "    <tr>\n",
       "      <th>11</th>\n",
       "      <td>Lemon/orange scent with malt up front and bit ...</td>\n",
       "    </tr>\n",
       "    <tr>\n",
       "      <th>12</th>\n",
       "      <td>Looks like every other New England IPA, with h...</td>\n",
       "    </tr>\n",
       "    <tr>\n",
       "      <th>13</th>\n",
       "      <td>Clear light amber, sudsy bone white cap. Cerea...</td>\n",
       "    </tr>\n",
       "    <tr>\n",
       "      <th>14</th>\n",
       "      <td>Hazy pale yellow pour with a large white head ...</td>\n",
       "    </tr>\n",
       "    <tr>\n",
       "      <th>15</th>\n",
       "      <td>Poured from a can into a pint glass. Pours gol...</td>\n",
       "    </tr>\n",
       "    <tr>\n",
       "      <th>16</th>\n",
       "      <td>This one shifts in flavor compared to the arom...</td>\n",
       "    </tr>\n",
       "    <tr>\n",
       "      <th>17</th>\n",
       "      <td>Pours a deep jet-brown body highlighting mahog...</td>\n",
       "    </tr>\n",
       "    <tr>\n",
       "      <th>18</th>\n",
       "      <td>I always thought this was one of the better Ch...</td>\n",
       "    </tr>\n",
       "    <tr>\n",
       "      <th>19</th>\n",
       "      <td>Picked-up a case of cans at Bradford's in Plym...</td>\n",
       "    </tr>\n",
       "    <tr>\n",
       "      <th>20</th>\n",
       "      <td>Danky IPA with the smell of straight up weed. ...</td>\n",
       "    </tr>\n",
       "  </tbody>\n",
       "</table>\n",
       "</div>"
      ],
      "text/plain": [
       "                                               review\n",
       "0   Fruity aroma on the nose which made me think i...\n",
       "1   I don't typically like stouts but decided to t...\n",
       "2   Pils are my favorite beer so I'm sorry to say ...\n",
       "3   Pours very dark brown with a small short-lasti...\n",
       "4   Peach juice colour. Bubbly head. Aroma is rasp...\n",
       "5   Hazy golden colour. Aroma is grassy with some ...\n",
       "6   Very clear, pale amber nearing lemon. Only sma...\n",
       "7   The beer is a hazy copper-red color with a med...\n",
       "8   I'm not much of a stout guy buy enjoyed the 20...\n",
       "9   Interesting pour to this as it had a blueberry...\n",
       "10  Pours a clear, brilliant deep honey gold body ...\n",
       "11  Lemon/orange scent with malt up front and bit ...\n",
       "12  Looks like every other New England IPA, with h...\n",
       "13  Clear light amber, sudsy bone white cap. Cerea...\n",
       "14  Hazy pale yellow pour with a large white head ...\n",
       "15  Poured from a can into a pint glass. Pours gol...\n",
       "16  This one shifts in flavor compared to the arom...\n",
       "17  Pours a deep jet-brown body highlighting mahog...\n",
       "18  I always thought this was one of the better Ch...\n",
       "19  Picked-up a case of cans at Bradford's in Plym...\n",
       "20  Danky IPA with the smell of straight up weed. ..."
      ]
     },
     "execution_count": 146,
     "metadata": {},
     "output_type": "execute_result"
    }
   ],
   "source": [
    "test = pd.read_csv('reviews.csv')\n",
    "test"
   ]
  },
  {
   "cell_type": "code",
   "execution_count": 148,
   "metadata": {},
   "outputs": [
    {
     "name": "stdout",
     "output_type": "stream",
     "text": [
      "<class 'scipy.sparse.csr.csr_matrix'>\n",
      "(21, 10000)\n"
     ]
    }
   ],
   "source": [
    "test_reviews_countvect = count_vect.transform(test.review)\n",
    "test_reviews_tfidf = tfidf_trans.transform(test_reviews_countvect)\n",
    "print(type(test_reviews_tfidf))\n",
    "print(pd.DataFrame(test_reviews_tfidf.toarray()).shape)"
   ]
  },
  {
   "cell_type": "code",
   "execution_count": null,
   "metadata": {},
   "outputs": [],
   "source": [
    "test_reviews_df = pd.DataFrame()\n",
    "print(pd.DataFrame(test_reviews_tfidf.toarray()).shape)"
   ]
  },
  {
   "cell_type": "code",
   "execution_count": 149,
   "metadata": {},
   "outputs": [],
   "source": [
    "test_predictions = lr.predict(test_reviews_tfidf)"
   ]
  },
  {
   "cell_type": "code",
   "execution_count": 150,
   "metadata": {},
   "outputs": [
    {
     "data": {
      "text/plain": [
       "array([2, 0, 2, 0, 2, 2, 2, 2, 2, 2, 2, 2, 2, 2, 2, 2, 0, 2, 2, 2, 2])"
      ]
     },
     "execution_count": 150,
     "metadata": {},
     "output_type": "execute_result"
    }
   ],
   "source": [
    "test_predictions"
   ]
  },
  {
   "cell_type": "code",
   "execution_count": null,
   "metadata": {},
   "outputs": [],
   "source": []
  },
  {
   "cell_type": "code",
   "execution_count": 154,
   "metadata": {},
   "outputs": [
    {
     "data": {
      "text/plain": [
       "RandomForestClassifier(bootstrap=True, ccp_alpha=0.0, class_weight=None,\n",
       "                       criterion='gini', max_depth=None, max_features='auto',\n",
       "                       max_leaf_nodes=None, max_samples=None,\n",
       "                       min_impurity_decrease=0.0, min_impurity_split=None,\n",
       "                       min_samples_leaf=1, min_samples_split=2,\n",
       "                       min_weight_fraction_leaf=0.0, n_estimators=100,\n",
       "                       n_jobs=None, oob_score=False, random_state=None,\n",
       "                       verbose=0, warm_start=False)"
      ]
     },
     "execution_count": 154,
     "metadata": {},
     "output_type": "execute_result"
    }
   ],
   "source": [
    "rf = RandomForestClassifier()\n",
    "rf.fit(tfidf_df, y_train)"
   ]
  },
  {
   "cell_type": "code",
   "execution_count": 155,
   "metadata": {},
   "outputs": [],
   "source": [
    "rf_prediction = rf.predict(test_tfidf)"
   ]
  },
  {
   "cell_type": "code",
   "execution_count": 156,
   "metadata": {},
   "outputs": [
    {
     "name": "stdout",
     "output_type": "stream",
     "text": [
      "Accuracy_score: \n",
      " 0.7180327868852459\n",
      "Confusion Matrix: \n",
      " [[ 188    2  599]\n",
      " [  61    1   74]\n",
      " [  38    0 1782]]\n"
     ]
    }
   ],
   "source": [
    "print(\"Accuracy_score: \\n {}\".format(accuracy_score(y_test, rf_prediction)))\n",
    "print(\"Confusion Matrix: \\n {}\".format(confusion_matrix(y_test, rf_prediction)))"
   ]
  },
  {
   "cell_type": "code",
   "execution_count": 94,
   "metadata": {},
   "outputs": [],
   "source": [
    "# Grid Search Cross Validation"
   ]
  },
  {
   "cell_type": "code",
   "execution_count": 100,
   "metadata": {},
   "outputs": [],
   "source": [
    "param_grid = {'n_estimators':[10, 50, 100],\n",
    "             'max_features':['auto', 'log2'],\n",
    "              'max_depth':[4, 8],\n",
    "              'criterion': ['gini', 'entropy']\n",
    "             }\n",
    "rf = RandomForestClassifier()"
   ]
  },
  {
   "cell_type": "code",
   "execution_count": 103,
   "metadata": {},
   "outputs": [],
   "source": [
    "cv_model = GridSearchCV(estimator=rf, param_grid=param_grid, cv=5)"
   ]
  },
  {
   "cell_type": "code",
   "execution_count": 104,
   "metadata": {},
   "outputs": [
    {
     "data": {
      "text/plain": [
       "GridSearchCV(cv=5, error_score=nan,\n",
       "             estimator=RandomForestClassifier(bootstrap=True, ccp_alpha=0.0,\n",
       "                                              class_weight=None,\n",
       "                                              criterion='gini', max_depth=None,\n",
       "                                              max_features='auto',\n",
       "                                              max_leaf_nodes=None,\n",
       "                                              max_samples=None,\n",
       "                                              min_impurity_decrease=0.0,\n",
       "                                              min_impurity_split=None,\n",
       "                                              min_samples_leaf=1,\n",
       "                                              min_samples_split=2,\n",
       "                                              min_weight_fraction_leaf=0.0,\n",
       "                                              n_estimators=100, n_jobs=None,\n",
       "                                              oob_score=False,\n",
       "                                              random_state=None, verbose=0,\n",
       "                                              warm_start=False),\n",
       "             iid='deprecated', n_jobs=None,\n",
       "             param_grid={'criterion': ['gini', 'entropy'], 'max_depth': [4, 8],\n",
       "                         'max_features': ['auto', 'log2'],\n",
       "                         'n_estimators': [10, 50, 100]},\n",
       "             pre_dispatch='2*n_jobs', refit=True, return_train_score=False,\n",
       "             scoring=None, verbose=0)"
      ]
     },
     "execution_count": 104,
     "metadata": {},
     "output_type": "execute_result"
    }
   ],
   "source": [
    "cv_model.fit(tfidf_df, y_train)"
   ]
  },
  {
   "cell_type": "code",
   "execution_count": 105,
   "metadata": {},
   "outputs": [
    {
     "name": "stdout",
     "output_type": "stream",
     "text": [
      "{'criterion': 'entropy', 'max_depth': 8, 'max_features': 'auto', 'n_estimators': 10}\n"
     ]
    }
   ],
   "source": [
    "print(cv_model.best_params_)"
   ]
  },
  {
   "cell_type": "code",
   "execution_count": 106,
   "metadata": {},
   "outputs": [],
   "source": [
    "cv_predict = cv_model.predict(test_tfidf)"
   ]
  },
  {
   "cell_type": "code",
   "execution_count": 107,
   "metadata": {},
   "outputs": [],
   "source": [
    "probs = cv_model.predict_proba(test_tfidf)"
   ]
  },
  {
   "cell_type": "code",
   "execution_count": 111,
   "metadata": {},
   "outputs": [
    {
     "name": "stdout",
     "output_type": "stream",
     "text": [
      "Accuracy Score: 0.6576839038601602\n",
      "\n",
      "Classification Report:\n",
      "              precision    recall  f1-score   support\n",
      "\n",
      "           0       0.40      0.00      0.00       807\n",
      "           1       0.00      0.00      0.00       135\n",
      "           2       0.66      1.00      0.79      1804\n",
      "\n",
      "    accuracy                           0.66      2746\n",
      "   macro avg       0.35      0.33      0.27      2746\n",
      "weighted avg       0.55      0.66      0.52      2746\n",
      "\n",
      "\n",
      "Confusion Matrix:\n",
      "[[   2    0  805]\n",
      " [   3    0  132]\n",
      " [   0    0 1804]]\n",
      "\n"
     ]
    },
    {
     "name": "stderr",
     "output_type": "stream",
     "text": [
      "/opt/anaconda3/lib/python3.7/site-packages/sklearn/metrics/_classification.py:1272: UndefinedMetricWarning: Precision and F-score are ill-defined and being set to 0.0 in labels with no predicted samples. Use `zero_division` parameter to control this behavior.\n",
      "  _warn_prf(average, modifier, msg_start, len(result))\n"
     ]
    }
   ],
   "source": [
    "print(\"Accuracy Score: {}\\n\".format(accuracy_score(y_test, cv_predict)))\n",
    "# print(\"ROC score = {}\\n\".format(roc_auc_score(y_test, probs[:,1])))\n",
    "print(\"Classification Report:\\n{}\\n\".format(classification_report(y_test, cv_predict)))\n",
    "print(\"Confusion Matrix:\\n{}\\n\".format(confusion_matrix(y_test, cv_predict)))"
   ]
  },
  {
   "cell_type": "code",
   "execution_count": 92,
   "metadata": {},
   "outputs": [
    {
     "ename": "SyntaxError",
     "evalue": "invalid syntax (<ipython-input-92-84ed45aca5a7>, line 6)",
     "output_type": "error",
     "traceback": [
      "\u001b[0;36m  File \u001b[0;32m\"<ipython-input-92-84ed45aca5a7>\"\u001b[0;36m, line \u001b[0;32m6\u001b[0m\n\u001b[0;31m    plt.plot([0,1], [0,1],label=\"Baseline (AUC = 0.5000)\", linestyle=\"--\")\u001b[0m\n\u001b[0m      ^\u001b[0m\n\u001b[0;31mSyntaxError\u001b[0m\u001b[0;31m:\u001b[0m invalid syntax\n"
     ]
    }
   ],
   "source": [
    "fpr, tpr, thresholds = roc_curve(y_test, y_pred)\n",
    "plt.figure(figsize=(12, 8))\n",
    "\n",
    "# plot Linear Regression ROC\n",
    "plt.plot(fpr, tpr, label=\"Logistic Regression (AUC = {:1.4f})\".format(roc_auc_score(y_test, y_pred))\n",
    "plt.plot(label=\"Baseline (AUC = 0.5000)\", linestyle=\"--\")\n",
    "plt.xlim([0.0, 1.0])\n",
    "plt.ylim([0.0, 1.05])\n",
    "plt.xlabel(\"False Positive Rate\", fontsize=14)\n",
    "plt.ylabel(\"True Positive Rate\", fontsize=14)\n",
    "plt.title(\"ROC Curve\", fontsize=16)\n",
    "plt.legend(loc=\"lower right\")\n",
    "plt.savefig(\"roc.png\", bbox_inches=\"tight\")\n",
    "plt.show()"
   ]
  },
  {
   "cell_type": "code",
   "execution_count": 66,
   "metadata": {},
   "outputs": [],
   "source": [
    "# Trying to balance the class"
   ]
  },
  {
   "cell_type": "code",
   "execution_count": 67,
   "metadata": {},
   "outputs": [],
   "source": [
    "from sklearn.utils import resample"
   ]
  },
  {
   "cell_type": "code",
   "execution_count": 68,
   "metadata": {},
   "outputs": [],
   "source": [
    "negative_sentiment = resample(negative, replace=True, n_samples=len(neutral), random_state=123)"
   ]
  },
  {
   "cell_type": "code",
   "execution_count": 70,
   "metadata": {},
   "outputs": [
    {
     "name": "stdout",
     "output_type": "stream",
     "text": [
      "Requirement already satisfied: imblearn in /opt/anaconda3/lib/python3.7/site-packages (0.0)\n",
      "Requirement already satisfied: imbalanced-learn in /opt/anaconda3/lib/python3.7/site-packages (from imblearn) (0.6.2)\n",
      "Requirement already satisfied: scipy>=0.17 in /opt/anaconda3/lib/python3.7/site-packages (from imbalanced-learn->imblearn) (1.4.1)\n",
      "Requirement already satisfied: joblib>=0.11 in /opt/anaconda3/lib/python3.7/site-packages (from imbalanced-learn->imblearn) (0.13.2)\n",
      "Requirement already satisfied: numpy>=1.11 in /opt/anaconda3/lib/python3.7/site-packages (from imbalanced-learn->imblearn) (1.18.4)\n",
      "Requirement already satisfied: scikit-learn>=0.22 in /opt/anaconda3/lib/python3.7/site-packages (from imbalanced-learn->imblearn) (0.22.1)\n",
      "Note: you may need to restart the kernel to use updated packages.\n"
     ]
    }
   ],
   "source": [
    "pip install imblearn"
   ]
  },
  {
   "cell_type": "code",
   "execution_count": 72,
   "metadata": {},
   "outputs": [],
   "source": [
    "reviews_3 = reviews_2"
   ]
  },
  {
   "cell_type": "code",
   "execution_count": 73,
   "metadata": {},
   "outputs": [
    {
     "data": {
      "text/html": [
       "<div>\n",
       "<style scoped>\n",
       "    .dataframe tbody tr th:only-of-type {\n",
       "        vertical-align: middle;\n",
       "    }\n",
       "\n",
       "    .dataframe tbody tr th {\n",
       "        vertical-align: top;\n",
       "    }\n",
       "\n",
       "    .dataframe thead th {\n",
       "        text-align: right;\n",
       "    }\n",
       "</style>\n",
       "<table border=\"1\" class=\"dataframe\">\n",
       "  <thead>\n",
       "    <tr style=\"text-align: right;\">\n",
       "      <th></th>\n",
       "      <th>name</th>\n",
       "      <th>review</th>\n",
       "      <th>sentiment_1</th>\n",
       "    </tr>\n",
       "  </thead>\n",
       "  <tbody>\n",
       "    <tr>\n",
       "      <th>0</th>\n",
       "      <td>Coney Island Albino Python</td>\n",
       "      <td>Experienced from a 12oz bottle in a pub glass....</td>\n",
       "      <td>2</td>\n",
       "    </tr>\n",
       "    <tr>\n",
       "      <th>1</th>\n",
       "      <td>Steam Whistle Pilsner</td>\n",
       "      <td>Golden yellow, slightly sweet grassy aroma. Re...</td>\n",
       "      <td>2</td>\n",
       "    </tr>\n",
       "    <tr>\n",
       "      <th>2</th>\n",
       "      <td>Hitachino Nest New Year Celebration Ale</td>\n",
       "      <td>,33L. 08 opened brand spanking new. Pours a de...</td>\n",
       "      <td>2</td>\n",
       "    </tr>\n",
       "    <tr>\n",
       "      <th>3</th>\n",
       "      <td>Cigar City Capricho Oscuro &amp;#40;Batch 1&amp;#41;</td>\n",
       "      <td>In short: A brutal highly roasted woody dark b...</td>\n",
       "      <td>0</td>\n",
       "    </tr>\n",
       "    <tr>\n",
       "      <th>4</th>\n",
       "      <td>Shorts Anniversary Ale 2008</td>\n",
       "      <td>Poured a hazy red amber color with a small, of...</td>\n",
       "      <td>2</td>\n",
       "    </tr>\n",
       "  </tbody>\n",
       "</table>\n",
       "</div>"
      ],
      "text/plain": [
       "                                           name  \\\n",
       "0                   Coney Island Albino Python    \n",
       "1                         Steam Whistle Pilsner   \n",
       "2       Hitachino Nest New Year Celebration Ale   \n",
       "3  Cigar City Capricho Oscuro &#40;Batch 1&#41;   \n",
       "4                   Shorts Anniversary Ale 2008   \n",
       "\n",
       "                                              review  sentiment_1  \n",
       "0  Experienced from a 12oz bottle in a pub glass....            2  \n",
       "1  Golden yellow, slightly sweet grassy aroma. Re...            2  \n",
       "2  ,33L. 08 opened brand spanking new. Pours a de...            2  \n",
       "3  In short: A brutal highly roasted woody dark b...            0  \n",
       "4  Poured a hazy red amber color with a small, of...            2  "
      ]
     },
     "execution_count": 73,
     "metadata": {},
     "output_type": "execute_result"
    }
   ],
   "source": [
    "reviews_3.head()"
   ]
  },
  {
   "cell_type": "code",
   "execution_count": 71,
   "metadata": {},
   "outputs": [],
   "source": [
    "from imblearn.over_sampling import SMOTE"
   ]
  },
  {
   "cell_type": "code",
   "execution_count": 74,
   "metadata": {},
   "outputs": [
    {
     "ename": "TypeError",
     "evalue": "fit() missing 1 required positional argument: 'y'",
     "output_type": "error",
     "traceback": [
      "\u001b[0;31m---------------------------------------------------------------------------\u001b[0m",
      "\u001b[0;31mTypeError\u001b[0m                                 Traceback (most recent call last)",
      "\u001b[0;32m<ipython-input-74-1876b1d54fb0>\u001b[0m in \u001b[0;36m<module>\u001b[0;34m\u001b[0m\n\u001b[1;32m      1\u001b[0m \u001b[0mmethod\u001b[0m \u001b[0;34m=\u001b[0m \u001b[0mSMOTE\u001b[0m\u001b[0;34m(\u001b[0m\u001b[0;34m)\u001b[0m\u001b[0;34m\u001b[0m\u001b[0;34m\u001b[0m\u001b[0m\n\u001b[0;32m----> 2\u001b[0;31m \u001b[0mreviews_3\u001b[0m\u001b[0;34m[\u001b[0m\u001b[0;34m'sentiment_1'\u001b[0m\u001b[0;34m]\u001b[0m \u001b[0;34m=\u001b[0m \u001b[0mmethod\u001b[0m\u001b[0;34m.\u001b[0m\u001b[0mfit\u001b[0m\u001b[0;34m(\u001b[0m\u001b[0mreviews_3\u001b[0m\u001b[0;34m.\u001b[0m\u001b[0msentiment_1\u001b[0m\u001b[0;34m)\u001b[0m\u001b[0;34m\u001b[0m\u001b[0;34m\u001b[0m\u001b[0m\n\u001b[0m",
      "\u001b[0;31mTypeError\u001b[0m: fit() missing 1 required positional argument: 'y'"
     ]
    }
   ],
   "source": []
  },
  {
   "cell_type": "code",
   "execution_count": null,
   "metadata": {},
   "outputs": [],
   "source": [
    "x_p = []\n",
    "\n",
    "for i in range(len(reviews_1.sentiment_1)-1):\n",
    "    if reviews_1.sentiment_1[i] == 2:\n",
    "        positive.append(reviews_1.review[i])\n",
    "    elif reviews_1.sentiment_1[i] == 1:\n",
    "        negative.append(reviews_1.review[i])\n",
    "    else:\n",
    "        neutral.append(reviews_1.review[i])"
   ]
  },
  {
   "cell_type": "code",
   "execution_count": 76,
   "metadata": {},
   "outputs": [],
   "source": [
    "X_p = [i for i in range(len(reviews_3.sentiment_1)) if reviews_3.sentiment_1[i] == 2]"
   ]
  },
  {
   "cell_type": "code",
   "execution_count": 85,
   "metadata": {},
   "outputs": [],
   "source": [
    "y_n = [[i for i in range(len(reviews_3.sentiment_1)) if reviews_3.sentiment_1[i] == 1]]\n"
   ]
  },
  {
   "cell_type": "code",
   "execution_count": 90,
   "metadata": {},
   "outputs": [],
   "source": [
    "y_n = resample(y_n, replace=True, n_samples=len(X_p), random_state = 123)"
   ]
  },
  {
   "cell_type": "code",
   "execution_count": 91,
   "metadata": {},
   "outputs": [
    {
     "ename": "TypeError",
     "evalue": "cannot concatenate object of type '<class 'list'>'; only Series and DataFrame objs are valid",
     "output_type": "error",
     "traceback": [
      "\u001b[0;31m---------------------------------------------------------------------------\u001b[0m",
      "\u001b[0;31mTypeError\u001b[0m                                 Traceback (most recent call last)",
      "\u001b[0;32m<ipython-input-91-96c89253a0b4>\u001b[0m in \u001b[0;36m<module>\u001b[0;34m\u001b[0m\n\u001b[0;32m----> 1\u001b[0;31m \u001b[0mtotal\u001b[0m \u001b[0;34m=\u001b[0m \u001b[0mpd\u001b[0m\u001b[0;34m.\u001b[0m\u001b[0mconcat\u001b[0m\u001b[0;34m(\u001b[0m\u001b[0;34m[\u001b[0m\u001b[0mX_p\u001b[0m\u001b[0;34m,\u001b[0m \u001b[0my_n\u001b[0m\u001b[0;34m]\u001b[0m\u001b[0;34m)\u001b[0m\u001b[0;34m\u001b[0m\u001b[0;34m\u001b[0m\u001b[0m\n\u001b[0m",
      "\u001b[0;32m~/.local/lib/python3.7/site-packages/pandas/core/reshape/concat.py\u001b[0m in \u001b[0;36mconcat\u001b[0;34m(objs, axis, join, ignore_index, keys, levels, names, verify_integrity, sort, copy)\u001b[0m\n\u001b[1;32m    279\u001b[0m         \u001b[0mverify_integrity\u001b[0m\u001b[0;34m=\u001b[0m\u001b[0mverify_integrity\u001b[0m\u001b[0;34m,\u001b[0m\u001b[0;34m\u001b[0m\u001b[0;34m\u001b[0m\u001b[0m\n\u001b[1;32m    280\u001b[0m         \u001b[0mcopy\u001b[0m\u001b[0;34m=\u001b[0m\u001b[0mcopy\u001b[0m\u001b[0;34m,\u001b[0m\u001b[0;34m\u001b[0m\u001b[0;34m\u001b[0m\u001b[0m\n\u001b[0;32m--> 281\u001b[0;31m         \u001b[0msort\u001b[0m\u001b[0;34m=\u001b[0m\u001b[0msort\u001b[0m\u001b[0;34m,\u001b[0m\u001b[0;34m\u001b[0m\u001b[0;34m\u001b[0m\u001b[0m\n\u001b[0m\u001b[1;32m    282\u001b[0m     )\n\u001b[1;32m    283\u001b[0m \u001b[0;34m\u001b[0m\u001b[0m\n",
      "\u001b[0;32m~/.local/lib/python3.7/site-packages/pandas/core/reshape/concat.py\u001b[0m in \u001b[0;36m__init__\u001b[0;34m(self, objs, axis, join, keys, levels, names, ignore_index, verify_integrity, copy, sort)\u001b[0m\n\u001b[1;32m    355\u001b[0m                     \u001b[0;34m\"only Series and DataFrame objs are valid\"\u001b[0m\u001b[0;34m.\u001b[0m\u001b[0mformat\u001b[0m\u001b[0;34m(\u001b[0m\u001b[0mtyp\u001b[0m\u001b[0;34m=\u001b[0m\u001b[0mtype\u001b[0m\u001b[0;34m(\u001b[0m\u001b[0mobj\u001b[0m\u001b[0;34m)\u001b[0m\u001b[0;34m)\u001b[0m\u001b[0;34m\u001b[0m\u001b[0;34m\u001b[0m\u001b[0m\n\u001b[1;32m    356\u001b[0m                 )\n\u001b[0;32m--> 357\u001b[0;31m                 \u001b[0;32mraise\u001b[0m \u001b[0mTypeError\u001b[0m\u001b[0;34m(\u001b[0m\u001b[0mmsg\u001b[0m\u001b[0;34m)\u001b[0m\u001b[0;34m\u001b[0m\u001b[0;34m\u001b[0m\u001b[0m\n\u001b[0m\u001b[1;32m    358\u001b[0m \u001b[0;34m\u001b[0m\u001b[0m\n\u001b[1;32m    359\u001b[0m             \u001b[0;31m# consolidate\u001b[0m\u001b[0;34m\u001b[0m\u001b[0;34m\u001b[0m\u001b[0;34m\u001b[0m\u001b[0m\n",
      "\u001b[0;31mTypeError\u001b[0m: cannot concatenate object of type '<class 'list'>'; only Series and DataFrame objs are valid"
     ]
    }
   ],
   "source": [
    "total = pd.concat([X_p, y_n])"
   ]
  },
  {
   "cell_type": "code",
   "execution_count": null,
   "metadata": {},
   "outputs": [],
   "source": []
  },
  {
   "cell_type": "code",
   "execution_count": null,
   "metadata": {},
   "outputs": [],
   "source": []
  },
  {
   "cell_type": "code",
   "execution_count": 88,
   "metadata": {},
   "outputs": [
    {
     "ename": "ValueError",
     "evalue": "bad input shape (1, 676)",
     "output_type": "error",
     "traceback": [
      "\u001b[0;31m---------------------------------------------------------------------------\u001b[0m",
      "\u001b[0;31mValueError\u001b[0m                                Traceback (most recent call last)",
      "\u001b[0;32m<ipython-input-88-31da9c7feceb>\u001b[0m in \u001b[0;36m<module>\u001b[0;34m\u001b[0m\n\u001b[1;32m      1\u001b[0m \u001b[0mmethod\u001b[0m \u001b[0;34m=\u001b[0m \u001b[0mSMOTE\u001b[0m\u001b[0;34m(\u001b[0m\u001b[0;34m)\u001b[0m\u001b[0;34m\u001b[0m\u001b[0;34m\u001b[0m\u001b[0m\n\u001b[0;32m----> 2\u001b[0;31m \u001b[0mX_positive\u001b[0m\u001b[0;34m,\u001b[0m \u001b[0my_negative\u001b[0m \u001b[0;34m=\u001b[0m \u001b[0mmethod\u001b[0m\u001b[0;34m.\u001b[0m\u001b[0mfit_resample\u001b[0m\u001b[0;34m(\u001b[0m\u001b[0mX_p\u001b[0m\u001b[0;34m,\u001b[0m \u001b[0my_n\u001b[0m\u001b[0;34m)\u001b[0m\u001b[0;34m\u001b[0m\u001b[0;34m\u001b[0m\u001b[0m\n\u001b[0m",
      "\u001b[0;32m/opt/anaconda3/lib/python3.7/site-packages/imblearn/base.py\u001b[0m in \u001b[0;36mfit_resample\u001b[0;34m(self, X, y)\u001b[0m\n\u001b[1;32m     75\u001b[0m         \u001b[0mcheck_classification_targets\u001b[0m\u001b[0;34m(\u001b[0m\u001b[0my\u001b[0m\u001b[0;34m)\u001b[0m\u001b[0;34m\u001b[0m\u001b[0;34m\u001b[0m\u001b[0m\n\u001b[1;32m     76\u001b[0m         \u001b[0marrays_transformer\u001b[0m \u001b[0;34m=\u001b[0m \u001b[0mArraysTransformer\u001b[0m\u001b[0;34m(\u001b[0m\u001b[0mX\u001b[0m\u001b[0;34m,\u001b[0m \u001b[0my\u001b[0m\u001b[0;34m)\u001b[0m\u001b[0;34m\u001b[0m\u001b[0;34m\u001b[0m\u001b[0m\n\u001b[0;32m---> 77\u001b[0;31m         \u001b[0mX\u001b[0m\u001b[0;34m,\u001b[0m \u001b[0my\u001b[0m\u001b[0;34m,\u001b[0m \u001b[0mbinarize_y\u001b[0m \u001b[0;34m=\u001b[0m \u001b[0mself\u001b[0m\u001b[0;34m.\u001b[0m\u001b[0m_check_X_y\u001b[0m\u001b[0;34m(\u001b[0m\u001b[0mX\u001b[0m\u001b[0;34m,\u001b[0m \u001b[0my\u001b[0m\u001b[0;34m)\u001b[0m\u001b[0;34m\u001b[0m\u001b[0;34m\u001b[0m\u001b[0m\n\u001b[0m\u001b[1;32m     78\u001b[0m \u001b[0;34m\u001b[0m\u001b[0m\n\u001b[1;32m     79\u001b[0m         self.sampling_strategy_ = check_sampling_strategy(\n",
      "\u001b[0;32m/opt/anaconda3/lib/python3.7/site-packages/imblearn/base.py\u001b[0m in \u001b[0;36m_check_X_y\u001b[0;34m(self, X, y, accept_sparse)\u001b[0m\n\u001b[1;32m    131\u001b[0m         \u001b[0;32mif\u001b[0m \u001b[0maccept_sparse\u001b[0m \u001b[0;32mis\u001b[0m \u001b[0;32mNone\u001b[0m\u001b[0;34m:\u001b[0m\u001b[0;34m\u001b[0m\u001b[0;34m\u001b[0m\u001b[0m\n\u001b[1;32m    132\u001b[0m             \u001b[0maccept_sparse\u001b[0m \u001b[0;34m=\u001b[0m \u001b[0;34m[\u001b[0m\u001b[0;34m\"csr\"\u001b[0m\u001b[0;34m,\u001b[0m \u001b[0;34m\"csc\"\u001b[0m\u001b[0;34m]\u001b[0m\u001b[0;34m\u001b[0m\u001b[0;34m\u001b[0m\u001b[0m\n\u001b[0;32m--> 133\u001b[0;31m         \u001b[0my\u001b[0m\u001b[0;34m,\u001b[0m \u001b[0mbinarize_y\u001b[0m \u001b[0;34m=\u001b[0m \u001b[0mcheck_target_type\u001b[0m\u001b[0;34m(\u001b[0m\u001b[0my\u001b[0m\u001b[0;34m,\u001b[0m \u001b[0mindicate_one_vs_all\u001b[0m\u001b[0;34m=\u001b[0m\u001b[0;32mTrue\u001b[0m\u001b[0;34m)\u001b[0m\u001b[0;34m\u001b[0m\u001b[0;34m\u001b[0m\u001b[0m\n\u001b[0m\u001b[1;32m    134\u001b[0m         \u001b[0mX\u001b[0m\u001b[0;34m,\u001b[0m \u001b[0my\u001b[0m \u001b[0;34m=\u001b[0m \u001b[0mcheck_X_y\u001b[0m\u001b[0;34m(\u001b[0m\u001b[0mX\u001b[0m\u001b[0;34m,\u001b[0m \u001b[0my\u001b[0m\u001b[0;34m,\u001b[0m \u001b[0maccept_sparse\u001b[0m\u001b[0;34m=\u001b[0m\u001b[0maccept_sparse\u001b[0m\u001b[0;34m)\u001b[0m\u001b[0;34m\u001b[0m\u001b[0;34m\u001b[0m\u001b[0m\n\u001b[1;32m    135\u001b[0m         \u001b[0;32mreturn\u001b[0m \u001b[0mX\u001b[0m\u001b[0;34m,\u001b[0m \u001b[0my\u001b[0m\u001b[0;34m,\u001b[0m \u001b[0mbinarize_y\u001b[0m\u001b[0;34m\u001b[0m\u001b[0;34m\u001b[0m\u001b[0m\n",
      "\u001b[0;32m/opt/anaconda3/lib/python3.7/site-packages/imblearn/utils/_validation.py\u001b[0m in \u001b[0;36mcheck_target_type\u001b[0;34m(y, indicate_one_vs_all)\u001b[0m\n\u001b[1;32m    135\u001b[0m         \u001b[0my\u001b[0m \u001b[0;34m=\u001b[0m \u001b[0my\u001b[0m\u001b[0;34m.\u001b[0m\u001b[0margmax\u001b[0m\u001b[0;34m(\u001b[0m\u001b[0maxis\u001b[0m\u001b[0;34m=\u001b[0m\u001b[0;36m1\u001b[0m\u001b[0;34m)\u001b[0m\u001b[0;34m\u001b[0m\u001b[0;34m\u001b[0m\u001b[0m\n\u001b[1;32m    136\u001b[0m     \u001b[0;32melse\u001b[0m\u001b[0;34m:\u001b[0m\u001b[0;34m\u001b[0m\u001b[0;34m\u001b[0m\u001b[0m\n\u001b[0;32m--> 137\u001b[0;31m         \u001b[0my\u001b[0m \u001b[0;34m=\u001b[0m \u001b[0mcolumn_or_1d\u001b[0m\u001b[0;34m(\u001b[0m\u001b[0my\u001b[0m\u001b[0;34m)\u001b[0m\u001b[0;34m\u001b[0m\u001b[0;34m\u001b[0m\u001b[0m\n\u001b[0m\u001b[1;32m    138\u001b[0m \u001b[0;34m\u001b[0m\u001b[0m\n\u001b[1;32m    139\u001b[0m     \u001b[0;32mreturn\u001b[0m \u001b[0;34m(\u001b[0m\u001b[0my\u001b[0m\u001b[0;34m,\u001b[0m \u001b[0mtype_y\u001b[0m \u001b[0;34m==\u001b[0m \u001b[0;34m\"multilabel-indicator\"\u001b[0m\u001b[0;34m)\u001b[0m \u001b[0;32mif\u001b[0m \u001b[0mindicate_one_vs_all\u001b[0m \u001b[0;32melse\u001b[0m \u001b[0my\u001b[0m\u001b[0;34m\u001b[0m\u001b[0;34m\u001b[0m\u001b[0m\n",
      "\u001b[0;32m/opt/anaconda3/lib/python3.7/site-packages/sklearn/utils/validation.py\u001b[0m in \u001b[0;36mcolumn_or_1d\u001b[0;34m(y, warn)\u001b[0m\n\u001b[1;32m    795\u001b[0m         \u001b[0;32mreturn\u001b[0m \u001b[0mnp\u001b[0m\u001b[0;34m.\u001b[0m\u001b[0mravel\u001b[0m\u001b[0;34m(\u001b[0m\u001b[0my\u001b[0m\u001b[0;34m)\u001b[0m\u001b[0;34m\u001b[0m\u001b[0;34m\u001b[0m\u001b[0m\n\u001b[1;32m    796\u001b[0m \u001b[0;34m\u001b[0m\u001b[0m\n\u001b[0;32m--> 797\u001b[0;31m     \u001b[0;32mraise\u001b[0m \u001b[0mValueError\u001b[0m\u001b[0;34m(\u001b[0m\u001b[0;34m\"bad input shape {0}\"\u001b[0m\u001b[0;34m.\u001b[0m\u001b[0mformat\u001b[0m\u001b[0;34m(\u001b[0m\u001b[0mshape\u001b[0m\u001b[0;34m)\u001b[0m\u001b[0;34m)\u001b[0m\u001b[0;34m\u001b[0m\u001b[0;34m\u001b[0m\u001b[0m\n\u001b[0m\u001b[1;32m    798\u001b[0m \u001b[0;34m\u001b[0m\u001b[0m\n\u001b[1;32m    799\u001b[0m \u001b[0;34m\u001b[0m\u001b[0m\n",
      "\u001b[0;31mValueError\u001b[0m: bad input shape (1, 676)"
     ]
    }
   ],
   "source": [
    "method = SMOTE()\n",
    "X_positive, y_negative = method.fit_resample(X_p, y_n)"
   ]
  },
  {
   "cell_type": "code",
   "execution_count": 114,
   "metadata": {},
   "outputs": [],
   "source": [
    "# Saving the model"
   ]
  },
  {
   "cell_type": "code",
   "execution_count": 115,
   "metadata": {},
   "outputs": [
    {
     "ename": "AttributeError",
     "evalue": "'LogisticRegression' object has no attribute 'save'",
     "output_type": "error",
     "traceback": [
      "\u001b[0;31m---------------------------------------------------------------------------\u001b[0m",
      "\u001b[0;31mAttributeError\u001b[0m                            Traceback (most recent call last)",
      "\u001b[0;32m<ipython-input-115-b3f1bfdaf5a4>\u001b[0m in \u001b[0;36m<module>\u001b[0;34m\u001b[0m\n\u001b[0;32m----> 1\u001b[0;31m \u001b[0mlr\u001b[0m\u001b[0;34m.\u001b[0m\u001b[0msave\u001b[0m\u001b[0;34m(\u001b[0m\u001b[0;34m'sentiment_trained.h5'\u001b[0m\u001b[0;34m)\u001b[0m\u001b[0;34m\u001b[0m\u001b[0;34m\u001b[0m\u001b[0m\n\u001b[0m",
      "\u001b[0;31mAttributeError\u001b[0m: 'LogisticRegression' object has no attribute 'save'"
     ]
    }
   ],
   "source": [
    "lr.save('sentiment_trained.h5')"
   ]
  },
  {
   "cell_type": "code",
   "execution_count": null,
   "metadata": {},
   "outputs": [],
   "source": []
  }
 ],
 "metadata": {
  "kernelspec": {
   "display_name": "Python 3",
   "language": "python",
   "name": "python3"
  },
  "language_info": {
   "codemirror_mode": {
    "name": "ipython",
    "version": 3
   },
   "file_extension": ".py",
   "mimetype": "text/x-python",
   "name": "python",
   "nbconvert_exporter": "python",
   "pygments_lexer": "ipython3",
   "version": "3.7.4"
  }
 },
 "nbformat": 4,
 "nbformat_minor": 2
}
