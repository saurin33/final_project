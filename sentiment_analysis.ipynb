{
 "cells": [
  {
   "cell_type": "code",
   "execution_count": 189,
   "metadata": {},
   "outputs": [],
   "source": [
    "import pandas as pd\n",
    "import numpy as np\n",
    "import matplotlib.pyplot as plt\n",
    "import seaborn as sns\n",
    "from textblob import TextBlob\n",
    "from wordcloud import WordCloud\n",
    "from wordcloud import STOPWORDS\n",
    "from langdetect import detect_langs\n",
    "from sklearn.feature_extraction.text import CountVectorizer, TfidfVectorizer\n",
    "from sklearn.linear_model import LogisticRegression\n",
    "from sklearn.metrics import confusion_matrix, classification_report, accuracy_score\n",
    "from sklearn.model_selection import train_test_split"
   ]
  },
  {
   "cell_type": "code",
   "execution_count": 3,
   "metadata": {},
   "outputs": [
    {
     "name": "stderr",
     "output_type": "stream",
     "text": [
      "/opt/anaconda3/lib/python3.7/site-packages/IPython/core/interactiveshell.py:3058: DtypeWarning: Columns (1) have mixed types. Specify dtype option on import or set low_memory=False.\n",
      "  interactivity=interactivity, compiler=compiler, result=result)\n"
     ]
    }
   ],
   "source": [
    "df = pd.read_csv('ratebeer.csv')"
   ]
  },
  {
   "cell_type": "code",
   "execution_count": 4,
   "metadata": {},
   "outputs": [
    {
     "data": {
      "text/html": [
       "<div>\n",
       "<style scoped>\n",
       "    .dataframe tbody tr th:only-of-type {\n",
       "        vertical-align: middle;\n",
       "    }\n",
       "\n",
       "    .dataframe tbody tr th {\n",
       "        vertical-align: top;\n",
       "    }\n",
       "\n",
       "    .dataframe thead th {\n",
       "        text-align: right;\n",
       "    }\n",
       "</style>\n",
       "<table border=\"1\" class=\"dataframe\">\n",
       "  <thead>\n",
       "    <tr style=\"text-align: right;\">\n",
       "      <th></th>\n",
       "      <th>name</th>\n",
       "      <th>id</th>\n",
       "      <th>brewerID</th>\n",
       "      <th>abv</th>\n",
       "      <th>style</th>\n",
       "      <th>appearance</th>\n",
       "      <th>aroma</th>\n",
       "      <th>palate</th>\n",
       "      <th>taste</th>\n",
       "      <th>overall</th>\n",
       "      <th>time</th>\n",
       "      <th>profileName</th>\n",
       "      <th>reviewtext</th>\n",
       "    </tr>\n",
       "  </thead>\n",
       "  <tbody>\n",
       "    <tr>\n",
       "      <th>0</th>\n",
       "      <td>John Harvards Simcoe IPA</td>\n",
       "      <td>63836</td>\n",
       "      <td>8481</td>\n",
       "      <td>5.4</td>\n",
       "      <td>India Pale Ale &amp;#40;IPA&amp;#41;</td>\n",
       "      <td>5-Apr</td>\n",
       "      <td>10-Jun</td>\n",
       "      <td>5-Mar</td>\n",
       "      <td>10-Jun</td>\n",
       "      <td>13/20</td>\n",
       "      <td>1157587200</td>\n",
       "      <td>hopdog</td>\n",
       "      <td>On tap at the Springfield, PA location. Poured...</td>\n",
       "    </tr>\n",
       "    <tr>\n",
       "      <th>1</th>\n",
       "      <td>John Harvards Simcoe IPA</td>\n",
       "      <td>63836</td>\n",
       "      <td>8481</td>\n",
       "      <td>5.4</td>\n",
       "      <td>India Pale Ale &amp;#40;IPA&amp;#41;</td>\n",
       "      <td>5-Apr</td>\n",
       "      <td>10-Jun</td>\n",
       "      <td>5-Apr</td>\n",
       "      <td>10-Jul</td>\n",
       "      <td>13/20</td>\n",
       "      <td>1157241600</td>\n",
       "      <td>TomDecapolis</td>\n",
       "      <td>On tap at the John Harvards in Springfield PA....</td>\n",
       "    </tr>\n",
       "    <tr>\n",
       "      <th>2</th>\n",
       "      <td>John Harvards Cristal Pilsner</td>\n",
       "      <td>71716</td>\n",
       "      <td>8481</td>\n",
       "      <td>5</td>\n",
       "      <td>Bohemian Pilsener</td>\n",
       "      <td>5-Apr</td>\n",
       "      <td>10-May</td>\n",
       "      <td>5-Mar</td>\n",
       "      <td>10-Jun</td>\n",
       "      <td>14/20</td>\n",
       "      <td>958694400</td>\n",
       "      <td>PhillyBeer2112</td>\n",
       "      <td>UPDATED: FEB 19, 2003 Springfield, PA. I've ne...</td>\n",
       "    </tr>\n",
       "    <tr>\n",
       "      <th>3</th>\n",
       "      <td>John Harvards Fancy Lawnmower Beer</td>\n",
       "      <td>64125</td>\n",
       "      <td>8481</td>\n",
       "      <td>5.4</td>\n",
       "      <td>Kölsch</td>\n",
       "      <td>5-Feb</td>\n",
       "      <td>10-Apr</td>\n",
       "      <td>5-Feb</td>\n",
       "      <td>10-Apr</td>\n",
       "      <td>20-Aug</td>\n",
       "      <td>1157587200</td>\n",
       "      <td>TomDecapolis</td>\n",
       "      <td>On tap the Springfield PA location billed as t...</td>\n",
       "    </tr>\n",
       "    <tr>\n",
       "      <th>4</th>\n",
       "      <td>John Harvards Fancy Lawnmower Beer</td>\n",
       "      <td>64125</td>\n",
       "      <td>8481</td>\n",
       "      <td>5.4</td>\n",
       "      <td>Kölsch</td>\n",
       "      <td>5-Feb</td>\n",
       "      <td>10-Apr</td>\n",
       "      <td>5-Feb</td>\n",
       "      <td>10-Apr</td>\n",
       "      <td>20-Aug</td>\n",
       "      <td>1157587200</td>\n",
       "      <td>hopdog</td>\n",
       "      <td>On tap at the Springfield, PA location. Poured...</td>\n",
       "    </tr>\n",
       "  </tbody>\n",
       "</table>\n",
       "</div>"
      ],
      "text/plain": [
       "                                 name     id  brewerID  abv  \\\n",
       "0            John Harvards Simcoe IPA  63836      8481  5.4   \n",
       "1            John Harvards Simcoe IPA  63836      8481  5.4   \n",
       "2       John Harvards Cristal Pilsner  71716      8481    5   \n",
       "3  John Harvards Fancy Lawnmower Beer  64125      8481  5.4   \n",
       "4  John Harvards Fancy Lawnmower Beer  64125      8481  5.4   \n",
       "\n",
       "                          style appearance   aroma palate   taste overall  \\\n",
       "0  India Pale Ale &#40;IPA&#41;      5-Apr  10-Jun  5-Mar  10-Jun   13/20   \n",
       "1  India Pale Ale &#40;IPA&#41;      5-Apr  10-Jun  5-Apr  10-Jul   13/20   \n",
       "2             Bohemian Pilsener      5-Apr  10-May  5-Mar  10-Jun   14/20   \n",
       "3                        Kölsch      5-Feb  10-Apr  5-Feb  10-Apr  20-Aug   \n",
       "4                        Kölsch      5-Feb  10-Apr  5-Feb  10-Apr  20-Aug   \n",
       "\n",
       "         time     profileName  \\\n",
       "0  1157587200          hopdog   \n",
       "1  1157241600    TomDecapolis   \n",
       "2   958694400  PhillyBeer2112   \n",
       "3  1157587200    TomDecapolis   \n",
       "4  1157587200          hopdog   \n",
       "\n",
       "                                          reviewtext  \n",
       "0  On tap at the Springfield, PA location. Poured...  \n",
       "1  On tap at the John Harvards in Springfield PA....  \n",
       "2  UPDATED: FEB 19, 2003 Springfield, PA. I've ne...  \n",
       "3  On tap the Springfield PA location billed as t...  \n",
       "4  On tap at the Springfield, PA location. Poured...  "
      ]
     },
     "execution_count": 4,
     "metadata": {},
     "output_type": "execute_result"
    }
   ],
   "source": [
    "df.head()"
   ]
  },
  {
   "cell_type": "code",
   "execution_count": 6,
   "metadata": {},
   "outputs": [],
   "source": [
    "df_1 = df.sample(frac=0.25)"
   ]
  },
  {
   "cell_type": "code",
   "execution_count": 7,
   "metadata": {},
   "outputs": [
    {
     "data": {
      "text/plain": [
       "(262144, 13)"
      ]
     },
     "execution_count": 7,
     "metadata": {},
     "output_type": "execute_result"
    }
   ],
   "source": [
    "df_1.shape"
   ]
  },
  {
   "cell_type": "code",
   "execution_count": 9,
   "metadata": {},
   "outputs": [
    {
     "data": {
      "text/plain": [
       "(52429, 13)"
      ]
     },
     "execution_count": 9,
     "metadata": {},
     "output_type": "execute_result"
    }
   ],
   "source": [
    "df_2 = df.sample(frac=0.05)\n",
    "df_2.shape"
   ]
  },
  {
   "cell_type": "code",
   "execution_count": 11,
   "metadata": {},
   "outputs": [],
   "source": [
    "df_3 = df_2[['name', 'reviewtext']]"
   ]
  },
  {
   "cell_type": "code",
   "execution_count": 12,
   "metadata": {},
   "outputs": [
    {
     "data": {
      "text/html": [
       "<div>\n",
       "<style scoped>\n",
       "    .dataframe tbody tr th:only-of-type {\n",
       "        vertical-align: middle;\n",
       "    }\n",
       "\n",
       "    .dataframe tbody tr th {\n",
       "        vertical-align: top;\n",
       "    }\n",
       "\n",
       "    .dataframe thead th {\n",
       "        text-align: right;\n",
       "    }\n",
       "</style>\n",
       "<table border=\"1\" class=\"dataframe\">\n",
       "  <thead>\n",
       "    <tr style=\"text-align: right;\">\n",
       "      <th></th>\n",
       "      <th>name</th>\n",
       "      <th>reviewtext</th>\n",
       "    </tr>\n",
       "  </thead>\n",
       "  <tbody>\n",
       "    <tr>\n",
       "      <th>846466</th>\n",
       "      <td>Hydes Doctors Orders</td>\n",
       "      <td>Cask conditioned @ Crispin, Wokingham. Dr No i...</td>\n",
       "    </tr>\n",
       "    <tr>\n",
       "      <th>957132</th>\n",
       "      <td>McKenzie Doppelbock</td>\n",
       "      <td>Enjoyed @ the pub. Poured a small tan head, fa...</td>\n",
       "    </tr>\n",
       "    <tr>\n",
       "      <th>110111</th>\n",
       "      <td>Weeping Radish Fest Amber Lager</td>\n",
       "      <td>Oct. 2005 - A very ordinary fest. Pour was red...</td>\n",
       "    </tr>\n",
       "    <tr>\n",
       "      <th>462983</th>\n",
       "      <td>AleSmith Decadence 2010</td>\n",
       "      <td>Bottle poured reddish brown with small off whi...</td>\n",
       "    </tr>\n",
       "    <tr>\n",
       "      <th>127916</th>\n",
       "      <td>Bar Harbor True Blue Blueberry Ale</td>\n",
       "      <td>Sample from a bomber.  Pours copper with a tan...</td>\n",
       "    </tr>\n",
       "  </tbody>\n",
       "</table>\n",
       "</div>"
      ],
      "text/plain": [
       "                                      name  \\\n",
       "846466                Hydes Doctors Orders   \n",
       "957132                 McKenzie Doppelbock   \n",
       "110111     Weeping Radish Fest Amber Lager   \n",
       "462983             AleSmith Decadence 2010   \n",
       "127916  Bar Harbor True Blue Blueberry Ale   \n",
       "\n",
       "                                               reviewtext  \n",
       "846466  Cask conditioned @ Crispin, Wokingham. Dr No i...  \n",
       "957132  Enjoyed @ the pub. Poured a small tan head, fa...  \n",
       "110111  Oct. 2005 - A very ordinary fest. Pour was red...  \n",
       "462983  Bottle poured reddish brown with small off whi...  \n",
       "127916  Sample from a bomber.  Pours copper with a tan...  "
      ]
     },
     "execution_count": 12,
     "metadata": {},
     "output_type": "execute_result"
    }
   ],
   "source": [
    "df_3.head()"
   ]
  },
  {
   "cell_type": "code",
   "execution_count": 13,
   "metadata": {},
   "outputs": [],
   "source": [
    "df_3 = df_3.rename(columns={'reviewtext': 'review'})"
   ]
  },
  {
   "cell_type": "code",
   "execution_count": 14,
   "metadata": {},
   "outputs": [],
   "source": [
    "# length of the reviews\n",
    "length_reviews = df_3.review.str.len()"
   ]
  },
  {
   "cell_type": "code",
   "execution_count": 15,
   "metadata": {},
   "outputs": [],
   "source": [
    "df_3['length'] = length_reviews"
   ]
  },
  {
   "cell_type": "code",
   "execution_count": 16,
   "metadata": {},
   "outputs": [
    {
     "data": {
      "text/html": [
       "<div>\n",
       "<style scoped>\n",
       "    .dataframe tbody tr th:only-of-type {\n",
       "        vertical-align: middle;\n",
       "    }\n",
       "\n",
       "    .dataframe tbody tr th {\n",
       "        vertical-align: top;\n",
       "    }\n",
       "\n",
       "    .dataframe thead th {\n",
       "        text-align: right;\n",
       "    }\n",
       "</style>\n",
       "<table border=\"1\" class=\"dataframe\">\n",
       "  <thead>\n",
       "    <tr style=\"text-align: right;\">\n",
       "      <th></th>\n",
       "      <th>name</th>\n",
       "      <th>review</th>\n",
       "      <th>length</th>\n",
       "    </tr>\n",
       "  </thead>\n",
       "  <tbody>\n",
       "    <tr>\n",
       "      <th>846466</th>\n",
       "      <td>Hydes Doctors Orders</td>\n",
       "      <td>Cask conditioned @ Crispin, Wokingham. Dr No i...</td>\n",
       "      <td>152.0</td>\n",
       "    </tr>\n",
       "    <tr>\n",
       "      <th>957132</th>\n",
       "      <td>McKenzie Doppelbock</td>\n",
       "      <td>Enjoyed @ the pub. Poured a small tan head, fa...</td>\n",
       "      <td>424.0</td>\n",
       "    </tr>\n",
       "    <tr>\n",
       "      <th>110111</th>\n",
       "      <td>Weeping Radish Fest Amber Lager</td>\n",
       "      <td>Oct. 2005 - A very ordinary fest. Pour was red...</td>\n",
       "      <td>232.0</td>\n",
       "    </tr>\n",
       "    <tr>\n",
       "      <th>462983</th>\n",
       "      <td>AleSmith Decadence 2010</td>\n",
       "      <td>Bottle poured reddish brown with small off whi...</td>\n",
       "      <td>232.0</td>\n",
       "    </tr>\n",
       "    <tr>\n",
       "      <th>127916</th>\n",
       "      <td>Bar Harbor True Blue Blueberry Ale</td>\n",
       "      <td>Sample from a bomber.  Pours copper with a tan...</td>\n",
       "      <td>197.0</td>\n",
       "    </tr>\n",
       "  </tbody>\n",
       "</table>\n",
       "</div>"
      ],
      "text/plain": [
       "                                      name  \\\n",
       "846466                Hydes Doctors Orders   \n",
       "957132                 McKenzie Doppelbock   \n",
       "110111     Weeping Radish Fest Amber Lager   \n",
       "462983             AleSmith Decadence 2010   \n",
       "127916  Bar Harbor True Blue Blueberry Ale   \n",
       "\n",
       "                                                   review  length  \n",
       "846466  Cask conditioned @ Crispin, Wokingham. Dr No i...   152.0  \n",
       "957132  Enjoyed @ the pub. Poured a small tan head, fa...   424.0  \n",
       "110111  Oct. 2005 - A very ordinary fest. Pour was red...   232.0  \n",
       "462983  Bottle poured reddish brown with small off whi...   232.0  \n",
       "127916  Sample from a bomber.  Pours copper with a tan...   197.0  "
      ]
     },
     "execution_count": 16,
     "metadata": {},
     "output_type": "execute_result"
    }
   ],
   "source": [
    "df_3.head()"
   ]
  },
  {
   "cell_type": "code",
   "execution_count": 28,
   "metadata": {},
   "outputs": [
    {
     "name": "stdout",
     "output_type": "stream",
     "text": [
      "Average Length: 309.505244254246\n"
     ]
    }
   ],
   "source": [
    "avg_length = df_3.length.mean()\n",
    "print('Average Length: {}'.format(avg_length))"
   ]
  },
  {
   "cell_type": "code",
   "execution_count": 22,
   "metadata": {},
   "outputs": [
    {
     "name": "stdout",
     "output_type": "stream",
     "text": [
      "Longest Review: 7656.0\n",
      "Shortest Review: 4.0\n"
     ]
    }
   ],
   "source": [
    "longest_review = df_3['length'].max()\n",
    "shortest_review = df_3['length'].min()\n",
    "print('Longest Review: {}'.format(longest_review))\n",
    "print('Shortest Review: {}'.format(shortest_review))"
   ]
  },
  {
   "cell_type": "code",
   "execution_count": 27,
   "metadata": {},
   "outputs": [
    {
     "data": {
      "text/html": [
       "<div>\n",
       "<style scoped>\n",
       "    .dataframe tbody tr th:only-of-type {\n",
       "        vertical-align: middle;\n",
       "    }\n",
       "\n",
       "    .dataframe tbody tr th {\n",
       "        vertical-align: top;\n",
       "    }\n",
       "\n",
       "    .dataframe thead th {\n",
       "        text-align: right;\n",
       "    }\n",
       "</style>\n",
       "<table border=\"1\" class=\"dataframe\">\n",
       "  <thead>\n",
       "    <tr style=\"text-align: right;\">\n",
       "      <th></th>\n",
       "      <th>name</th>\n",
       "      <th>review</th>\n",
       "      <th>length</th>\n",
       "    </tr>\n",
       "  </thead>\n",
       "  <tbody>\n",
       "    <tr>\n",
       "      <th>425780</th>\n",
       "      <td>Gordon Biersch Hefeweizen</td>\n",
       "      <td>A - poured a hazy golden color\\t\\tS - Dominant...</td>\n",
       "      <td>7656.0</td>\n",
       "    </tr>\n",
       "    <tr>\n",
       "      <th>788588</th>\n",
       "      <td>Orval</td>\n",
       "      <td>UPDATED: MAR 28, 2008 Rerate: 26/03/2008, bott...</td>\n",
       "      <td>5369.0</td>\n",
       "    </tr>\n",
       "    <tr>\n",
       "      <th>225782</th>\n",
       "      <td>Allagash Black</td>\n",
       "      <td>The Allagash Brewery is a unique artisan brewh...</td>\n",
       "      <td>3831.0</td>\n",
       "    </tr>\n",
       "    <tr>\n",
       "      <th>323862</th>\n",
       "      <td>Snoqualmie Falls Summer Beer</td>\n",
       "      <td>UPDATED: MAY 15, 2010 Snoqualmie Falls Brewing...</td>\n",
       "      <td>3688.0</td>\n",
       "    </tr>\n",
       "    <tr>\n",
       "      <th>1013377</th>\n",
       "      <td>North Coast Old Stock Ale</td>\n",
       "      <td>UPDATED: JAN 18, 2008 2006 bottle, probably 6m...</td>\n",
       "      <td>3361.0</td>\n",
       "    </tr>\n",
       "  </tbody>\n",
       "</table>\n",
       "</div>"
      ],
      "text/plain": [
       "                                 name  \\\n",
       "425780      Gordon Biersch Hefeweizen   \n",
       "788588                          Orval   \n",
       "225782                 Allagash Black   \n",
       "323862   Snoqualmie Falls Summer Beer   \n",
       "1013377    North Coast Old Stock Ale    \n",
       "\n",
       "                                                    review  length  \n",
       "425780   A - poured a hazy golden color\\t\\tS - Dominant...  7656.0  \n",
       "788588   UPDATED: MAR 28, 2008 Rerate: 26/03/2008, bott...  5369.0  \n",
       "225782   The Allagash Brewery is a unique artisan brewh...  3831.0  \n",
       "323862   UPDATED: MAY 15, 2010 Snoqualmie Falls Brewing...  3688.0  \n",
       "1013377  UPDATED: JAN 18, 2008 2006 bottle, probably 6m...  3361.0  "
      ]
     },
     "execution_count": 27,
     "metadata": {},
     "output_type": "execute_result"
    }
   ],
   "source": [
    "df_4 = df_3.sort_values(by=['length'], ascending=False)\n",
    "df_4.head()"
   ]
  },
  {
   "cell_type": "code",
   "execution_count": 29,
   "metadata": {},
   "outputs": [],
   "source": [
    "# Detect the language of the review"
   ]
  },
  {
   "cell_type": "code",
   "execution_count": 56,
   "metadata": {},
   "outputs": [
    {
     "data": {
      "text/html": [
       "<div>\n",
       "<style scoped>\n",
       "    .dataframe tbody tr th:only-of-type {\n",
       "        vertical-align: middle;\n",
       "    }\n",
       "\n",
       "    .dataframe tbody tr th {\n",
       "        vertical-align: top;\n",
       "    }\n",
       "\n",
       "    .dataframe thead th {\n",
       "        text-align: right;\n",
       "    }\n",
       "</style>\n",
       "<table border=\"1\" class=\"dataframe\">\n",
       "  <thead>\n",
       "    <tr style=\"text-align: right;\">\n",
       "      <th></th>\n",
       "      <th>name</th>\n",
       "      <th>review</th>\n",
       "      <th>length</th>\n",
       "    </tr>\n",
       "  </thead>\n",
       "  <tbody>\n",
       "    <tr>\n",
       "      <th>389032</th>\n",
       "      <td>Shipyard Summer Ale</td>\n",
       "      <td>Doesnt look or smell like a summer ale.  Too d...</td>\n",
       "      <td>265.0</td>\n",
       "    </tr>\n",
       "    <tr>\n",
       "      <th>913387</th>\n",
       "      <td>Molson Golden</td>\n",
       "      <td>Not for me. Went down OK, but nice and fast. N...</td>\n",
       "      <td>140.0</td>\n",
       "    </tr>\n",
       "    <tr>\n",
       "      <th>884908</th>\n",
       "      <td>21st Amendment Bitter American</td>\n",
       "      <td>12oz canned February 15th, 2011.  Pours lightl...</td>\n",
       "      <td>485.0</td>\n",
       "    </tr>\n",
       "    <tr>\n",
       "      <th>27811</th>\n",
       "      <td>Warburger Export</td>\n",
       "      <td>Bottle 50 cl. Courtesy of fonefan. Pours golde...</td>\n",
       "      <td>182.0</td>\n",
       "    </tr>\n",
       "    <tr>\n",
       "      <th>662568</th>\n",
       "      <td>Cigar City Humidor Series Jai Alai Cedar Aged ...</td>\n",
       "      <td>750mL bottle, courtesy of The Beer Wench. Than...</td>\n",
       "      <td>605.0</td>\n",
       "    </tr>\n",
       "  </tbody>\n",
       "</table>\n",
       "</div>"
      ],
      "text/plain": [
       "                                                     name  \\\n",
       "389032                                Shipyard Summer Ale   \n",
       "913387                                      Molson Golden   \n",
       "884908                     21st Amendment Bitter American   \n",
       "27811                                    Warburger Export   \n",
       "662568  Cigar City Humidor Series Jai Alai Cedar Aged ...   \n",
       "\n",
       "                                                   review  length  \n",
       "389032  Doesnt look or smell like a summer ale.  Too d...   265.0  \n",
       "913387  Not for me. Went down OK, but nice and fast. N...   140.0  \n",
       "884908  12oz canned February 15th, 2011.  Pours lightl...   485.0  \n",
       "27811   Bottle 50 cl. Courtesy of fonefan. Pours golde...   182.0  \n",
       "662568  750mL bottle, courtesy of The Beer Wench. Than...   605.0  "
      ]
     },
     "execution_count": 56,
     "metadata": {},
     "output_type": "execute_result"
    }
   ],
   "source": [
    "reviews = df_4.sample(frac=0.50)\n",
    "reviews.head()"
   ]
  },
  {
   "cell_type": "code",
   "execution_count": 57,
   "metadata": {},
   "outputs": [
    {
     "name": "stdout",
     "output_type": "stream",
     "text": [
      "<class 'pandas.core.frame.DataFrame'>\n",
      "Int64Index: 26214 entries, 389032 to 821143\n",
      "Data columns (total 3 columns):\n",
      "name      26214 non-null object\n",
      "review    26163 non-null object\n",
      "length    26163 non-null float64\n",
      "dtypes: float64(1), object(2)\n",
      "memory usage: 819.2+ KB\n"
     ]
    }
   ],
   "source": [
    "reviews.info()"
   ]
  },
  {
   "cell_type": "code",
   "execution_count": 58,
   "metadata": {},
   "outputs": [],
   "source": [
    "review = str(reviews.review)"
   ]
  },
  {
   "cell_type": "code",
   "execution_count": 59,
   "metadata": {},
   "outputs": [],
   "source": [
    "languages = []\n",
    "\n",
    "for r in range(len(reviews)):\n",
    "    languages.append(detect_langs(reviews.iloc[r, 0]))"
   ]
  },
  {
   "cell_type": "code",
   "execution_count": 60,
   "metadata": {},
   "outputs": [],
   "source": [
    "languages = [str(lang).split(':')[0][1] for lang in languages]"
   ]
  },
  {
   "cell_type": "code",
   "execution_count": 61,
   "metadata": {},
   "outputs": [],
   "source": [
    "reviews['lang'] = languages"
   ]
  },
  {
   "cell_type": "code",
   "execution_count": 62,
   "metadata": {},
   "outputs": [
    {
     "data": {
      "text/html": [
       "<div>\n",
       "<style scoped>\n",
       "    .dataframe tbody tr th:only-of-type {\n",
       "        vertical-align: middle;\n",
       "    }\n",
       "\n",
       "    .dataframe tbody tr th {\n",
       "        vertical-align: top;\n",
       "    }\n",
       "\n",
       "    .dataframe thead th {\n",
       "        text-align: right;\n",
       "    }\n",
       "</style>\n",
       "<table border=\"1\" class=\"dataframe\">\n",
       "  <thead>\n",
       "    <tr style=\"text-align: right;\">\n",
       "      <th></th>\n",
       "      <th>name</th>\n",
       "      <th>review</th>\n",
       "      <th>length</th>\n",
       "      <th>lang</th>\n",
       "    </tr>\n",
       "  </thead>\n",
       "  <tbody>\n",
       "    <tr>\n",
       "      <th>389032</th>\n",
       "      <td>Shipyard Summer Ale</td>\n",
       "      <td>Doesnt look or smell like a summer ale.  Too d...</td>\n",
       "      <td>265.0</td>\n",
       "      <td>e</td>\n",
       "    </tr>\n",
       "    <tr>\n",
       "      <th>913387</th>\n",
       "      <td>Molson Golden</td>\n",
       "      <td>Not for me. Went down OK, but nice and fast. N...</td>\n",
       "      <td>140.0</td>\n",
       "      <td>d</td>\n",
       "    </tr>\n",
       "    <tr>\n",
       "      <th>884908</th>\n",
       "      <td>21st Amendment Bitter American</td>\n",
       "      <td>12oz canned February 15th, 2011.  Pours lightl...</td>\n",
       "      <td>485.0</td>\n",
       "      <td>n</td>\n",
       "    </tr>\n",
       "    <tr>\n",
       "      <th>27811</th>\n",
       "      <td>Warburger Export</td>\n",
       "      <td>Bottle 50 cl. Courtesy of fonefan. Pours golde...</td>\n",
       "      <td>182.0</td>\n",
       "      <td>d</td>\n",
       "    </tr>\n",
       "    <tr>\n",
       "      <th>662568</th>\n",
       "      <td>Cigar City Humidor Series Jai Alai Cedar Aged ...</td>\n",
       "      <td>750mL bottle, courtesy of The Beer Wench. Than...</td>\n",
       "      <td>605.0</td>\n",
       "      <td>e</td>\n",
       "    </tr>\n",
       "  </tbody>\n",
       "</table>\n",
       "</div>"
      ],
      "text/plain": [
       "                                                     name  \\\n",
       "389032                                Shipyard Summer Ale   \n",
       "913387                                      Molson Golden   \n",
       "884908                     21st Amendment Bitter American   \n",
       "27811                                    Warburger Export   \n",
       "662568  Cigar City Humidor Series Jai Alai Cedar Aged ...   \n",
       "\n",
       "                                                   review  length lang  \n",
       "389032  Doesnt look or smell like a summer ale.  Too d...   265.0    e  \n",
       "913387  Not for me. Went down OK, but nice and fast. N...   140.0    d  \n",
       "884908  12oz canned February 15th, 2011.  Pours lightl...   485.0    n  \n",
       "27811   Bottle 50 cl. Courtesy of fonefan. Pours golde...   182.0    d  \n",
       "662568  750mL bottle, courtesy of The Beer Wench. Than...   605.0    e  "
      ]
     },
     "execution_count": 62,
     "metadata": {},
     "output_type": "execute_result"
    }
   ],
   "source": [
    "reviews.head()"
   ]
  },
  {
   "cell_type": "code",
   "execution_count": 144,
   "metadata": {},
   "outputs": [
    {
     "data": {
      "text/html": [
       "<div>\n",
       "<style scoped>\n",
       "    .dataframe tbody tr th:only-of-type {\n",
       "        vertical-align: middle;\n",
       "    }\n",
       "\n",
       "    .dataframe tbody tr th {\n",
       "        vertical-align: top;\n",
       "    }\n",
       "\n",
       "    .dataframe thead th {\n",
       "        text-align: right;\n",
       "    }\n",
       "</style>\n",
       "<table border=\"1\" class=\"dataframe\">\n",
       "  <thead>\n",
       "    <tr style=\"text-align: right;\">\n",
       "      <th></th>\n",
       "      <th>name</th>\n",
       "      <th>review</th>\n",
       "      <th>length</th>\n",
       "      <th>lang</th>\n",
       "    </tr>\n",
       "  </thead>\n",
       "  <tbody>\n",
       "    <tr>\n",
       "      <th>389032</th>\n",
       "      <td>Shipyard Summer Ale</td>\n",
       "      <td>Doesnt look or smell like a summer ale.  Too d...</td>\n",
       "      <td>265.0</td>\n",
       "      <td>e</td>\n",
       "    </tr>\n",
       "    <tr>\n",
       "      <th>662568</th>\n",
       "      <td>Cigar City Humidor Series Jai Alai Cedar Aged ...</td>\n",
       "      <td>750mL bottle, courtesy of The Beer Wench. Than...</td>\n",
       "      <td>605.0</td>\n",
       "      <td>e</td>\n",
       "    </tr>\n",
       "    <tr>\n",
       "      <th>824243</th>\n",
       "      <td>New Glarus Raspberry Tart</td>\n",
       "      <td>Grape juice was the first thing I thought when...</td>\n",
       "      <td>205.0</td>\n",
       "      <td>e</td>\n",
       "    </tr>\n",
       "    <tr>\n",
       "      <th>669903</th>\n",
       "      <td>Cigar City Cubano-Style Espresso Brown Ale</td>\n",
       "      <td>Draught at Capones:  Aroma of chocolate, malt,...</td>\n",
       "      <td>466.0</td>\n",
       "      <td>e</td>\n",
       "    </tr>\n",
       "    <tr>\n",
       "      <th>31049</th>\n",
       "      <td>Archibald Orchards Spiced Winter Apple</td>\n",
       "      <td>UPDATED: AUG 13, 2008 [1328-20080504] Bottle. ...</td>\n",
       "      <td>702.0</td>\n",
       "      <td>e</td>\n",
       "    </tr>\n",
       "    <tr>\n",
       "      <th>...</th>\n",
       "      <td>...</td>\n",
       "      <td>...</td>\n",
       "      <td>...</td>\n",
       "      <td>...</td>\n",
       "    </tr>\n",
       "    <tr>\n",
       "      <th>340233</th>\n",
       "      <td>Grand Ridge Black &amp; Tan</td>\n",
       "      <td>UPDATED: MAY 6, 2004 this black and tan pours ...</td>\n",
       "      <td>401.0</td>\n",
       "      <td>e</td>\n",
       "    </tr>\n",
       "    <tr>\n",
       "      <th>589323</th>\n",
       "      <td>Westmalle Tripel</td>\n",
       "      <td>UPDATED: DEC 12, 2006 Pours a hazy orange-yell...</td>\n",
       "      <td>303.0</td>\n",
       "      <td>e</td>\n",
       "    </tr>\n",
       "    <tr>\n",
       "      <th>133793</th>\n",
       "      <td>Badger Tanglefoot  &amp;#40;Bottle/Can&amp;#41;</td>\n",
       "      <td>Bottle from Sainsburys. Amber. Aroma of citrus...</td>\n",
       "      <td>116.0</td>\n",
       "      <td>e</td>\n",
       "    </tr>\n",
       "    <tr>\n",
       "      <th>282536</th>\n",
       "      <td>High Water No Boundary IPA</td>\n",
       "      <td>Bomber from The Davis Beer Shoppe in Davis, CA...</td>\n",
       "      <td>255.0</td>\n",
       "      <td>e</td>\n",
       "    </tr>\n",
       "    <tr>\n",
       "      <th>371083</th>\n",
       "      <td>St Peters Cream Stout</td>\n",
       "      <td>I enjoyed this beer.  Poured a beautiful black...</td>\n",
       "      <td>145.0</td>\n",
       "      <td>e</td>\n",
       "    </tr>\n",
       "  </tbody>\n",
       "</table>\n",
       "<p>13666 rows × 4 columns</p>\n",
       "</div>"
      ],
      "text/plain": [
       "                                                     name  \\\n",
       "389032                                Shipyard Summer Ale   \n",
       "662568  Cigar City Humidor Series Jai Alai Cedar Aged ...   \n",
       "824243                          New Glarus Raspberry Tart   \n",
       "669903         Cigar City Cubano-Style Espresso Brown Ale   \n",
       "31049              Archibald Orchards Spiced Winter Apple   \n",
       "...                                                   ...   \n",
       "340233                            Grand Ridge Black & Tan   \n",
       "589323                                   Westmalle Tripel   \n",
       "133793            Badger Tanglefoot  &#40;Bottle/Can&#41;   \n",
       "282536                         High Water No Boundary IPA   \n",
       "371083                              St Peters Cream Stout   \n",
       "\n",
       "                                                   review  length lang  \n",
       "389032  Doesnt look or smell like a summer ale.  Too d...   265.0    e  \n",
       "662568  750mL bottle, courtesy of The Beer Wench. Than...   605.0    e  \n",
       "824243  Grape juice was the first thing I thought when...   205.0    e  \n",
       "669903  Draught at Capones:  Aroma of chocolate, malt,...   466.0    e  \n",
       "31049   UPDATED: AUG 13, 2008 [1328-20080504] Bottle. ...   702.0    e  \n",
       "...                                                   ...     ...  ...  \n",
       "340233  UPDATED: MAY 6, 2004 this black and tan pours ...   401.0    e  \n",
       "589323  UPDATED: DEC 12, 2006 Pours a hazy orange-yell...   303.0    e  \n",
       "133793  Bottle from Sainsburys. Amber. Aroma of citrus...   116.0    e  \n",
       "282536  Bomber from The Davis Beer Shoppe in Davis, CA...   255.0    e  \n",
       "371083  I enjoyed this beer.  Poured a beautiful black...   145.0    e  \n",
       "\n",
       "[13666 rows x 4 columns]"
      ]
     },
     "execution_count": 144,
     "metadata": {},
     "output_type": "execute_result"
    }
   ],
   "source": [
    "# Removing non english reviews and Keeping only reviews in english\n",
    "\n",
    "reviews_e = reviews.loc[lambda reviews: reviews['lang'] == 'e']\n",
    "reviews_e"
   ]
  },
  {
   "cell_type": "code",
   "execution_count": 145,
   "metadata": {},
   "outputs": [
    {
     "name": "stdout",
     "output_type": "stream",
     "text": [
      "Average Length: 321.94076680595265\n",
      "Longest Review: 2780.0\n",
      "Shortest Review: 7.0\n"
     ]
    }
   ],
   "source": [
    "avg_length_e = reviews_e.length.mean()\n",
    "longest_review_e = reviews_e['length'].max()\n",
    "shortest_review_e = reviews_e['length'].min()\n",
    "print('Average Length: {}'.format(avg_length_e))\n",
    "print('Longest Review: {}'.format(longest_review_e))\n",
    "print('Shortest Review: {}'.format(shortest_review_e))"
   ]
  },
  {
   "cell_type": "code",
   "execution_count": 148,
   "metadata": {},
   "outputs": [
    {
     "name": "stderr",
     "output_type": "stream",
     "text": [
      "/opt/anaconda3/lib/python3.7/site-packages/ipykernel_launcher.py:1: SettingWithCopyWarning: \n",
      "A value is trying to be set on a copy of a slice from a DataFrame.\n",
      "Try using .loc[row_indexer,col_indexer] = value instead\n",
      "\n",
      "See the caveats in the documentation: http://pandas.pydata.org/pandas-docs/stable/user_guide/indexing.html#returning-a-view-versus-a-copy\n",
      "  \"\"\"Entry point for launching an IPython kernel.\n"
     ]
    }
   ],
   "source": [
    "reviews_e['review'] = reviews_e['review'].astype(str)"
   ]
  },
  {
   "cell_type": "code",
   "execution_count": 161,
   "metadata": {},
   "outputs": [
    {
     "name": "stderr",
     "output_type": "stream",
     "text": [
      "/opt/anaconda3/lib/python3.7/site-packages/ipykernel_launcher.py:1: SettingWithCopyWarning: \n",
      "A value is trying to be set on a copy of a slice from a DataFrame.\n",
      "Try using .loc[row_indexer,col_indexer] = value instead\n",
      "\n",
      "See the caveats in the documentation: http://pandas.pydata.org/pandas-docs/stable/user_guide/indexing.html#returning-a-view-versus-a-copy\n",
      "  \"\"\"Entry point for launching an IPython kernel.\n"
     ]
    }
   ],
   "source": [
    "reviews_e['sentiment'] = round(reviews_e['review'].apply(lambda x: TextBlob(x).sentiment[0]),2)"
   ]
  },
  {
   "cell_type": "code",
   "execution_count": 162,
   "metadata": {},
   "outputs": [
    {
     "data": {
      "text/html": [
       "<div>\n",
       "<style scoped>\n",
       "    .dataframe tbody tr th:only-of-type {\n",
       "        vertical-align: middle;\n",
       "    }\n",
       "\n",
       "    .dataframe tbody tr th {\n",
       "        vertical-align: top;\n",
       "    }\n",
       "\n",
       "    .dataframe thead th {\n",
       "        text-align: right;\n",
       "    }\n",
       "</style>\n",
       "<table border=\"1\" class=\"dataframe\">\n",
       "  <thead>\n",
       "    <tr style=\"text-align: right;\">\n",
       "      <th></th>\n",
       "      <th>name</th>\n",
       "      <th>review</th>\n",
       "      <th>length</th>\n",
       "      <th>lang</th>\n",
       "      <th>sentiment</th>\n",
       "    </tr>\n",
       "  </thead>\n",
       "  <tbody>\n",
       "    <tr>\n",
       "      <th>389032</th>\n",
       "      <td>Shipyard Summer Ale</td>\n",
       "      <td>Doesnt look or smell like a summer ale.  Too d...</td>\n",
       "      <td>265.0</td>\n",
       "      <td>e</td>\n",
       "      <td>0.14</td>\n",
       "    </tr>\n",
       "    <tr>\n",
       "      <th>662568</th>\n",
       "      <td>Cigar City Humidor Series Jai Alai Cedar Aged ...</td>\n",
       "      <td>750mL bottle, courtesy of The Beer Wench. Than...</td>\n",
       "      <td>605.0</td>\n",
       "      <td>e</td>\n",
       "      <td>0.26</td>\n",
       "    </tr>\n",
       "    <tr>\n",
       "      <th>824243</th>\n",
       "      <td>New Glarus Raspberry Tart</td>\n",
       "      <td>Grape juice was the first thing I thought when...</td>\n",
       "      <td>205.0</td>\n",
       "      <td>e</td>\n",
       "      <td>0.37</td>\n",
       "    </tr>\n",
       "    <tr>\n",
       "      <th>669903</th>\n",
       "      <td>Cigar City Cubano-Style Espresso Brown Ale</td>\n",
       "      <td>Draught at Capones:  Aroma of chocolate, malt,...</td>\n",
       "      <td>466.0</td>\n",
       "      <td>e</td>\n",
       "      <td>0.16</td>\n",
       "    </tr>\n",
       "    <tr>\n",
       "      <th>31049</th>\n",
       "      <td>Archibald Orchards Spiced Winter Apple</td>\n",
       "      <td>UPDATED: AUG 13, 2008 [1328-20080504] Bottle. ...</td>\n",
       "      <td>702.0</td>\n",
       "      <td>e</td>\n",
       "      <td>0.20</td>\n",
       "    </tr>\n",
       "    <tr>\n",
       "      <th>...</th>\n",
       "      <td>...</td>\n",
       "      <td>...</td>\n",
       "      <td>...</td>\n",
       "      <td>...</td>\n",
       "      <td>...</td>\n",
       "    </tr>\n",
       "    <tr>\n",
       "      <th>340233</th>\n",
       "      <td>Grand Ridge Black &amp; Tan</td>\n",
       "      <td>UPDATED: MAY 6, 2004 this black and tan pours ...</td>\n",
       "      <td>401.0</td>\n",
       "      <td>e</td>\n",
       "      <td>0.14</td>\n",
       "    </tr>\n",
       "    <tr>\n",
       "      <th>589323</th>\n",
       "      <td>Westmalle Tripel</td>\n",
       "      <td>UPDATED: DEC 12, 2006 Pours a hazy orange-yell...</td>\n",
       "      <td>303.0</td>\n",
       "      <td>e</td>\n",
       "      <td>0.06</td>\n",
       "    </tr>\n",
       "    <tr>\n",
       "      <th>133793</th>\n",
       "      <td>Badger Tanglefoot  &amp;#40;Bottle/Can&amp;#41;</td>\n",
       "      <td>Bottle from Sainsburys. Amber. Aroma of citrus...</td>\n",
       "      <td>116.0</td>\n",
       "      <td>e</td>\n",
       "      <td>0.22</td>\n",
       "    </tr>\n",
       "    <tr>\n",
       "      <th>282536</th>\n",
       "      <td>High Water No Boundary IPA</td>\n",
       "      <td>Bomber from The Davis Beer Shoppe in Davis, CA...</td>\n",
       "      <td>255.0</td>\n",
       "      <td>e</td>\n",
       "      <td>0.39</td>\n",
       "    </tr>\n",
       "    <tr>\n",
       "      <th>371083</th>\n",
       "      <td>St Peters Cream Stout</td>\n",
       "      <td>I enjoyed this beer.  Poured a beautiful black...</td>\n",
       "      <td>145.0</td>\n",
       "      <td>e</td>\n",
       "      <td>0.12</td>\n",
       "    </tr>\n",
       "  </tbody>\n",
       "</table>\n",
       "<p>13666 rows × 5 columns</p>\n",
       "</div>"
      ],
      "text/plain": [
       "                                                     name  \\\n",
       "389032                                Shipyard Summer Ale   \n",
       "662568  Cigar City Humidor Series Jai Alai Cedar Aged ...   \n",
       "824243                          New Glarus Raspberry Tart   \n",
       "669903         Cigar City Cubano-Style Espresso Brown Ale   \n",
       "31049              Archibald Orchards Spiced Winter Apple   \n",
       "...                                                   ...   \n",
       "340233                            Grand Ridge Black & Tan   \n",
       "589323                                   Westmalle Tripel   \n",
       "133793            Badger Tanglefoot  &#40;Bottle/Can&#41;   \n",
       "282536                         High Water No Boundary IPA   \n",
       "371083                              St Peters Cream Stout   \n",
       "\n",
       "                                                   review  length lang  \\\n",
       "389032  Doesnt look or smell like a summer ale.  Too d...   265.0    e   \n",
       "662568  750mL bottle, courtesy of The Beer Wench. Than...   605.0    e   \n",
       "824243  Grape juice was the first thing I thought when...   205.0    e   \n",
       "669903  Draught at Capones:  Aroma of chocolate, malt,...   466.0    e   \n",
       "31049   UPDATED: AUG 13, 2008 [1328-20080504] Bottle. ...   702.0    e   \n",
       "...                                                   ...     ...  ...   \n",
       "340233  UPDATED: MAY 6, 2004 this black and tan pours ...   401.0    e   \n",
       "589323  UPDATED: DEC 12, 2006 Pours a hazy orange-yell...   303.0    e   \n",
       "133793  Bottle from Sainsburys. Amber. Aroma of citrus...   116.0    e   \n",
       "282536  Bomber from The Davis Beer Shoppe in Davis, CA...   255.0    e   \n",
       "371083  I enjoyed this beer.  Poured a beautiful black...   145.0    e   \n",
       "\n",
       "        sentiment  \n",
       "389032       0.14  \n",
       "662568       0.26  \n",
       "824243       0.37  \n",
       "669903       0.16  \n",
       "31049        0.20  \n",
       "...           ...  \n",
       "340233       0.14  \n",
       "589323       0.06  \n",
       "133793       0.22  \n",
       "282536       0.39  \n",
       "371083       0.12  \n",
       "\n",
       "[13666 rows x 5 columns]"
      ]
     },
     "execution_count": 162,
     "metadata": {},
     "output_type": "execute_result"
    }
   ],
   "source": [
    "reviews_e"
   ]
  },
  {
   "cell_type": "code",
   "execution_count": 178,
   "metadata": {},
   "outputs": [
    {
     "name": "stderr",
     "output_type": "stream",
     "text": [
      "/opt/anaconda3/lib/python3.7/site-packages/ipykernel_launcher.py:1: SettingWithCopyWarning: \n",
      "A value is trying to be set on a copy of a slice from a DataFrame.\n",
      "Try using .loc[row_indexer,col_indexer] = value instead\n",
      "\n",
      "See the caveats in the documentation: http://pandas.pydata.org/pandas-docs/stable/user_guide/indexing.html#returning-a-view-versus-a-copy\n",
      "  \"\"\"Entry point for launching an IPython kernel.\n"
     ]
    }
   ],
   "source": [
    "reviews_e['sentiment'] = pd.cut(reviews_e['sentiment'], bins=3, labels=[1,0,2])"
   ]
  },
  {
   "cell_type": "code",
   "execution_count": 179,
   "metadata": {},
   "outputs": [
    {
     "data": {
      "text/html": [
       "<div>\n",
       "<style scoped>\n",
       "    .dataframe tbody tr th:only-of-type {\n",
       "        vertical-align: middle;\n",
       "    }\n",
       "\n",
       "    .dataframe tbody tr th {\n",
       "        vertical-align: top;\n",
       "    }\n",
       "\n",
       "    .dataframe thead th {\n",
       "        text-align: right;\n",
       "    }\n",
       "</style>\n",
       "<table border=\"1\" class=\"dataframe\">\n",
       "  <thead>\n",
       "    <tr style=\"text-align: right;\">\n",
       "      <th></th>\n",
       "      <th>name</th>\n",
       "      <th>review</th>\n",
       "      <th>length</th>\n",
       "      <th>lang</th>\n",
       "      <th>sentiment</th>\n",
       "    </tr>\n",
       "  </thead>\n",
       "  <tbody>\n",
       "    <tr>\n",
       "      <th>389032</th>\n",
       "      <td>Shipyard Summer Ale</td>\n",
       "      <td>Doesnt look or smell like a summer ale.  Too d...</td>\n",
       "      <td>265.0</td>\n",
       "      <td>e</td>\n",
       "      <td>0</td>\n",
       "    </tr>\n",
       "    <tr>\n",
       "      <th>662568</th>\n",
       "      <td>Cigar City Humidor Series Jai Alai Cedar Aged ...</td>\n",
       "      <td>750mL bottle, courtesy of The Beer Wench. Than...</td>\n",
       "      <td>605.0</td>\n",
       "      <td>e</td>\n",
       "      <td>0</td>\n",
       "    </tr>\n",
       "    <tr>\n",
       "      <th>824243</th>\n",
       "      <td>New Glarus Raspberry Tart</td>\n",
       "      <td>Grape juice was the first thing I thought when...</td>\n",
       "      <td>205.0</td>\n",
       "      <td>e</td>\n",
       "      <td>2</td>\n",
       "    </tr>\n",
       "    <tr>\n",
       "      <th>669903</th>\n",
       "      <td>Cigar City Cubano-Style Espresso Brown Ale</td>\n",
       "      <td>Draught at Capones:  Aroma of chocolate, malt,...</td>\n",
       "      <td>466.0</td>\n",
       "      <td>e</td>\n",
       "      <td>0</td>\n",
       "    </tr>\n",
       "    <tr>\n",
       "      <th>31049</th>\n",
       "      <td>Archibald Orchards Spiced Winter Apple</td>\n",
       "      <td>UPDATED: AUG 13, 2008 [1328-20080504] Bottle. ...</td>\n",
       "      <td>702.0</td>\n",
       "      <td>e</td>\n",
       "      <td>0</td>\n",
       "    </tr>\n",
       "    <tr>\n",
       "      <th>...</th>\n",
       "      <td>...</td>\n",
       "      <td>...</td>\n",
       "      <td>...</td>\n",
       "      <td>...</td>\n",
       "      <td>...</td>\n",
       "    </tr>\n",
       "    <tr>\n",
       "      <th>340233</th>\n",
       "      <td>Grand Ridge Black &amp; Tan</td>\n",
       "      <td>UPDATED: MAY 6, 2004 this black and tan pours ...</td>\n",
       "      <td>401.0</td>\n",
       "      <td>e</td>\n",
       "      <td>0</td>\n",
       "    </tr>\n",
       "    <tr>\n",
       "      <th>589323</th>\n",
       "      <td>Westmalle Tripel</td>\n",
       "      <td>UPDATED: DEC 12, 2006 Pours a hazy orange-yell...</td>\n",
       "      <td>303.0</td>\n",
       "      <td>e</td>\n",
       "      <td>0</td>\n",
       "    </tr>\n",
       "    <tr>\n",
       "      <th>133793</th>\n",
       "      <td>Badger Tanglefoot  &amp;#40;Bottle/Can&amp;#41;</td>\n",
       "      <td>Bottle from Sainsburys. Amber. Aroma of citrus...</td>\n",
       "      <td>116.0</td>\n",
       "      <td>e</td>\n",
       "      <td>0</td>\n",
       "    </tr>\n",
       "    <tr>\n",
       "      <th>282536</th>\n",
       "      <td>High Water No Boundary IPA</td>\n",
       "      <td>Bomber from The Davis Beer Shoppe in Davis, CA...</td>\n",
       "      <td>255.0</td>\n",
       "      <td>e</td>\n",
       "      <td>2</td>\n",
       "    </tr>\n",
       "    <tr>\n",
       "      <th>371083</th>\n",
       "      <td>St Peters Cream Stout</td>\n",
       "      <td>I enjoyed this beer.  Poured a beautiful black...</td>\n",
       "      <td>145.0</td>\n",
       "      <td>e</td>\n",
       "      <td>0</td>\n",
       "    </tr>\n",
       "  </tbody>\n",
       "</table>\n",
       "<p>13666 rows × 5 columns</p>\n",
       "</div>"
      ],
      "text/plain": [
       "                                                     name  \\\n",
       "389032                                Shipyard Summer Ale   \n",
       "662568  Cigar City Humidor Series Jai Alai Cedar Aged ...   \n",
       "824243                          New Glarus Raspberry Tart   \n",
       "669903         Cigar City Cubano-Style Espresso Brown Ale   \n",
       "31049              Archibald Orchards Spiced Winter Apple   \n",
       "...                                                   ...   \n",
       "340233                            Grand Ridge Black & Tan   \n",
       "589323                                   Westmalle Tripel   \n",
       "133793            Badger Tanglefoot  &#40;Bottle/Can&#41;   \n",
       "282536                         High Water No Boundary IPA   \n",
       "371083                              St Peters Cream Stout   \n",
       "\n",
       "                                                   review  length lang  \\\n",
       "389032  Doesnt look or smell like a summer ale.  Too d...   265.0    e   \n",
       "662568  750mL bottle, courtesy of The Beer Wench. Than...   605.0    e   \n",
       "824243  Grape juice was the first thing I thought when...   205.0    e   \n",
       "669903  Draught at Capones:  Aroma of chocolate, malt,...   466.0    e   \n",
       "31049   UPDATED: AUG 13, 2008 [1328-20080504] Bottle. ...   702.0    e   \n",
       "...                                                   ...     ...  ...   \n",
       "340233  UPDATED: MAY 6, 2004 this black and tan pours ...   401.0    e   \n",
       "589323  UPDATED: DEC 12, 2006 Pours a hazy orange-yell...   303.0    e   \n",
       "133793  Bottle from Sainsburys. Amber. Aroma of citrus...   116.0    e   \n",
       "282536  Bomber from The Davis Beer Shoppe in Davis, CA...   255.0    e   \n",
       "371083  I enjoyed this beer.  Poured a beautiful black...   145.0    e   \n",
       "\n",
       "       sentiment  \n",
       "389032         0  \n",
       "662568         0  \n",
       "824243         2  \n",
       "669903         0  \n",
       "31049          0  \n",
       "...          ...  \n",
       "340233         0  \n",
       "589323         0  \n",
       "133793         0  \n",
       "282536         2  \n",
       "371083         0  \n",
       "\n",
       "[13666 rows x 5 columns]"
      ]
     },
     "execution_count": 179,
     "metadata": {},
     "output_type": "execute_result"
    }
   ],
   "source": [
    "reviews_e"
   ]
  },
  {
   "cell_type": "code",
   "execution_count": 180,
   "metadata": {},
   "outputs": [
    {
     "data": {
      "text/plain": [
       "0    12024\n",
       "2     1576\n",
       "1       66\n",
       "Name: sentiment, dtype: int64"
      ]
     },
     "execution_count": 180,
     "metadata": {},
     "output_type": "execute_result"
    }
   ],
   "source": [
    "reviews_e['sentiment'].value_counts()"
   ]
  },
  {
   "cell_type": "code",
   "execution_count": 181,
   "metadata": {},
   "outputs": [],
   "source": [
    "sentiment = reviews_e.sentiment"
   ]
  },
  {
   "cell_type": "code",
   "execution_count": 195,
   "metadata": {},
   "outputs": [
    {
     "ename": "KeyError",
     "evalue": "0",
     "output_type": "error",
     "traceback": [
      "\u001b[0;31m---------------------------------------------------------------------------\u001b[0m",
      "\u001b[0;31mKeyError\u001b[0m                                  Traceback (most recent call last)",
      "\u001b[0;32m/opt/anaconda3/lib/python3.7/site-packages/pandas/core/indexes/base.py\u001b[0m in \u001b[0;36mget_loc\u001b[0;34m(self, key, method, tolerance)\u001b[0m\n\u001b[1;32m   2896\u001b[0m             \u001b[0;32mtry\u001b[0m\u001b[0;34m:\u001b[0m\u001b[0;34m\u001b[0m\u001b[0;34m\u001b[0m\u001b[0m\n\u001b[0;32m-> 2897\u001b[0;31m                 \u001b[0;32mreturn\u001b[0m \u001b[0mself\u001b[0m\u001b[0;34m.\u001b[0m\u001b[0m_engine\u001b[0m\u001b[0;34m.\u001b[0m\u001b[0mget_loc\u001b[0m\u001b[0;34m(\u001b[0m\u001b[0mkey\u001b[0m\u001b[0;34m)\u001b[0m\u001b[0;34m\u001b[0m\u001b[0;34m\u001b[0m\u001b[0m\n\u001b[0m\u001b[1;32m   2898\u001b[0m             \u001b[0;32mexcept\u001b[0m \u001b[0mKeyError\u001b[0m\u001b[0;34m:\u001b[0m\u001b[0;34m\u001b[0m\u001b[0;34m\u001b[0m\u001b[0m\n",
      "\u001b[0;32mpandas/_libs/index.pyx\u001b[0m in \u001b[0;36mpandas._libs.index.IndexEngine.get_loc\u001b[0;34m()\u001b[0m\n",
      "\u001b[0;32mpandas/_libs/index.pyx\u001b[0m in \u001b[0;36mpandas._libs.index.IndexEngine.get_loc\u001b[0;34m()\u001b[0m\n",
      "\u001b[0;32mpandas/_libs/hashtable_class_helper.pxi\u001b[0m in \u001b[0;36mpandas._libs.hashtable.Int64HashTable.get_item\u001b[0;34m()\u001b[0m\n",
      "\u001b[0;32mpandas/_libs/hashtable_class_helper.pxi\u001b[0m in \u001b[0;36mpandas._libs.hashtable.Int64HashTable.get_item\u001b[0;34m()\u001b[0m\n",
      "\u001b[0;31mKeyError\u001b[0m: 0",
      "\nDuring handling of the above exception, another exception occurred:\n",
      "\u001b[0;31mKeyError\u001b[0m                                  Traceback (most recent call last)",
      "\u001b[0;32m<ipython-input-195-37554382571b>\u001b[0m in \u001b[0;36m<module>\u001b[0;34m\u001b[0m\n\u001b[1;32m      3\u001b[0m \u001b[0;34m\u001b[0m\u001b[0m\n\u001b[1;32m      4\u001b[0m \u001b[0;32mfor\u001b[0m \u001b[0mi\u001b[0m \u001b[0;32min\u001b[0m \u001b[0mrange\u001b[0m\u001b[0;34m(\u001b[0m\u001b[0mlen\u001b[0m\u001b[0;34m(\u001b[0m\u001b[0mreviews_e\u001b[0m\u001b[0;34m.\u001b[0m\u001b[0msentiment\u001b[0m\u001b[0;34m)\u001b[0m\u001b[0;34m)\u001b[0m\u001b[0;34m:\u001b[0m\u001b[0;34m\u001b[0m\u001b[0;34m\u001b[0m\u001b[0m\n\u001b[0;32m----> 5\u001b[0;31m     \u001b[0;32mif\u001b[0m \u001b[0mreviews_e\u001b[0m\u001b[0;34m.\u001b[0m\u001b[0msentiment\u001b[0m\u001b[0;34m[\u001b[0m\u001b[0mi\u001b[0m\u001b[0;34m]\u001b[0m \u001b[0;34m==\u001b[0m \u001b[0;36m2\u001b[0m\u001b[0;34m:\u001b[0m\u001b[0;34m\u001b[0m\u001b[0;34m\u001b[0m\u001b[0m\n\u001b[0m\u001b[1;32m      6\u001b[0m         \u001b[0mpositive\u001b[0m\u001b[0;34m.\u001b[0m\u001b[0mappend\u001b[0m\u001b[0;34m(\u001b[0m\u001b[0mreview\u001b[0m\u001b[0;34m[\u001b[0m\u001b[0mi\u001b[0m\u001b[0;34m]\u001b[0m\u001b[0;34m)\u001b[0m\u001b[0;34m\u001b[0m\u001b[0;34m\u001b[0m\u001b[0m\n",
      "\u001b[0;32m/opt/anaconda3/lib/python3.7/site-packages/pandas/core/series.py\u001b[0m in \u001b[0;36m__getitem__\u001b[0;34m(self, key)\u001b[0m\n\u001b[1;32m   1069\u001b[0m         \u001b[0mkey\u001b[0m \u001b[0;34m=\u001b[0m \u001b[0mcom\u001b[0m\u001b[0;34m.\u001b[0m\u001b[0mapply_if_callable\u001b[0m\u001b[0;34m(\u001b[0m\u001b[0mkey\u001b[0m\u001b[0;34m,\u001b[0m \u001b[0mself\u001b[0m\u001b[0;34m)\u001b[0m\u001b[0;34m\u001b[0m\u001b[0;34m\u001b[0m\u001b[0m\n\u001b[1;32m   1070\u001b[0m         \u001b[0;32mtry\u001b[0m\u001b[0;34m:\u001b[0m\u001b[0;34m\u001b[0m\u001b[0;34m\u001b[0m\u001b[0m\n\u001b[0;32m-> 1071\u001b[0;31m             \u001b[0mresult\u001b[0m \u001b[0;34m=\u001b[0m \u001b[0mself\u001b[0m\u001b[0;34m.\u001b[0m\u001b[0mindex\u001b[0m\u001b[0;34m.\u001b[0m\u001b[0mget_value\u001b[0m\u001b[0;34m(\u001b[0m\u001b[0mself\u001b[0m\u001b[0;34m,\u001b[0m \u001b[0mkey\u001b[0m\u001b[0;34m)\u001b[0m\u001b[0;34m\u001b[0m\u001b[0;34m\u001b[0m\u001b[0m\n\u001b[0m\u001b[1;32m   1072\u001b[0m \u001b[0;34m\u001b[0m\u001b[0m\n\u001b[1;32m   1073\u001b[0m             \u001b[0;32mif\u001b[0m \u001b[0;32mnot\u001b[0m \u001b[0mis_scalar\u001b[0m\u001b[0;34m(\u001b[0m\u001b[0mresult\u001b[0m\u001b[0;34m)\u001b[0m\u001b[0;34m:\u001b[0m\u001b[0;34m\u001b[0m\u001b[0;34m\u001b[0m\u001b[0m\n",
      "\u001b[0;32m/opt/anaconda3/lib/python3.7/site-packages/pandas/core/indexes/base.py\u001b[0m in \u001b[0;36mget_value\u001b[0;34m(self, series, key)\u001b[0m\n\u001b[1;32m   4715\u001b[0m             \u001b[0;31m# try that\u001b[0m\u001b[0;34m\u001b[0m\u001b[0;34m\u001b[0m\u001b[0;34m\u001b[0m\u001b[0m\n\u001b[1;32m   4716\u001b[0m             \u001b[0;32mtry\u001b[0m\u001b[0;34m:\u001b[0m\u001b[0;34m\u001b[0m\u001b[0;34m\u001b[0m\u001b[0m\n\u001b[0;32m-> 4717\u001b[0;31m                 \u001b[0miloc\u001b[0m \u001b[0;34m=\u001b[0m \u001b[0mself\u001b[0m\u001b[0;34m.\u001b[0m\u001b[0mget_loc\u001b[0m\u001b[0;34m(\u001b[0m\u001b[0mkey\u001b[0m\u001b[0;34m)\u001b[0m\u001b[0;34m\u001b[0m\u001b[0;34m\u001b[0m\u001b[0m\n\u001b[0m\u001b[1;32m   4718\u001b[0m                 \u001b[0;32mreturn\u001b[0m \u001b[0ms\u001b[0m\u001b[0;34m[\u001b[0m\u001b[0miloc\u001b[0m\u001b[0;34m]\u001b[0m\u001b[0;34m\u001b[0m\u001b[0;34m\u001b[0m\u001b[0m\n\u001b[1;32m   4719\u001b[0m             \u001b[0;32mexcept\u001b[0m \u001b[0mKeyError\u001b[0m\u001b[0;34m:\u001b[0m\u001b[0;34m\u001b[0m\u001b[0;34m\u001b[0m\u001b[0m\n",
      "\u001b[0;32m/opt/anaconda3/lib/python3.7/site-packages/pandas/core/indexes/base.py\u001b[0m in \u001b[0;36mget_loc\u001b[0;34m(self, key, method, tolerance)\u001b[0m\n\u001b[1;32m   2897\u001b[0m                 \u001b[0;32mreturn\u001b[0m \u001b[0mself\u001b[0m\u001b[0;34m.\u001b[0m\u001b[0m_engine\u001b[0m\u001b[0;34m.\u001b[0m\u001b[0mget_loc\u001b[0m\u001b[0;34m(\u001b[0m\u001b[0mkey\u001b[0m\u001b[0;34m)\u001b[0m\u001b[0;34m\u001b[0m\u001b[0;34m\u001b[0m\u001b[0m\n\u001b[1;32m   2898\u001b[0m             \u001b[0;32mexcept\u001b[0m \u001b[0mKeyError\u001b[0m\u001b[0;34m:\u001b[0m\u001b[0;34m\u001b[0m\u001b[0;34m\u001b[0m\u001b[0m\n\u001b[0;32m-> 2899\u001b[0;31m                 \u001b[0;32mreturn\u001b[0m \u001b[0mself\u001b[0m\u001b[0;34m.\u001b[0m\u001b[0m_engine\u001b[0m\u001b[0;34m.\u001b[0m\u001b[0mget_loc\u001b[0m\u001b[0;34m(\u001b[0m\u001b[0mself\u001b[0m\u001b[0;34m.\u001b[0m\u001b[0m_maybe_cast_indexer\u001b[0m\u001b[0;34m(\u001b[0m\u001b[0mkey\u001b[0m\u001b[0;34m)\u001b[0m\u001b[0;34m)\u001b[0m\u001b[0;34m\u001b[0m\u001b[0;34m\u001b[0m\u001b[0m\n\u001b[0m\u001b[1;32m   2900\u001b[0m         \u001b[0mindexer\u001b[0m \u001b[0;34m=\u001b[0m \u001b[0mself\u001b[0m\u001b[0;34m.\u001b[0m\u001b[0mget_indexer\u001b[0m\u001b[0;34m(\u001b[0m\u001b[0;34m[\u001b[0m\u001b[0mkey\u001b[0m\u001b[0;34m]\u001b[0m\u001b[0;34m,\u001b[0m \u001b[0mmethod\u001b[0m\u001b[0;34m=\u001b[0m\u001b[0mmethod\u001b[0m\u001b[0;34m,\u001b[0m \u001b[0mtolerance\u001b[0m\u001b[0;34m=\u001b[0m\u001b[0mtolerance\u001b[0m\u001b[0;34m)\u001b[0m\u001b[0;34m\u001b[0m\u001b[0;34m\u001b[0m\u001b[0m\n\u001b[1;32m   2901\u001b[0m         \u001b[0;32mif\u001b[0m \u001b[0mindexer\u001b[0m\u001b[0;34m.\u001b[0m\u001b[0mndim\u001b[0m \u001b[0;34m>\u001b[0m \u001b[0;36m1\u001b[0m \u001b[0;32mor\u001b[0m \u001b[0mindexer\u001b[0m\u001b[0;34m.\u001b[0m\u001b[0msize\u001b[0m \u001b[0;34m>\u001b[0m \u001b[0;36m1\u001b[0m\u001b[0;34m:\u001b[0m\u001b[0;34m\u001b[0m\u001b[0;34m\u001b[0m\u001b[0m\n",
      "\u001b[0;32mpandas/_libs/index.pyx\u001b[0m in \u001b[0;36mpandas._libs.index.IndexEngine.get_loc\u001b[0;34m()\u001b[0m\n",
      "\u001b[0;32mpandas/_libs/index.pyx\u001b[0m in \u001b[0;36mpandas._libs.index.IndexEngine.get_loc\u001b[0;34m()\u001b[0m\n",
      "\u001b[0;32mpandas/_libs/hashtable_class_helper.pxi\u001b[0m in \u001b[0;36mpandas._libs.hashtable.Int64HashTable.get_item\u001b[0;34m()\u001b[0m\n",
      "\u001b[0;32mpandas/_libs/hashtable_class_helper.pxi\u001b[0m in \u001b[0;36mpandas._libs.hashtable.Int64HashTable.get_item\u001b[0;34m()\u001b[0m\n",
      "\u001b[0;31mKeyError\u001b[0m: 0"
     ]
    }
   ],
   "source": [
    "review = reviews_e.review\n",
    "positive = []\n",
    "\n",
    "for i in range(len(reviews_e.sentiment)):\n",
    "    if reviews_e.sentiment[i] == 2:\n",
    "        positive.append(review[i])"
   ]
  },
  {
   "cell_type": "code",
   "execution_count": null,
   "metadata": {},
   "outputs": [],
   "source": []
  },
  {
   "cell_type": "code",
   "execution_count": 190,
   "metadata": {},
   "outputs": [
    {
     "data": {
      "text/plain": [
       "TfidfVectorizer(analyzer='word', binary=False, decode_error='strict',\n",
       "                dtype=<class 'numpy.float64'>, encoding='utf-8',\n",
       "                input='content', lowercase=True, max_df=1.0, max_features=None,\n",
       "                min_df=1, ngram_range=(1, 1), norm='l2', preprocessor=None,\n",
       "                smooth_idf=True, stop_words=None, strip_accents=None,\n",
       "                sublinear_tf=False, token_pattern='(?u)\\\\b\\\\w\\\\w+\\\\b',\n",
       "                tokenizer=None, use_idf=True, vocabulary=None)"
      ]
     },
     "execution_count": 190,
     "metadata": {},
     "output_type": "execute_result"
    }
   ],
   "source": [
    "vectorizer = TfidfVectorizer()\n",
    "vectorizer.fit(reviews_e.review)"
   ]
  },
  {
   "cell_type": "code",
   "execution_count": 191,
   "metadata": {},
   "outputs": [],
   "source": [
    "reviews_bow = vectorizer.transform(reviews_e.review)"
   ]
  },
  {
   "cell_type": "code",
   "execution_count": null,
   "metadata": {},
   "outputs": [],
   "source": []
  }
 ],
 "metadata": {
  "kernelspec": {
   "display_name": "Python 3",
   "language": "python",
   "name": "python3"
  },
  "language_info": {
   "codemirror_mode": {
    "name": "ipython",
    "version": 3
   },
   "file_extension": ".py",
   "mimetype": "text/x-python",
   "name": "python",
   "nbconvert_exporter": "python",
   "pygments_lexer": "ipython3",
   "version": "3.7.4"
  }
 },
 "nbformat": 4,
 "nbformat_minor": 2
}
